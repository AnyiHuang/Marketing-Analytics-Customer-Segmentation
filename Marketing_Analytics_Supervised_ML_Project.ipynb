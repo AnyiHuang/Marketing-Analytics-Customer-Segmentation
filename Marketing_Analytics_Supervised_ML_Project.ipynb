{
  "cells": [
    {
      "cell_type": "markdown",
      "metadata": {
        "id": "RliVhbdQqZS9"
      },
      "source": [
        "### Marketing Analytics Customer Segmentation Project"
      ]
    },
    {
      "cell_type": "code",
      "execution_count": null,
      "metadata": {
        "id": "E8uEW5O0fU-z"
      },
      "outputs": [],
      "source": [
        "import pandas as pd\n",
        "import numpy as np\n",
        "import matplotlib.pyplot as plt\n",
        "import seaborn as sns\n",
        "import datetime"
      ]
    },
    {
      "cell_type": "code",
      "execution_count": null,
      "metadata": {
        "colab": {
          "base_uri": "https://localhost:8080/"
        },
        "id": "p53k5vaFyU-I",
        "outputId": "15fe1298-2885-4c41-f27c-257f628c0c90"
      },
      "outputs": [
        {
          "name": "stdout",
          "output_type": "stream",
          "text": [
            "Collecting gower\n",
            "  Downloading https://files.pythonhosted.org/packages/98/62/dea557ca74253ff35afa6dce17c6f950ff8b7fbd3636a4df2ef0877bcf65/gower-0.0.5.tar.gz\n",
            "Requirement already satisfied: numpy in /usr/local/lib/python3.7/dist-packages (from gower) (1.19.5)\n",
            "Requirement already satisfied: scipy in /usr/local/lib/python3.7/dist-packages (from gower) (1.4.1)\n",
            "Building wheels for collected packages: gower\n",
            "  Building wheel for gower (setup.py) ... \u001b[?25l\u001b[?25hdone\n",
            "  Created wheel for gower: filename=gower-0.0.5-cp37-none-any.whl size=4232 sha256=1fde6e94f9ee5f83603d061a7a71b5709e71313e40993fd38014ea1733d890c1\n",
            "  Stored in directory: /root/.cache/pip/wheels/c0/09/9b/072d54d6ced0f43a179852e3f09532d0131e25ff7cb4e5ee75\n",
            "Successfully built gower\n",
            "Installing collected packages: gower\n",
            "Successfully installed gower-0.0.5\n"
          ]
        }
      ],
      "source": [
        "! pip install gower"
      ]
    },
    {
      "cell_type": "code",
      "execution_count": null,
      "metadata": {
        "id": "8VTBzKdwyaRj"
      },
      "outputs": [],
      "source": [
        "import gower\n",
        "from sklearn.cluster import KMeans\n",
        "from scipy.cluster.hierarchy import linkage, dendrogram\n",
        "from scipy.cluster.hierarchy import fcluster\n",
        "from sklearn.preprocessing import StandardScaler\n",
        "from sklearn.decomposition import PCA\n",
        "from scipy.cluster.hierarchy import linkage, dendrogram, fcluster\n",
        "from scipy.spatial.distance import pdist, squareform\n",
        "from sklearn import metrics "
      ]
    },
    {
      "cell_type": "code",
      "execution_count": null,
      "metadata": {
        "colab": {
          "base_uri": "https://localhost:8080/"
        },
        "id": "Q_8q6d-PiK7T",
        "outputId": "a751ae07-fde3-424b-b1ef-5a9e09a044c1"
      },
      "outputs": [
        {
          "name": "stdout",
          "output_type": "stream",
          "text": [
            "Mounted at drive\n"
          ]
        }
      ],
      "source": [
        "# connecting to google drive\n",
        "from google.colab import drive\n",
        "drive.mount('drive')"
      ]
    },
    {
      "cell_type": "code",
      "execution_count": null,
      "metadata": {
        "id": "HSPOIG7PjyUV"
      },
      "outputs": [],
      "source": [
        "# import our data file from shared drive\n",
        "path = '/content/drive/Shareddrives/BA820/marketing_data.csv'\n",
        "marketing = pd.read_csv(path)"
      ]
    },
    {
      "cell_type": "markdown",
      "metadata": {
        "id": "zXXyJhmh-jIF"
      },
      "source": [
        "# Data Cleaning"
      ]
    },
    {
      "cell_type": "code",
      "execution_count": null,
      "metadata": {
        "colab": {
          "base_uri": "https://localhost:8080/",
          "height": 224
        },
        "id": "F8Vyz7QUk0Ri",
        "outputId": "4ed29592-ab63-47fe-e765-5875632a41e8"
      },
      "outputs": [
        {
          "data": {
            "text/html": [
              "<div>\n",
              "<style scoped>\n",
              "    .dataframe tbody tr th:only-of-type {\n",
              "        vertical-align: middle;\n",
              "    }\n",
              "\n",
              "    .dataframe tbody tr th {\n",
              "        vertical-align: top;\n",
              "    }\n",
              "\n",
              "    .dataframe thead th {\n",
              "        text-align: right;\n",
              "    }\n",
              "</style>\n",
              "<table border=\"1\" class=\"dataframe\">\n",
              "  <thead>\n",
              "    <tr style=\"text-align: right;\">\n",
              "      <th></th>\n",
              "      <th>ID</th>\n",
              "      <th>Year_Birth</th>\n",
              "      <th>Education</th>\n",
              "      <th>Marital_Status</th>\n",
              "      <th>Income</th>\n",
              "      <th>Kidhome</th>\n",
              "      <th>Teenhome</th>\n",
              "      <th>Dt_Customer</th>\n",
              "      <th>Recency</th>\n",
              "      <th>MntWines</th>\n",
              "      <th>MntFruits</th>\n",
              "      <th>MntMeatProducts</th>\n",
              "      <th>MntFishProducts</th>\n",
              "      <th>MntSweetProducts</th>\n",
              "      <th>MntGoldProds</th>\n",
              "      <th>NumDealsPurchases</th>\n",
              "      <th>NumWebPurchases</th>\n",
              "      <th>NumCatalogPurchases</th>\n",
              "      <th>NumStorePurchases</th>\n",
              "      <th>NumWebVisitsMonth</th>\n",
              "      <th>AcceptedCmp3</th>\n",
              "      <th>AcceptedCmp4</th>\n",
              "      <th>AcceptedCmp5</th>\n",
              "      <th>AcceptedCmp1</th>\n",
              "      <th>AcceptedCmp2</th>\n",
              "      <th>Response</th>\n",
              "      <th>Complain</th>\n",
              "      <th>Country</th>\n",
              "    </tr>\n",
              "  </thead>\n",
              "  <tbody>\n",
              "    <tr>\n",
              "      <th>0</th>\n",
              "      <td>1826</td>\n",
              "      <td>1970</td>\n",
              "      <td>Graduation</td>\n",
              "      <td>Divorced</td>\n",
              "      <td>$84,835.00</td>\n",
              "      <td>0</td>\n",
              "      <td>0</td>\n",
              "      <td>6/16/2014</td>\n",
              "      <td>0</td>\n",
              "      <td>189</td>\n",
              "      <td>104</td>\n",
              "      <td>379</td>\n",
              "      <td>111</td>\n",
              "      <td>189</td>\n",
              "      <td>218</td>\n",
              "      <td>1</td>\n",
              "      <td>4</td>\n",
              "      <td>4</td>\n",
              "      <td>6</td>\n",
              "      <td>1</td>\n",
              "      <td>0</td>\n",
              "      <td>0</td>\n",
              "      <td>0</td>\n",
              "      <td>0</td>\n",
              "      <td>0</td>\n",
              "      <td>1</td>\n",
              "      <td>0</td>\n",
              "      <td>SP</td>\n",
              "    </tr>\n",
              "    <tr>\n",
              "      <th>1</th>\n",
              "      <td>1</td>\n",
              "      <td>1961</td>\n",
              "      <td>Graduation</td>\n",
              "      <td>Single</td>\n",
              "      <td>$57,091.00</td>\n",
              "      <td>0</td>\n",
              "      <td>0</td>\n",
              "      <td>6/15/2014</td>\n",
              "      <td>0</td>\n",
              "      <td>464</td>\n",
              "      <td>5</td>\n",
              "      <td>64</td>\n",
              "      <td>7</td>\n",
              "      <td>0</td>\n",
              "      <td>37</td>\n",
              "      <td>1</td>\n",
              "      <td>7</td>\n",
              "      <td>3</td>\n",
              "      <td>7</td>\n",
              "      <td>5</td>\n",
              "      <td>0</td>\n",
              "      <td>0</td>\n",
              "      <td>0</td>\n",
              "      <td>0</td>\n",
              "      <td>1</td>\n",
              "      <td>1</td>\n",
              "      <td>0</td>\n",
              "      <td>CA</td>\n",
              "    </tr>\n",
              "    <tr>\n",
              "      <th>2</th>\n",
              "      <td>10476</td>\n",
              "      <td>1958</td>\n",
              "      <td>Graduation</td>\n",
              "      <td>Married</td>\n",
              "      <td>$67,267.00</td>\n",
              "      <td>0</td>\n",
              "      <td>1</td>\n",
              "      <td>5/13/2014</td>\n",
              "      <td>0</td>\n",
              "      <td>134</td>\n",
              "      <td>11</td>\n",
              "      <td>59</td>\n",
              "      <td>15</td>\n",
              "      <td>2</td>\n",
              "      <td>30</td>\n",
              "      <td>1</td>\n",
              "      <td>3</td>\n",
              "      <td>2</td>\n",
              "      <td>5</td>\n",
              "      <td>2</td>\n",
              "      <td>0</td>\n",
              "      <td>0</td>\n",
              "      <td>0</td>\n",
              "      <td>0</td>\n",
              "      <td>0</td>\n",
              "      <td>0</td>\n",
              "      <td>0</td>\n",
              "      <td>US</td>\n",
              "    </tr>\n",
              "    <tr>\n",
              "      <th>3</th>\n",
              "      <td>1386</td>\n",
              "      <td>1967</td>\n",
              "      <td>Graduation</td>\n",
              "      <td>Together</td>\n",
              "      <td>$32,474.00</td>\n",
              "      <td>1</td>\n",
              "      <td>1</td>\n",
              "      <td>5/11/2014</td>\n",
              "      <td>0</td>\n",
              "      <td>10</td>\n",
              "      <td>0</td>\n",
              "      <td>1</td>\n",
              "      <td>0</td>\n",
              "      <td>0</td>\n",
              "      <td>0</td>\n",
              "      <td>1</td>\n",
              "      <td>1</td>\n",
              "      <td>0</td>\n",
              "      <td>2</td>\n",
              "      <td>7</td>\n",
              "      <td>0</td>\n",
              "      <td>0</td>\n",
              "      <td>0</td>\n",
              "      <td>0</td>\n",
              "      <td>0</td>\n",
              "      <td>0</td>\n",
              "      <td>0</td>\n",
              "      <td>AUS</td>\n",
              "    </tr>\n",
              "    <tr>\n",
              "      <th>4</th>\n",
              "      <td>5371</td>\n",
              "      <td>1989</td>\n",
              "      <td>Graduation</td>\n",
              "      <td>Single</td>\n",
              "      <td>$21,474.00</td>\n",
              "      <td>1</td>\n",
              "      <td>0</td>\n",
              "      <td>4/8/2014</td>\n",
              "      <td>0</td>\n",
              "      <td>6</td>\n",
              "      <td>16</td>\n",
              "      <td>24</td>\n",
              "      <td>11</td>\n",
              "      <td>0</td>\n",
              "      <td>34</td>\n",
              "      <td>2</td>\n",
              "      <td>3</td>\n",
              "      <td>1</td>\n",
              "      <td>2</td>\n",
              "      <td>7</td>\n",
              "      <td>1</td>\n",
              "      <td>0</td>\n",
              "      <td>0</td>\n",
              "      <td>0</td>\n",
              "      <td>0</td>\n",
              "      <td>1</td>\n",
              "      <td>0</td>\n",
              "      <td>SP</td>\n",
              "    </tr>\n",
              "  </tbody>\n",
              "</table>\n",
              "</div>"
            ],
            "text/plain": [
              "      ID  Year_Birth   Education  ... Response Complain  Country\n",
              "0   1826        1970  Graduation  ...        1        0       SP\n",
              "1      1        1961  Graduation  ...        1        0       CA\n",
              "2  10476        1958  Graduation  ...        0        0       US\n",
              "3   1386        1967  Graduation  ...        0        0      AUS\n",
              "4   5371        1989  Graduation  ...        1        0       SP\n",
              "\n",
              "[5 rows x 28 columns]"
            ]
          },
          "execution_count": 8,
          "metadata": {
            "tags": []
          },
          "output_type": "execute_result"
        }
      ],
      "source": [
        "marketing.head()"
      ]
    },
    {
      "cell_type": "code",
      "execution_count": null,
      "metadata": {
        "colab": {
          "base_uri": "https://localhost:8080/"
        },
        "id": "bT-Ayik6k3Li",
        "outputId": "ecd7c22c-22ec-4b51-d018-c18fbb4630d1"
      },
      "outputs": [
        {
          "name": "stdout",
          "output_type": "stream",
          "text": [
            "<class 'pandas.core.frame.DataFrame'>\n",
            "RangeIndex: 2240 entries, 0 to 2239\n",
            "Data columns (total 28 columns):\n",
            " #   Column               Non-Null Count  Dtype \n",
            "---  ------               --------------  ----- \n",
            " 0   ID                   2240 non-null   int64 \n",
            " 1   Year_Birth           2240 non-null   int64 \n",
            " 2   Education            2240 non-null   object\n",
            " 3   Marital_Status       2240 non-null   object\n",
            " 4   Income               2216 non-null   object\n",
            " 5   Kidhome              2240 non-null   int64 \n",
            " 6   Teenhome             2240 non-null   int64 \n",
            " 7   Dt_Customer          2240 non-null   object\n",
            " 8   Recency              2240 non-null   int64 \n",
            " 9   MntWines             2240 non-null   int64 \n",
            " 10  MntFruits            2240 non-null   int64 \n",
            " 11  MntMeatProducts      2240 non-null   int64 \n",
            " 12  MntFishProducts      2240 non-null   int64 \n",
            " 13  MntSweetProducts     2240 non-null   int64 \n",
            " 14  MntGoldProds         2240 non-null   int64 \n",
            " 15  NumDealsPurchases    2240 non-null   int64 \n",
            " 16  NumWebPurchases      2240 non-null   int64 \n",
            " 17  NumCatalogPurchases  2240 non-null   int64 \n",
            " 18  NumStorePurchases    2240 non-null   int64 \n",
            " 19  NumWebVisitsMonth    2240 non-null   int64 \n",
            " 20  AcceptedCmp3         2240 non-null   int64 \n",
            " 21  AcceptedCmp4         2240 non-null   int64 \n",
            " 22  AcceptedCmp5         2240 non-null   int64 \n",
            " 23  AcceptedCmp1         2240 non-null   int64 \n",
            " 24  AcceptedCmp2         2240 non-null   int64 \n",
            " 25  Response             2240 non-null   int64 \n",
            " 26  Complain             2240 non-null   int64 \n",
            " 27  Country              2240 non-null   object\n",
            "dtypes: int64(23), object(5)\n",
            "memory usage: 490.1+ KB\n"
          ]
        }
      ],
      "source": [
        "marketing.info()"
      ]
    },
    {
      "cell_type": "code",
      "execution_count": null,
      "metadata": {
        "id": "RjCVYBhalQ--"
      },
      "outputs": [],
      "source": [
        "# dropping ID column since it has no predictive power\n",
        "marketing = marketing.drop(['ID', 'Response'], axis=1)"
      ]
    },
    {
      "cell_type": "code",
      "execution_count": null,
      "metadata": {
        "id": "dOfl6_KalwQD"
      },
      "outputs": [],
      "source": [
        "# dropping rows where income is null\n",
        "marketing = marketing.dropna()"
      ]
    },
    {
      "cell_type": "code",
      "execution_count": null,
      "metadata": {
        "id": "qykqmCVtmF2_"
      },
      "outputs": [],
      "source": [
        "# creating a column for total amount spent in past 2 years\n",
        "marketing['TotalMntSpent'] = marketing['MntWines'] + marketing['MntFruits'] + marketing['MntMeatProducts'] + marketing['MntFishProducts'] + marketing['MntSweetProducts'] + marketing['MntGoldProds']"
      ]
    },
    {
      "cell_type": "code",
      "execution_count": null,
      "metadata": {
        "id": "wDq06P69mWEY"
      },
      "outputs": [],
      "source": [
        "# change data type of income to int (this will involve first removing the '$')\n",
        "marketing['Income_int'] = marketing['Income'].str.replace('$','').str.replace(',','').astype(float)\n",
        "marketing['Income_int'] = marketing['Income_int'].astype(int)"
      ]
    },
    {
      "cell_type": "code",
      "execution_count": null,
      "metadata": {
        "id": "A6mZG6lsAZTR"
      },
      "outputs": [],
      "source": [
        "marketing=marketing.drop(['Income'],axis=1)"
      ]
    },
    {
      "cell_type": "code",
      "execution_count": null,
      "metadata": {
        "colab": {
          "base_uri": "https://localhost:8080/",
          "height": 224
        },
        "id": "xKRHU04PQpM9",
        "outputId": "1d0b78ca-b2d1-42cb-ee92-4f49a75e7ea5"
      },
      "outputs": [
        {
          "data": {
            "text/html": [
              "<div>\n",
              "<style scoped>\n",
              "    .dataframe tbody tr th:only-of-type {\n",
              "        vertical-align: middle;\n",
              "    }\n",
              "\n",
              "    .dataframe tbody tr th {\n",
              "        vertical-align: top;\n",
              "    }\n",
              "\n",
              "    .dataframe thead th {\n",
              "        text-align: right;\n",
              "    }\n",
              "</style>\n",
              "<table border=\"1\" class=\"dataframe\">\n",
              "  <thead>\n",
              "    <tr style=\"text-align: right;\">\n",
              "      <th></th>\n",
              "      <th>Year_Birth</th>\n",
              "      <th>Education</th>\n",
              "      <th>Marital_Status</th>\n",
              "      <th>Kidhome</th>\n",
              "      <th>Teenhome</th>\n",
              "      <th>Dt_Customer</th>\n",
              "      <th>Recency</th>\n",
              "      <th>MntWines</th>\n",
              "      <th>MntFruits</th>\n",
              "      <th>MntMeatProducts</th>\n",
              "      <th>MntFishProducts</th>\n",
              "      <th>MntSweetProducts</th>\n",
              "      <th>MntGoldProds</th>\n",
              "      <th>NumDealsPurchases</th>\n",
              "      <th>NumWebPurchases</th>\n",
              "      <th>NumCatalogPurchases</th>\n",
              "      <th>NumStorePurchases</th>\n",
              "      <th>NumWebVisitsMonth</th>\n",
              "      <th>AcceptedCmp3</th>\n",
              "      <th>AcceptedCmp4</th>\n",
              "      <th>AcceptedCmp5</th>\n",
              "      <th>AcceptedCmp1</th>\n",
              "      <th>AcceptedCmp2</th>\n",
              "      <th>Complain</th>\n",
              "      <th>Country</th>\n",
              "      <th>TotalMntSpent</th>\n",
              "      <th>Income_int</th>\n",
              "    </tr>\n",
              "  </thead>\n",
              "  <tbody>\n",
              "    <tr>\n",
              "      <th>0</th>\n",
              "      <td>1970</td>\n",
              "      <td>Graduation</td>\n",
              "      <td>Divorced</td>\n",
              "      <td>0</td>\n",
              "      <td>0</td>\n",
              "      <td>6/16/2014</td>\n",
              "      <td>0</td>\n",
              "      <td>189</td>\n",
              "      <td>104</td>\n",
              "      <td>379</td>\n",
              "      <td>111</td>\n",
              "      <td>189</td>\n",
              "      <td>218</td>\n",
              "      <td>1</td>\n",
              "      <td>4</td>\n",
              "      <td>4</td>\n",
              "      <td>6</td>\n",
              "      <td>1</td>\n",
              "      <td>0</td>\n",
              "      <td>0</td>\n",
              "      <td>0</td>\n",
              "      <td>0</td>\n",
              "      <td>0</td>\n",
              "      <td>0</td>\n",
              "      <td>SP</td>\n",
              "      <td>1190</td>\n",
              "      <td>84835</td>\n",
              "    </tr>\n",
              "    <tr>\n",
              "      <th>1</th>\n",
              "      <td>1961</td>\n",
              "      <td>Graduation</td>\n",
              "      <td>Single</td>\n",
              "      <td>0</td>\n",
              "      <td>0</td>\n",
              "      <td>6/15/2014</td>\n",
              "      <td>0</td>\n",
              "      <td>464</td>\n",
              "      <td>5</td>\n",
              "      <td>64</td>\n",
              "      <td>7</td>\n",
              "      <td>0</td>\n",
              "      <td>37</td>\n",
              "      <td>1</td>\n",
              "      <td>7</td>\n",
              "      <td>3</td>\n",
              "      <td>7</td>\n",
              "      <td>5</td>\n",
              "      <td>0</td>\n",
              "      <td>0</td>\n",
              "      <td>0</td>\n",
              "      <td>0</td>\n",
              "      <td>1</td>\n",
              "      <td>0</td>\n",
              "      <td>CA</td>\n",
              "      <td>577</td>\n",
              "      <td>57091</td>\n",
              "    </tr>\n",
              "    <tr>\n",
              "      <th>2</th>\n",
              "      <td>1958</td>\n",
              "      <td>Graduation</td>\n",
              "      <td>Married</td>\n",
              "      <td>0</td>\n",
              "      <td>1</td>\n",
              "      <td>5/13/2014</td>\n",
              "      <td>0</td>\n",
              "      <td>134</td>\n",
              "      <td>11</td>\n",
              "      <td>59</td>\n",
              "      <td>15</td>\n",
              "      <td>2</td>\n",
              "      <td>30</td>\n",
              "      <td>1</td>\n",
              "      <td>3</td>\n",
              "      <td>2</td>\n",
              "      <td>5</td>\n",
              "      <td>2</td>\n",
              "      <td>0</td>\n",
              "      <td>0</td>\n",
              "      <td>0</td>\n",
              "      <td>0</td>\n",
              "      <td>0</td>\n",
              "      <td>0</td>\n",
              "      <td>US</td>\n",
              "      <td>251</td>\n",
              "      <td>67267</td>\n",
              "    </tr>\n",
              "    <tr>\n",
              "      <th>3</th>\n",
              "      <td>1967</td>\n",
              "      <td>Graduation</td>\n",
              "      <td>Together</td>\n",
              "      <td>1</td>\n",
              "      <td>1</td>\n",
              "      <td>5/11/2014</td>\n",
              "      <td>0</td>\n",
              "      <td>10</td>\n",
              "      <td>0</td>\n",
              "      <td>1</td>\n",
              "      <td>0</td>\n",
              "      <td>0</td>\n",
              "      <td>0</td>\n",
              "      <td>1</td>\n",
              "      <td>1</td>\n",
              "      <td>0</td>\n",
              "      <td>2</td>\n",
              "      <td>7</td>\n",
              "      <td>0</td>\n",
              "      <td>0</td>\n",
              "      <td>0</td>\n",
              "      <td>0</td>\n",
              "      <td>0</td>\n",
              "      <td>0</td>\n",
              "      <td>AUS</td>\n",
              "      <td>11</td>\n",
              "      <td>32474</td>\n",
              "    </tr>\n",
              "    <tr>\n",
              "      <th>4</th>\n",
              "      <td>1989</td>\n",
              "      <td>Graduation</td>\n",
              "      <td>Single</td>\n",
              "      <td>1</td>\n",
              "      <td>0</td>\n",
              "      <td>4/8/2014</td>\n",
              "      <td>0</td>\n",
              "      <td>6</td>\n",
              "      <td>16</td>\n",
              "      <td>24</td>\n",
              "      <td>11</td>\n",
              "      <td>0</td>\n",
              "      <td>34</td>\n",
              "      <td>2</td>\n",
              "      <td>3</td>\n",
              "      <td>1</td>\n",
              "      <td>2</td>\n",
              "      <td>7</td>\n",
              "      <td>1</td>\n",
              "      <td>0</td>\n",
              "      <td>0</td>\n",
              "      <td>0</td>\n",
              "      <td>0</td>\n",
              "      <td>0</td>\n",
              "      <td>SP</td>\n",
              "      <td>91</td>\n",
              "      <td>21474</td>\n",
              "    </tr>\n",
              "  </tbody>\n",
              "</table>\n",
              "</div>"
            ],
            "text/plain": [
              "   Year_Birth   Education Marital_Status  ...  Country  TotalMntSpent Income_int\n",
              "0        1970  Graduation       Divorced  ...       SP           1190      84835\n",
              "1        1961  Graduation         Single  ...       CA            577      57091\n",
              "2        1958  Graduation        Married  ...       US            251      67267\n",
              "3        1967  Graduation       Together  ...      AUS             11      32474\n",
              "4        1989  Graduation         Single  ...       SP             91      21474\n",
              "\n",
              "[5 rows x 27 columns]"
            ]
          },
          "execution_count": 15,
          "metadata": {
            "tags": []
          },
          "output_type": "execute_result"
        }
      ],
      "source": [
        "marketing.head()"
      ]
    },
    {
      "cell_type": "code",
      "execution_count": null,
      "metadata": {
        "id": "bntOcBehmcb2"
      },
      "outputs": [],
      "source": [
        "# replace 'Dt_Customer' with a column of data type int showing the number of days they have been a customer for\n",
        "\n",
        "x = datetime.datetime(2014,6,29)\n",
        "marketing['DaysSinceJoined']=(pd.to_datetime(x)-pd.to_datetime(marketing['Dt_Customer'])).dt.days"
      ]
    },
    {
      "cell_type": "code",
      "execution_count": null,
      "metadata": {
        "id": "lL4mOkd-my0N"
      },
      "outputs": [],
      "source": [
        "# Get rid of the original ‘Dt_Customer’ column (join date as customer)\n",
        "\n",
        "marketing=marketing.drop(['Dt_Customer'],axis=1)"
      ]
    },
    {
      "cell_type": "code",
      "execution_count": null,
      "metadata": {
        "id": "ZalpCwUCJx7o"
      },
      "outputs": [],
      "source": [
        "#caculate the age instead of using birth year\n",
        "marketing['Age']=\t2015-marketing['Year_Birth']\n",
        "marketing=marketing.drop(['Year_Birth'],axis=1)"
      ]
    },
    {
      "cell_type": "code",
      "execution_count": null,
      "metadata": {
        "colab": {
          "base_uri": "https://localhost:8080/"
        },
        "id": "UVzvvZaLOm4X",
        "outputId": "3bcb648a-9265-43ca-a355-bff141165309"
      },
      "outputs": [
        {
          "data": {
            "text/plain": [
              "(2216, 27)"
            ]
          },
          "execution_count": 19,
          "metadata": {
            "tags": []
          },
          "output_type": "execute_result"
        }
      ],
      "source": [
        "marketing.shape"
      ]
    },
    {
      "cell_type": "markdown",
      "metadata": {
        "id": "6mhq9OoKVw9L"
      },
      "source": [
        "#EDA"
      ]
    },
    {
      "cell_type": "code",
      "execution_count": null,
      "metadata": {
        "colab": {
          "base_uri": "https://localhost:8080/",
          "height": 317
        },
        "id": "Cbcq283YSbzS",
        "outputId": "d7af6aa0-ef8d-4391-c1b3-b99d19c18b29"
      },
      "outputs": [
        {
          "data": {
            "text/html": [
              "<div>\n",
              "<style scoped>\n",
              "    .dataframe tbody tr th:only-of-type {\n",
              "        vertical-align: middle;\n",
              "    }\n",
              "\n",
              "    .dataframe tbody tr th {\n",
              "        vertical-align: top;\n",
              "    }\n",
              "\n",
              "    .dataframe thead th {\n",
              "        text-align: right;\n",
              "    }\n",
              "</style>\n",
              "<table border=\"1\" class=\"dataframe\">\n",
              "  <thead>\n",
              "    <tr style=\"text-align: right;\">\n",
              "      <th></th>\n",
              "      <th>Kidhome</th>\n",
              "      <th>Teenhome</th>\n",
              "      <th>Recency</th>\n",
              "      <th>MntWines</th>\n",
              "      <th>MntFruits</th>\n",
              "      <th>MntMeatProducts</th>\n",
              "      <th>MntFishProducts</th>\n",
              "      <th>MntSweetProducts</th>\n",
              "      <th>MntGoldProds</th>\n",
              "      <th>NumDealsPurchases</th>\n",
              "      <th>NumWebPurchases</th>\n",
              "      <th>NumCatalogPurchases</th>\n",
              "      <th>NumStorePurchases</th>\n",
              "      <th>NumWebVisitsMonth</th>\n",
              "      <th>AcceptedCmp3</th>\n",
              "      <th>AcceptedCmp4</th>\n",
              "      <th>AcceptedCmp5</th>\n",
              "      <th>AcceptedCmp1</th>\n",
              "      <th>AcceptedCmp2</th>\n",
              "      <th>Complain</th>\n",
              "      <th>TotalMntSpent</th>\n",
              "      <th>Income_int</th>\n",
              "      <th>DaysSinceJoined</th>\n",
              "      <th>Age</th>\n",
              "    </tr>\n",
              "  </thead>\n",
              "  <tbody>\n",
              "    <tr>\n",
              "      <th>count</th>\n",
              "      <td>2216.000000</td>\n",
              "      <td>2216.000000</td>\n",
              "      <td>2216.000000</td>\n",
              "      <td>2216.000000</td>\n",
              "      <td>2216.000000</td>\n",
              "      <td>2216.000000</td>\n",
              "      <td>2216.000000</td>\n",
              "      <td>2216.000000</td>\n",
              "      <td>2216.000000</td>\n",
              "      <td>2216.000000</td>\n",
              "      <td>2216.000000</td>\n",
              "      <td>2216.000000</td>\n",
              "      <td>2216.000000</td>\n",
              "      <td>2216.000000</td>\n",
              "      <td>2216.000000</td>\n",
              "      <td>2216.000000</td>\n",
              "      <td>2216.000000</td>\n",
              "      <td>2216.000000</td>\n",
              "      <td>2216.000000</td>\n",
              "      <td>2216.000000</td>\n",
              "      <td>2216.000000</td>\n",
              "      <td>2216.000000</td>\n",
              "      <td>2216.000000</td>\n",
              "      <td>2216.000000</td>\n",
              "    </tr>\n",
              "    <tr>\n",
              "      <th>mean</th>\n",
              "      <td>0.441787</td>\n",
              "      <td>0.505415</td>\n",
              "      <td>49.012635</td>\n",
              "      <td>305.091606</td>\n",
              "      <td>26.356047</td>\n",
              "      <td>166.995939</td>\n",
              "      <td>37.637635</td>\n",
              "      <td>27.028881</td>\n",
              "      <td>43.965253</td>\n",
              "      <td>2.323556</td>\n",
              "      <td>4.085289</td>\n",
              "      <td>2.671029</td>\n",
              "      <td>5.800993</td>\n",
              "      <td>5.319043</td>\n",
              "      <td>0.073556</td>\n",
              "      <td>0.074007</td>\n",
              "      <td>0.073105</td>\n",
              "      <td>0.064079</td>\n",
              "      <td>0.013538</td>\n",
              "      <td>0.009477</td>\n",
              "      <td>607.075361</td>\n",
              "      <td>52247.251354</td>\n",
              "      <td>353.521209</td>\n",
              "      <td>46.179603</td>\n",
              "    </tr>\n",
              "    <tr>\n",
              "      <th>std</th>\n",
              "      <td>0.536896</td>\n",
              "      <td>0.544181</td>\n",
              "      <td>28.948352</td>\n",
              "      <td>337.327920</td>\n",
              "      <td>39.793917</td>\n",
              "      <td>224.283273</td>\n",
              "      <td>54.752082</td>\n",
              "      <td>41.072046</td>\n",
              "      <td>51.815414</td>\n",
              "      <td>1.923716</td>\n",
              "      <td>2.740951</td>\n",
              "      <td>2.926734</td>\n",
              "      <td>3.250785</td>\n",
              "      <td>2.425359</td>\n",
              "      <td>0.261106</td>\n",
              "      <td>0.261842</td>\n",
              "      <td>0.260367</td>\n",
              "      <td>0.244950</td>\n",
              "      <td>0.115588</td>\n",
              "      <td>0.096907</td>\n",
              "      <td>602.900476</td>\n",
              "      <td>25173.076661</td>\n",
              "      <td>202.434667</td>\n",
              "      <td>11.985554</td>\n",
              "    </tr>\n",
              "    <tr>\n",
              "      <th>min</th>\n",
              "      <td>0.000000</td>\n",
              "      <td>0.000000</td>\n",
              "      <td>0.000000</td>\n",
              "      <td>0.000000</td>\n",
              "      <td>0.000000</td>\n",
              "      <td>0.000000</td>\n",
              "      <td>0.000000</td>\n",
              "      <td>0.000000</td>\n",
              "      <td>0.000000</td>\n",
              "      <td>0.000000</td>\n",
              "      <td>0.000000</td>\n",
              "      <td>0.000000</td>\n",
              "      <td>0.000000</td>\n",
              "      <td>0.000000</td>\n",
              "      <td>0.000000</td>\n",
              "      <td>0.000000</td>\n",
              "      <td>0.000000</td>\n",
              "      <td>0.000000</td>\n",
              "      <td>0.000000</td>\n",
              "      <td>0.000000</td>\n",
              "      <td>5.000000</td>\n",
              "      <td>1730.000000</td>\n",
              "      <td>0.000000</td>\n",
              "      <td>19.000000</td>\n",
              "    </tr>\n",
              "    <tr>\n",
              "      <th>25%</th>\n",
              "      <td>0.000000</td>\n",
              "      <td>0.000000</td>\n",
              "      <td>24.000000</td>\n",
              "      <td>24.000000</td>\n",
              "      <td>2.000000</td>\n",
              "      <td>16.000000</td>\n",
              "      <td>3.000000</td>\n",
              "      <td>1.000000</td>\n",
              "      <td>9.000000</td>\n",
              "      <td>1.000000</td>\n",
              "      <td>2.000000</td>\n",
              "      <td>0.000000</td>\n",
              "      <td>3.000000</td>\n",
              "      <td>3.000000</td>\n",
              "      <td>0.000000</td>\n",
              "      <td>0.000000</td>\n",
              "      <td>0.000000</td>\n",
              "      <td>0.000000</td>\n",
              "      <td>0.000000</td>\n",
              "      <td>0.000000</td>\n",
              "      <td>69.000000</td>\n",
              "      <td>35303.000000</td>\n",
              "      <td>180.000000</td>\n",
              "      <td>38.000000</td>\n",
              "    </tr>\n",
              "    <tr>\n",
              "      <th>50%</th>\n",
              "      <td>0.000000</td>\n",
              "      <td>0.000000</td>\n",
              "      <td>49.000000</td>\n",
              "      <td>174.500000</td>\n",
              "      <td>8.000000</td>\n",
              "      <td>68.000000</td>\n",
              "      <td>12.000000</td>\n",
              "      <td>8.000000</td>\n",
              "      <td>24.500000</td>\n",
              "      <td>2.000000</td>\n",
              "      <td>4.000000</td>\n",
              "      <td>2.000000</td>\n",
              "      <td>5.000000</td>\n",
              "      <td>6.000000</td>\n",
              "      <td>0.000000</td>\n",
              "      <td>0.000000</td>\n",
              "      <td>0.000000</td>\n",
              "      <td>0.000000</td>\n",
              "      <td>0.000000</td>\n",
              "      <td>0.000000</td>\n",
              "      <td>396.500000</td>\n",
              "      <td>51381.500000</td>\n",
              "      <td>355.500000</td>\n",
              "      <td>45.000000</td>\n",
              "    </tr>\n",
              "    <tr>\n",
              "      <th>75%</th>\n",
              "      <td>1.000000</td>\n",
              "      <td>1.000000</td>\n",
              "      <td>74.000000</td>\n",
              "      <td>505.000000</td>\n",
              "      <td>33.000000</td>\n",
              "      <td>232.250000</td>\n",
              "      <td>50.000000</td>\n",
              "      <td>33.000000</td>\n",
              "      <td>56.000000</td>\n",
              "      <td>3.000000</td>\n",
              "      <td>6.000000</td>\n",
              "      <td>4.000000</td>\n",
              "      <td>8.000000</td>\n",
              "      <td>7.000000</td>\n",
              "      <td>0.000000</td>\n",
              "      <td>0.000000</td>\n",
              "      <td>0.000000</td>\n",
              "      <td>0.000000</td>\n",
              "      <td>0.000000</td>\n",
              "      <td>0.000000</td>\n",
              "      <td>1048.000000</td>\n",
              "      <td>68522.000000</td>\n",
              "      <td>529.000000</td>\n",
              "      <td>56.000000</td>\n",
              "    </tr>\n",
              "    <tr>\n",
              "      <th>max</th>\n",
              "      <td>2.000000</td>\n",
              "      <td>2.000000</td>\n",
              "      <td>99.000000</td>\n",
              "      <td>1493.000000</td>\n",
              "      <td>199.000000</td>\n",
              "      <td>1725.000000</td>\n",
              "      <td>259.000000</td>\n",
              "      <td>262.000000</td>\n",
              "      <td>321.000000</td>\n",
              "      <td>15.000000</td>\n",
              "      <td>27.000000</td>\n",
              "      <td>28.000000</td>\n",
              "      <td>13.000000</td>\n",
              "      <td>20.000000</td>\n",
              "      <td>1.000000</td>\n",
              "      <td>1.000000</td>\n",
              "      <td>1.000000</td>\n",
              "      <td>1.000000</td>\n",
              "      <td>1.000000</td>\n",
              "      <td>1.000000</td>\n",
              "      <td>2525.000000</td>\n",
              "      <td>666666.000000</td>\n",
              "      <td>699.000000</td>\n",
              "      <td>122.000000</td>\n",
              "    </tr>\n",
              "  </tbody>\n",
              "</table>\n",
              "</div>"
            ],
            "text/plain": [
              "           Kidhome     Teenhome  ...  DaysSinceJoined          Age\n",
              "count  2216.000000  2216.000000  ...      2216.000000  2216.000000\n",
              "mean      0.441787     0.505415  ...       353.521209    46.179603\n",
              "std       0.536896     0.544181  ...       202.434667    11.985554\n",
              "min       0.000000     0.000000  ...         0.000000    19.000000\n",
              "25%       0.000000     0.000000  ...       180.000000    38.000000\n",
              "50%       0.000000     0.000000  ...       355.500000    45.000000\n",
              "75%       1.000000     1.000000  ...       529.000000    56.000000\n",
              "max       2.000000     2.000000  ...       699.000000   122.000000\n",
              "\n",
              "[8 rows x 24 columns]"
            ]
          },
          "execution_count": 23,
          "metadata": {
            "tags": []
          },
          "output_type": "execute_result"
        }
      ],
      "source": [
        "marketing.describe()"
      ]
    },
    {
      "cell_type": "code",
      "execution_count": null,
      "metadata": {
        "colab": {
          "base_uri": "https://localhost:8080/",
          "height": 317
        },
        "id": "jAm0PVtYgGdB",
        "outputId": "eec148f3-9670-421d-decf-5ba771f71605"
      },
      "outputs": [
        {
          "data": {
            "text/html": [
              "<div>\n",
              "<style scoped>\n",
              "    .dataframe tbody tr th:only-of-type {\n",
              "        vertical-align: middle;\n",
              "    }\n",
              "\n",
              "    .dataframe tbody tr th {\n",
              "        vertical-align: top;\n",
              "    }\n",
              "\n",
              "    .dataframe thead th {\n",
              "        text-align: right;\n",
              "    }\n",
              "</style>\n",
              "<table border=\"1\" class=\"dataframe\">\n",
              "  <thead>\n",
              "    <tr style=\"text-align: right;\">\n",
              "      <th></th>\n",
              "      <th>Kidhome</th>\n",
              "      <th>Teenhome</th>\n",
              "      <th>Recency</th>\n",
              "      <th>MntWines</th>\n",
              "      <th>MntFruits</th>\n",
              "      <th>MntMeatProducts</th>\n",
              "      <th>MntFishProducts</th>\n",
              "      <th>MntSweetProducts</th>\n",
              "      <th>MntGoldProds</th>\n",
              "      <th>NumDealsPurchases</th>\n",
              "      <th>NumWebPurchases</th>\n",
              "      <th>NumCatalogPurchases</th>\n",
              "      <th>NumStorePurchases</th>\n",
              "      <th>NumWebVisitsMonth</th>\n",
              "      <th>AcceptedCmp3</th>\n",
              "      <th>AcceptedCmp4</th>\n",
              "      <th>AcceptedCmp5</th>\n",
              "      <th>AcceptedCmp1</th>\n",
              "      <th>AcceptedCmp2</th>\n",
              "      <th>Complain</th>\n",
              "      <th>TotalMntSpent</th>\n",
              "      <th>Income_int</th>\n",
              "      <th>DaysSinceJoined</th>\n",
              "      <th>Age</th>\n",
              "    </tr>\n",
              "  </thead>\n",
              "  <tbody>\n",
              "    <tr>\n",
              "      <th>count</th>\n",
              "      <td>555.000000</td>\n",
              "      <td>555.000000</td>\n",
              "      <td>555.000000</td>\n",
              "      <td>555.000000</td>\n",
              "      <td>555.000000</td>\n",
              "      <td>555.000000</td>\n",
              "      <td>555.000000</td>\n",
              "      <td>555.000000</td>\n",
              "      <td>555.000000</td>\n",
              "      <td>555.000000</td>\n",
              "      <td>555.000000</td>\n",
              "      <td>555.000000</td>\n",
              "      <td>555.000000</td>\n",
              "      <td>555.000000</td>\n",
              "      <td>555.000000</td>\n",
              "      <td>555.000000</td>\n",
              "      <td>555.000000</td>\n",
              "      <td>555.000000</td>\n",
              "      <td>555.000000</td>\n",
              "      <td>555.000000</td>\n",
              "      <td>555.000000</td>\n",
              "      <td>555.000000</td>\n",
              "      <td>555.000000</td>\n",
              "      <td>555.000000</td>\n",
              "    </tr>\n",
              "    <tr>\n",
              "      <th>mean</th>\n",
              "      <td>0.061261</td>\n",
              "      <td>0.315315</td>\n",
              "      <td>49.825225</td>\n",
              "      <td>741.356757</td>\n",
              "      <td>62.136937</td>\n",
              "      <td>455.018018</td>\n",
              "      <td>89.614414</td>\n",
              "      <td>64.036036</td>\n",
              "      <td>79.212613</td>\n",
              "      <td>1.857658</td>\n",
              "      <td>5.627027</td>\n",
              "      <td>5.929730</td>\n",
              "      <td>8.481081</td>\n",
              "      <td>3.627027</td>\n",
              "      <td>0.093694</td>\n",
              "      <td>0.160360</td>\n",
              "      <td>0.268468</td>\n",
              "      <td>0.198198</td>\n",
              "      <td>0.043243</td>\n",
              "      <td>0.003604</td>\n",
              "      <td>1491.374775</td>\n",
              "      <td>75243.196396</td>\n",
              "      <td>397.414414</td>\n",
              "      <td>47.127928</td>\n",
              "    </tr>\n",
              "    <tr>\n",
              "      <th>std</th>\n",
              "      <td>0.240025</td>\n",
              "      <td>0.495138</td>\n",
              "      <td>29.156185</td>\n",
              "      <td>302.380696</td>\n",
              "      <td>50.111421</td>\n",
              "      <td>254.196000</td>\n",
              "      <td>68.788898</td>\n",
              "      <td>52.102532</td>\n",
              "      <td>63.183689</td>\n",
              "      <td>2.033898</td>\n",
              "      <td>2.503353</td>\n",
              "      <td>2.894118</td>\n",
              "      <td>2.839431</td>\n",
              "      <td>2.254476</td>\n",
              "      <td>0.291665</td>\n",
              "      <td>0.367271</td>\n",
              "      <td>0.443562</td>\n",
              "      <td>0.399002</td>\n",
              "      <td>0.203588</td>\n",
              "      <td>0.059976</td>\n",
              "      <td>329.577182</td>\n",
              "      <td>12305.414337</td>\n",
              "      <td>203.134164</td>\n",
              "      <td>13.034245</td>\n",
              "    </tr>\n",
              "    <tr>\n",
              "      <th>min</th>\n",
              "      <td>0.000000</td>\n",
              "      <td>0.000000</td>\n",
              "      <td>0.000000</td>\n",
              "      <td>1.000000</td>\n",
              "      <td>0.000000</td>\n",
              "      <td>45.000000</td>\n",
              "      <td>0.000000</td>\n",
              "      <td>0.000000</td>\n",
              "      <td>0.000000</td>\n",
              "      <td>0.000000</td>\n",
              "      <td>0.000000</td>\n",
              "      <td>2.000000</td>\n",
              "      <td>0.000000</td>\n",
              "      <td>0.000000</td>\n",
              "      <td>0.000000</td>\n",
              "      <td>0.000000</td>\n",
              "      <td>0.000000</td>\n",
              "      <td>0.000000</td>\n",
              "      <td>0.000000</td>\n",
              "      <td>0.000000</td>\n",
              "      <td>1048.000000</td>\n",
              "      <td>2447.000000</td>\n",
              "      <td>2.000000</td>\n",
              "      <td>20.000000</td>\n",
              "    </tr>\n",
              "    <tr>\n",
              "      <th>25%</th>\n",
              "      <td>0.000000</td>\n",
              "      <td>0.000000</td>\n",
              "      <td>25.000000</td>\n",
              "      <td>508.500000</td>\n",
              "      <td>22.000000</td>\n",
              "      <td>258.000000</td>\n",
              "      <td>33.000000</td>\n",
              "      <td>22.000000</td>\n",
              "      <td>30.000000</td>\n",
              "      <td>1.000000</td>\n",
              "      <td>4.000000</td>\n",
              "      <td>4.000000</td>\n",
              "      <td>6.000000</td>\n",
              "      <td>2.000000</td>\n",
              "      <td>0.000000</td>\n",
              "      <td>0.000000</td>\n",
              "      <td>0.000000</td>\n",
              "      <td>0.000000</td>\n",
              "      <td>0.000000</td>\n",
              "      <td>0.000000</td>\n",
              "      <td>1198.000000</td>\n",
              "      <td>68211.500000</td>\n",
              "      <td>224.000000</td>\n",
              "      <td>38.000000</td>\n",
              "    </tr>\n",
              "    <tr>\n",
              "      <th>50%</th>\n",
              "      <td>0.000000</td>\n",
              "      <td>0.000000</td>\n",
              "      <td>52.000000</td>\n",
              "      <td>737.000000</td>\n",
              "      <td>50.000000</td>\n",
              "      <td>420.000000</td>\n",
              "      <td>76.000000</td>\n",
              "      <td>50.000000</td>\n",
              "      <td>57.000000</td>\n",
              "      <td>1.000000</td>\n",
              "      <td>5.000000</td>\n",
              "      <td>6.000000</td>\n",
              "      <td>9.000000</td>\n",
              "      <td>3.000000</td>\n",
              "      <td>0.000000</td>\n",
              "      <td>0.000000</td>\n",
              "      <td>0.000000</td>\n",
              "      <td>0.000000</td>\n",
              "      <td>0.000000</td>\n",
              "      <td>0.000000</td>\n",
              "      <td>1440.000000</td>\n",
              "      <td>75330.000000</td>\n",
              "      <td>422.000000</td>\n",
              "      <td>46.000000</td>\n",
              "    </tr>\n",
              "    <tr>\n",
              "      <th>75%</th>\n",
              "      <td>0.000000</td>\n",
              "      <td>1.000000</td>\n",
              "      <td>74.500000</td>\n",
              "      <td>963.000000</td>\n",
              "      <td>93.000000</td>\n",
              "      <td>608.500000</td>\n",
              "      <td>140.000000</td>\n",
              "      <td>98.000000</td>\n",
              "      <td>119.000000</td>\n",
              "      <td>2.000000</td>\n",
              "      <td>7.000000</td>\n",
              "      <td>7.000000</td>\n",
              "      <td>11.000000</td>\n",
              "      <td>5.500000</td>\n",
              "      <td>0.000000</td>\n",
              "      <td>0.000000</td>\n",
              "      <td>1.000000</td>\n",
              "      <td>0.000000</td>\n",
              "      <td>0.000000</td>\n",
              "      <td>0.000000</td>\n",
              "      <td>1694.000000</td>\n",
              "      <td>82019.500000</td>\n",
              "      <td>583.500000</td>\n",
              "      <td>57.000000</td>\n",
              "    </tr>\n",
              "    <tr>\n",
              "      <th>max</th>\n",
              "      <td>1.000000</td>\n",
              "      <td>2.000000</td>\n",
              "      <td>99.000000</td>\n",
              "      <td>1493.000000</td>\n",
              "      <td>199.000000</td>\n",
              "      <td>1725.000000</td>\n",
              "      <td>259.000000</td>\n",
              "      <td>198.000000</td>\n",
              "      <td>249.000000</td>\n",
              "      <td>15.000000</td>\n",
              "      <td>11.000000</td>\n",
              "      <td>28.000000</td>\n",
              "      <td>13.000000</td>\n",
              "      <td>9.000000</td>\n",
              "      <td>1.000000</td>\n",
              "      <td>1.000000</td>\n",
              "      <td>1.000000</td>\n",
              "      <td>1.000000</td>\n",
              "      <td>1.000000</td>\n",
              "      <td>1.000000</td>\n",
              "      <td>2525.000000</td>\n",
              "      <td>160803.000000</td>\n",
              "      <td>697.000000</td>\n",
              "      <td>116.000000</td>\n",
              "    </tr>\n",
              "  </tbody>\n",
              "</table>\n",
              "</div>"
            ],
            "text/plain": [
              "          Kidhome    Teenhome  ...  DaysSinceJoined         Age\n",
              "count  555.000000  555.000000  ...       555.000000  555.000000\n",
              "mean     0.061261    0.315315  ...       397.414414   47.127928\n",
              "std      0.240025    0.495138  ...       203.134164   13.034245\n",
              "min      0.000000    0.000000  ...         2.000000   20.000000\n",
              "25%      0.000000    0.000000  ...       224.000000   38.000000\n",
              "50%      0.000000    0.000000  ...       422.000000   46.000000\n",
              "75%      0.000000    1.000000  ...       583.500000   57.000000\n",
              "max      1.000000    2.000000  ...       697.000000  116.000000\n",
              "\n",
              "[8 rows x 24 columns]"
            ]
          },
          "execution_count": 24,
          "metadata": {
            "tags": []
          },
          "output_type": "execute_result"
        }
      ],
      "source": [
        "# want to look at how the stats compare for just the top 25% highest spending customers (from total amount spent)\n",
        "marketing[marketing['TotalMntSpent']>= 1048].describe()"
      ]
    },
    {
      "cell_type": "code",
      "execution_count": null,
      "metadata": {
        "colab": {
          "base_uri": "https://localhost:8080/",
          "height": 266
        },
        "id": "juIky4jBSxTe",
        "outputId": "6e6be7df-b83f-489c-b21a-b66ebac40aa0"
      },
      "outputs": [
        {
          "data": {
            "text/html": [
              "<div>\n",
              "<style scoped>\n",
              "    .dataframe tbody tr th:only-of-type {\n",
              "        vertical-align: middle;\n",
              "    }\n",
              "\n",
              "    .dataframe tbody tr th {\n",
              "        vertical-align: top;\n",
              "    }\n",
              "\n",
              "    .dataframe thead th {\n",
              "        text-align: right;\n",
              "    }\n",
              "</style>\n",
              "<table border=\"1\" class=\"dataframe\">\n",
              "  <thead>\n",
              "    <tr style=\"text-align: right;\">\n",
              "      <th>Marital_Status</th>\n",
              "      <th>Absurd</th>\n",
              "      <th>Alone</th>\n",
              "      <th>Divorced</th>\n",
              "      <th>Married</th>\n",
              "      <th>Single</th>\n",
              "      <th>Together</th>\n",
              "      <th>Widow</th>\n",
              "      <th>YOLO</th>\n",
              "      <th>All</th>\n",
              "    </tr>\n",
              "    <tr>\n",
              "      <th>Education</th>\n",
              "      <th></th>\n",
              "      <th></th>\n",
              "      <th></th>\n",
              "      <th></th>\n",
              "      <th></th>\n",
              "      <th></th>\n",
              "      <th></th>\n",
              "      <th></th>\n",
              "      <th></th>\n",
              "    </tr>\n",
              "  </thead>\n",
              "  <tbody>\n",
              "    <tr>\n",
              "      <th>2n Cycle</th>\n",
              "      <td>NaN</td>\n",
              "      <td>NaN</td>\n",
              "      <td>651.173913</td>\n",
              "      <td>427.725000</td>\n",
              "      <td>553.500000</td>\n",
              "      <td>472.839286</td>\n",
              "      <td>677.200000</td>\n",
              "      <td>NaN</td>\n",
              "      <td>494.930000</td>\n",
              "    </tr>\n",
              "    <tr>\n",
              "      <th>Basic</th>\n",
              "      <td>NaN</td>\n",
              "      <td>NaN</td>\n",
              "      <td>29.000000</td>\n",
              "      <td>122.850000</td>\n",
              "      <td>57.722222</td>\n",
              "      <td>56.428571</td>\n",
              "      <td>102.000000</td>\n",
              "      <td>NaN</td>\n",
              "      <td>81.796296</td>\n",
              "    </tr>\n",
              "    <tr>\n",
              "      <th>Graduation</th>\n",
              "      <td>1216.0</td>\n",
              "      <td>89.000000</td>\n",
              "      <td>616.411765</td>\n",
              "      <td>595.752914</td>\n",
              "      <td>615.621951</td>\n",
              "      <td>661.133333</td>\n",
              "      <td>677.142857</td>\n",
              "      <td>NaN</td>\n",
              "      <td>621.686380</td>\n",
              "    </tr>\n",
              "    <tr>\n",
              "      <th>Master</th>\n",
              "      <td>1169.0</td>\n",
              "      <td>632.000000</td>\n",
              "      <td>551.297297</td>\n",
              "      <td>566.666667</td>\n",
              "      <td>746.040000</td>\n",
              "      <td>560.980392</td>\n",
              "      <td>817.545455</td>\n",
              "      <td>NaN</td>\n",
              "      <td>609.767123</td>\n",
              "    </tr>\n",
              "    <tr>\n",
              "      <th>PhD</th>\n",
              "      <td>NaN</td>\n",
              "      <td>49.000000</td>\n",
              "      <td>632.865385</td>\n",
              "      <td>718.063158</td>\n",
              "      <td>626.770833</td>\n",
              "      <td>654.801724</td>\n",
              "      <td>797.666667</td>\n",
              "      <td>424.0</td>\n",
              "      <td>676.733888</td>\n",
              "    </tr>\n",
              "    <tr>\n",
              "      <th>All</th>\n",
              "      <td>1192.5</td>\n",
              "      <td>256.666667</td>\n",
              "      <td>610.629310</td>\n",
              "      <td>591.464411</td>\n",
              "      <td>612.592357</td>\n",
              "      <td>608.846422</td>\n",
              "      <td>727.960526</td>\n",
              "      <td>424.0</td>\n",
              "      <td>607.075361</td>\n",
              "    </tr>\n",
              "  </tbody>\n",
              "</table>\n",
              "</div>"
            ],
            "text/plain": [
              "Marital_Status  Absurd       Alone    Divorced  ...       Widow   YOLO         All\n",
              "Education                                       ...                               \n",
              "2n Cycle           NaN         NaN  651.173913  ...  677.200000    NaN  494.930000\n",
              "Basic              NaN         NaN   29.000000  ...  102.000000    NaN   81.796296\n",
              "Graduation      1216.0   89.000000  616.411765  ...  677.142857    NaN  621.686380\n",
              "Master          1169.0  632.000000  551.297297  ...  817.545455    NaN  609.767123\n",
              "PhD                NaN   49.000000  632.865385  ...  797.666667  424.0  676.733888\n",
              "All             1192.5  256.666667  610.629310  ...  727.960526  424.0  607.075361\n",
              "\n",
              "[6 rows x 9 columns]"
            ]
          },
          "execution_count": 20,
          "metadata": {
            "tags": []
          },
          "output_type": "execute_result"
        }
      ],
      "source": [
        "# looking at different average total amount spent values for each marital status and each level of education\n",
        "marketing.pivot_table(values='TotalMntSpent', index='Education', columns='Marital_Status', aggfunc='mean', margins=True)\n"
      ]
    },
    {
      "cell_type": "code",
      "execution_count": null,
      "metadata": {
        "id": "WiQLpnqEJR7o"
      },
      "outputs": [],
      "source": []
    },
    {
      "cell_type": "code",
      "execution_count": null,
      "metadata": {
        "colab": {
          "base_uri": "https://localhost:8080/",
          "height": 204
        },
        "id": "xAIHP7YPZF5N",
        "outputId": "af7d93c7-b71e-4f12-a99f-2508ba99f7a3"
      },
      "outputs": [
        {
          "data": {
            "text/html": [
              "<div>\n",
              "<style scoped>\n",
              "    .dataframe tbody tr th:only-of-type {\n",
              "        vertical-align: middle;\n",
              "    }\n",
              "\n",
              "    .dataframe tbody tr th {\n",
              "        vertical-align: top;\n",
              "    }\n",
              "\n",
              "    .dataframe thead th {\n",
              "        text-align: right;\n",
              "    }\n",
              "</style>\n",
              "<table border=\"1\" class=\"dataframe\">\n",
              "  <thead>\n",
              "    <tr style=\"text-align: right;\">\n",
              "      <th>Teenhome</th>\n",
              "      <th>0</th>\n",
              "      <th>1</th>\n",
              "      <th>2</th>\n",
              "      <th>All</th>\n",
              "    </tr>\n",
              "    <tr>\n",
              "      <th>Kidhome</th>\n",
              "      <th></th>\n",
              "      <th></th>\n",
              "      <th></th>\n",
              "      <th></th>\n",
              "    </tr>\n",
              "  </thead>\n",
              "  <tbody>\n",
              "    <tr>\n",
              "      <th>0</th>\n",
              "      <td>1105.248025</td>\n",
              "      <td>705.438710</td>\n",
              "      <td>673.600000</td>\n",
              "      <td>901.950117</td>\n",
              "    </tr>\n",
              "    <tr>\n",
              "      <th>1</th>\n",
              "      <td>186.857143</td>\n",
              "      <td>215.685637</td>\n",
              "      <td>446.476190</td>\n",
              "      <td>204.996618</td>\n",
              "    </tr>\n",
              "    <tr>\n",
              "      <th>2</th>\n",
              "      <td>167.411765</td>\n",
              "      <td>117.206897</td>\n",
              "      <td>NaN</td>\n",
              "      <td>135.760870</td>\n",
              "    </tr>\n",
              "    <tr>\n",
              "      <th>All</th>\n",
              "      <td>693.405405</td>\n",
              "      <td>511.158153</td>\n",
              "      <td>580.078431</td>\n",
              "      <td>607.075361</td>\n",
              "    </tr>\n",
              "  </tbody>\n",
              "</table>\n",
              "</div>"
            ],
            "text/plain": [
              "Teenhome            0           1           2         All\n",
              "Kidhome                                                  \n",
              "0         1105.248025  705.438710  673.600000  901.950117\n",
              "1          186.857143  215.685637  446.476190  204.996618\n",
              "2          167.411765  117.206897         NaN  135.760870\n",
              "All        693.405405  511.158153  580.078431  607.075361"
            ]
          },
          "execution_count": 21,
          "metadata": {
            "tags": []
          },
          "output_type": "execute_result"
        }
      ],
      "source": [
        "# comparing what types of households (number of kids/teens) spend the most vs. the least\n",
        "table = marketing.pivot_table(values='TotalMntSpent', index='Kidhome', columns='Teenhome', aggfunc='mean', margins=True)\n",
        "table"
      ]
    },
    {
      "cell_type": "code",
      "execution_count": null,
      "metadata": {
        "colab": {
          "base_uri": "https://localhost:8080/",
          "height": 296
        },
        "id": "oxDIHF4kWb7M",
        "outputId": "f6ad3001-ecb9-4e06-d4f5-99bc6f320e30"
      },
      "outputs": [
        {
          "data": {
            "text/plain": [
              "<matplotlib.axes._subplots.AxesSubplot at 0x7f6bcc128b10>"
            ]
          },
          "execution_count": 24,
          "metadata": {
            "tags": []
          },
          "output_type": "execute_result"
        },
        {
          "data": {
            "image/png": "[encoded data removed]",
            "text/plain": [
              "<Figure size 432x288 with 1 Axes>"
            ]
          },
          "metadata": {
            "needs_background": "light",
            "tags": []
          },
          "output_type": "display_data"
        }
      ],
      "source": [
        "# this plot is not great, but trying to show which combination of teens and kids home leads to highest total amount spent\n",
        "table.plot(kind='bar',rot=0)"
      ]
    },
    {
      "cell_type": "code",
      "execution_count": null,
      "metadata": {
        "colab": {
          "base_uri": "https://localhost:8080/",
          "height": 312
        },
        "id": "i_wIyY__XBGG",
        "outputId": "f79797bd-60b5-4b8e-ac5b-9ac7f0101a98"
      },
      "outputs": [
        {
          "data": {
            "text/plain": [
              "(0.0, 200000.0)"
            ]
          },
          "execution_count": 25,
          "metadata": {
            "tags": []
          },
          "output_type": "execute_result"
        },
        {
          "data": {
            "image/png": "[encoded data removed]",
            "text/plain": [
              "<Figure size 432x288 with 1 Axes>"
            ]
          },
          "metadata": {
            "needs_background": "light",
            "tags": []
          },
          "output_type": "display_data"
        }
      ],
      "source": [
        "x = marketing['Income_int']\n",
        "y = marketing['TotalMntSpent']\n",
        "\n",
        "\n",
        "z=np.polyfit(x,y,1)\n",
        "p=np.poly1d(z)\n",
        "plt.plot(x,p(x),\"r--\")\n",
        "plt.scatter(x,y, alpha=0.3)\n",
        "plt.ylabel('Total Amount Spent')\n",
        "plt.xlabel('Income')\n",
        "plt.title('Total Amount Spent vs. Income')\n",
        "plt.ylim(0,4000)\n",
        "plt.xlim(0,200000)\n",
        "\n",
        "# these two variables show a positive correlation, as income increases, the total amount spent also increases"
      ]
    },
    {
      "cell_type": "code",
      "execution_count": null,
      "metadata": {
        "colab": {
          "base_uri": "https://localhost:8080/",
          "height": 317
        },
        "id": "1XyB-QZgTgWa",
        "outputId": "9ff048c2-dc86-4290-b485-1865982ea204"
      },
      "outputs": [
        {
          "data": {
            "text/html": [
              "<div>\n",
              "<style scoped>\n",
              "    .dataframe tbody tr th:only-of-type {\n",
              "        vertical-align: middle;\n",
              "    }\n",
              "\n",
              "    .dataframe tbody tr th {\n",
              "        vertical-align: top;\n",
              "    }\n",
              "\n",
              "    .dataframe thead th {\n",
              "        text-align: right;\n",
              "    }\n",
              "</style>\n",
              "<table border=\"1\" class=\"dataframe\">\n",
              "  <thead>\n",
              "    <tr style=\"text-align: right;\">\n",
              "      <th></th>\n",
              "      <th>DaysSinceJoined</th>\n",
              "    </tr>\n",
              "    <tr>\n",
              "      <th>Country</th>\n",
              "      <th></th>\n",
              "    </tr>\n",
              "  </thead>\n",
              "  <tbody>\n",
              "    <tr>\n",
              "      <th>ME</th>\n",
              "      <td>495.333333</td>\n",
              "    </tr>\n",
              "    <tr>\n",
              "      <th>AUS</th>\n",
              "      <td>362.795918</td>\n",
              "    </tr>\n",
              "    <tr>\n",
              "      <th>SP</th>\n",
              "      <td>359.662397</td>\n",
              "    </tr>\n",
              "    <tr>\n",
              "      <th>GER</th>\n",
              "      <td>355.206897</td>\n",
              "    </tr>\n",
              "    <tr>\n",
              "      <th>US</th>\n",
              "      <td>354.728972</td>\n",
              "    </tr>\n",
              "    <tr>\n",
              "      <th>IND</th>\n",
              "      <td>347.965986</td>\n",
              "    </tr>\n",
              "    <tr>\n",
              "      <th>CA</th>\n",
              "      <td>340.255639</td>\n",
              "    </tr>\n",
              "    <tr>\n",
              "      <th>SA</th>\n",
              "      <td>340.225519</td>\n",
              "    </tr>\n",
              "  </tbody>\n",
              "</table>\n",
              "</div>"
            ],
            "text/plain": [
              "         DaysSinceJoined\n",
              "Country                 \n",
              "ME            495.333333\n",
              "AUS           362.795918\n",
              "SP            359.662397\n",
              "GER           355.206897\n",
              "US            354.728972\n",
              "IND           347.965986\n",
              "CA            340.255639\n",
              "SA            340.225519"
            ]
          },
          "execution_count": 26,
          "metadata": {
            "tags": []
          },
          "output_type": "execute_result"
        }
      ],
      "source": [
        "# which countries have the longest customers vs. most recent\n",
        "table = marketing.pivot_table(values='DaysSinceJoined', index='Country', aggfunc='mean').sort_values(by='DaysSinceJoined', ascending=False)\n",
        "table"
      ]
    },
    {
      "cell_type": "code",
      "execution_count": null,
      "metadata": {
        "colab": {
          "base_uri": "https://localhost:8080/",
          "height": 307
        },
        "id": "vpX8HFe5Yyy0",
        "outputId": "ebf5c5cb-f779-449a-c496-950844503764"
      },
      "outputs": [
        {
          "data": {
            "text/plain": [
              "<matplotlib.axes._subplots.AxesSubplot at 0x7f6bcbb531d0>"
            ]
          },
          "execution_count": 27,
          "metadata": {
            "tags": []
          },
          "output_type": "execute_result"
        },
        {
          "data": {
            "image/png": "[encoded data removed]",
            "text/plain": [
              "<Figure size 432x288 with 1 Axes>"
            ]
          },
          "metadata": {
            "needs_background": "light",
            "tags": []
          },
          "output_type": "display_data"
        }
      ],
      "source": [
        "# average number of days have been customer for by country\n",
        "table.plot(kind='bar')"
      ]
    },
    {
      "cell_type": "code",
      "execution_count": null,
      "metadata": {
        "colab": {
          "base_uri": "https://localhost:8080/",
          "height": 317
        },
        "id": "XM9cWmNWUvOZ",
        "outputId": "7a4ad676-43fb-4edd-82e5-ea914957b3e3"
      },
      "outputs": [
        {
          "data": {
            "text/html": [
              "<div>\n",
              "<style scoped>\n",
              "    .dataframe tbody tr th:only-of-type {\n",
              "        vertical-align: middle;\n",
              "    }\n",
              "\n",
              "    .dataframe tbody tr th {\n",
              "        vertical-align: top;\n",
              "    }\n",
              "\n",
              "    .dataframe thead th {\n",
              "        text-align: right;\n",
              "    }\n",
              "</style>\n",
              "<table border=\"1\" class=\"dataframe\">\n",
              "  <thead>\n",
              "    <tr style=\"text-align: right;\">\n",
              "      <th></th>\n",
              "      <th>TotalMntSpent</th>\n",
              "    </tr>\n",
              "    <tr>\n",
              "      <th>Country</th>\n",
              "      <th></th>\n",
              "    </tr>\n",
              "  </thead>\n",
              "  <tbody>\n",
              "    <tr>\n",
              "      <th>SP</th>\n",
              "      <td>659557</td>\n",
              "    </tr>\n",
              "    <tr>\n",
              "      <th>SA</th>\n",
              "      <td>211071</td>\n",
              "    </tr>\n",
              "    <tr>\n",
              "      <th>CA</th>\n",
              "      <td>167403</td>\n",
              "    </tr>\n",
              "    <tr>\n",
              "      <th>AUS</th>\n",
              "      <td>85576</td>\n",
              "    </tr>\n",
              "    <tr>\n",
              "      <th>IND</th>\n",
              "      <td>77806</td>\n",
              "    </tr>\n",
              "    <tr>\n",
              "      <th>GER</th>\n",
              "      <td>73198</td>\n",
              "    </tr>\n",
              "    <tr>\n",
              "      <th>US</th>\n",
              "      <td>67546</td>\n",
              "    </tr>\n",
              "    <tr>\n",
              "      <th>ME</th>\n",
              "      <td>3122</td>\n",
              "    </tr>\n",
              "  </tbody>\n",
              "</table>\n",
              "</div>"
            ],
            "text/plain": [
              "         TotalMntSpent\n",
              "Country               \n",
              "SP              659557\n",
              "SA              211071\n",
              "CA              167403\n",
              "AUS              85576\n",
              "IND              77806\n",
              "GER              73198\n",
              "US               67546\n",
              "ME                3122"
            ]
          },
          "execution_count": 28,
          "metadata": {
            "tags": []
          },
          "output_type": "execute_result"
        }
      ],
      "source": [
        "# which countries' customers spent the most money on average\n",
        "table = marketing.pivot_table(values='TotalMntSpent', index='Country', aggfunc='sum').sort_values(by='TotalMntSpent', ascending=False)\n",
        "table"
      ]
    },
    {
      "cell_type": "code",
      "execution_count": null,
      "metadata": {
        "colab": {
          "base_uri": "https://localhost:8080/",
          "height": 307
        },
        "id": "7RcVCU65WrZ0",
        "outputId": "e56ea4ed-5c83-466d-e43e-c7b8a5f753e0"
      },
      "outputs": [
        {
          "data": {
            "text/plain": [
              "<matplotlib.axes._subplots.AxesSubplot at 0x7f6bcba9b3d0>"
            ]
          },
          "execution_count": 29,
          "metadata": {
            "tags": []
          },
          "output_type": "execute_result"
        },
        {
          "data": {
            "image/png": "[encoded data removed]",
            "text/plain": [
              "<Figure size 432x288 with 1 Axes>"
            ]
          },
          "metadata": {
            "needs_background": "light",
            "tags": []
          },
          "output_type": "display_data"
        }
      ],
      "source": [
        "# average total amount spent per country\n",
        "table.plot(kind='bar')"
      ]
    },
    {
      "cell_type": "code",
      "execution_count": null,
      "metadata": {
        "colab": {
          "base_uri": "https://localhost:8080/"
        },
        "id": "nalxQF8IaYAY",
        "outputId": "2101d1f3-c828-49a8-a3f6-7e15013fed2e"
      },
      "outputs": [
        {
          "name": "stdout",
          "output_type": "stream",
          "text": [
            "78872.62676056338 71054.83333333333 50802.58282208589 68663.23170731707 82352.82716049382\n"
          ]
        }
      ],
      "source": [
        "print((marketing[marketing['AcceptedCmp1']==1])['Income_int'].mean(),(marketing[marketing['AcceptedCmp2']==1])['Income_int'].mean(),\\\n",
        "      (marketing[marketing['AcceptedCmp3']==1])['Income_int'].mean(),(marketing[marketing['AcceptedCmp4']==1])['Income_int'].mean(),\\\n",
        "      (marketing[marketing['AcceptedCmp5']==1])['Income_int'].mean())"
      ]
    },
    {
      "cell_type": "code",
      "execution_count": null,
      "metadata": {
        "colab": {
          "base_uri": "https://localhost:8080/"
        },
        "id": "xY3kljDfYeVk",
        "outputId": "653565f0-e764-4474-c0ca-0c059903ffcc"
      },
      "outputs": [
        {
          "name": "stdout",
          "output_type": "stream",
          "text": [
            "142 30 163 164 162\n"
          ]
        }
      ],
      "source": [
        "print((marketing[marketing['AcceptedCmp1']==1])['Income_int'].count(),(marketing[marketing['AcceptedCmp2']==1])['Income_int'].count(),\\\n",
        "      (marketing[marketing['AcceptedCmp3']==1])['Income_int'].count(),(marketing[marketing['AcceptedCmp4']==1])['Income_int'].count(),\\\n",
        "      (marketing[marketing['AcceptedCmp5']==1])['Income_int'].count())"
      ]
    },
    {
      "cell_type": "code",
      "execution_count": null,
      "metadata": {
        "colab": {
          "base_uri": "https://localhost:8080/",
          "height": 296
        },
        "id": "kkORz2-CYmNG",
        "outputId": "b212b188-ca02-4439-efa7-b01343bab03b"
      },
      "outputs": [
        {
          "data": {
            "text/plain": [
              "<matplotlib.axes._subplots.AxesSubplot at 0x7f6bcc0f30d0>"
            ]
          },
          "execution_count": 32,
          "metadata": {
            "tags": []
          },
          "output_type": "execute_result"
        },
        {
          "data": {
            "image/png": "[encoded data removed]",
            "text/plain": [
              "<Figure size 432x288 with 1 Axes>"
            ]
          },
          "metadata": {
            "needs_background": "light",
            "tags": []
          },
          "output_type": "display_data"
        }
      ],
      "source": [
        "# number of customers who accepted each campaign\n",
        "temp_table=pd.DataFrame(data={'Cmp':['AccCmp1','AccCmp2','AccCmp3','AccCmp4','AccCmp5'],'count':[142,30,163,164,162]})\n",
        "sns.barplot(data=temp_table,y='count',x='Cmp')"
      ]
    },
    {
      "cell_type": "code",
      "execution_count": null,
      "metadata": {
        "colab": {
          "base_uri": "https://localhost:8080/",
          "height": 296
        },
        "id": "JwFTvLgX1Jxy",
        "outputId": "855d9389-80c7-4776-a3dc-02bada530a77"
      },
      "outputs": [
        {
          "data": {
            "text/plain": [
              "<matplotlib.axes._subplots.AxesSubplot at 0x7f6bcd1b2d10>"
            ]
          },
          "execution_count": 33,
          "metadata": {
            "tags": []
          },
          "output_type": "execute_result"
        },
        {
          "data": {
            "image/png": "[encoded data removed]",
            "text/plain": [
              "<Figure size 432x288 with 1 Axes>"
            ]
          },
          "metadata": {
            "needs_background": "light",
            "tags": []
          },
          "output_type": "display_data"
        }
      ],
      "source": [
        "# average income of customers who accepted each different campaign\n",
        "temp_table=pd.DataFrame(data={'Cmp':['AccCmp1','AccCmp2','AccCmp3','AccCmp4','AccCmp5'],'Income_mean':[71054,50802,68663,82352,52247]})\n",
        "sns.barplot(data=temp_table,y='Income_mean',x='Cmp')"
      ]
    },
    {
      "cell_type": "code",
      "execution_count": null,
      "metadata": {
        "colab": {
          "base_uri": "https://localhost:8080/"
        },
        "id": "7CiQ5fI_7sGO",
        "outputId": "b0e7c2a2-602b-49e1-8d9d-9e7c91ffcc2d"
      },
      "outputs": [
        {
          "name": "stdout",
          "output_type": "stream",
          "text": [
            "Kidhome                    0.084507\n",
            "Teenhome                   0.204225\n",
            "Recency                   46.683099\n",
            "MntWines                 758.028169\n",
            "MntFruits                 55.521127\n",
            "MntMeatProducts          435.288732\n",
            "MntFishProducts           92.366197\n",
            "MntSweetProducts          65.492958\n",
            "MntGoldProds              77.647887\n",
            "NumDealsPurchases          1.387324\n",
            "NumWebPurchases            5.753521\n",
            "NumCatalogPurchases        6.126761\n",
            "NumStorePurchases          8.021127\n",
            "NumWebVisitsMonth          3.514085\n",
            "AcceptedCmp3               0.169014\n",
            "AcceptedCmp4               0.316901\n",
            "AcceptedCmp5               0.478873\n",
            "AcceptedCmp1               1.000000\n",
            "AcceptedCmp2               0.091549\n",
            "Complain                   0.000000\n",
            "TotalMntSpent           1484.345070\n",
            "Income_int             78872.626761\n",
            "DaysSinceJoined          322.690141\n",
            "Age                       46.619718\n",
            "dtype: float64 Kidhome                    0.066667\n",
            "Teenhome                   0.433333\n",
            "Recency                   48.666667\n",
            "MntWines                 898.666667\n",
            "MntFruits                 22.966667\n",
            "MntMeatProducts          250.300000\n",
            "MntFishProducts           38.733333\n",
            "MntSweetProducts          30.600000\n",
            "MntGoldProds              66.400000\n",
            "NumDealsPurchases          1.700000\n",
            "NumWebPurchases            4.900000\n",
            "NumCatalogPurchases        5.166667\n",
            "NumStorePurchases          8.166667\n",
            "NumWebVisitsMonth          5.166667\n",
            "AcceptedCmp3               0.233333\n",
            "AcceptedCmp4               0.733333\n",
            "AcceptedCmp5               0.566667\n",
            "AcceptedCmp1               0.433333\n",
            "AcceptedCmp2               1.000000\n",
            "Complain                   0.000000\n",
            "TotalMntSpent           1307.666667\n",
            "Income_int             71054.833333\n",
            "DaysSinceJoined          364.100000\n",
            "Age                       46.866667\n",
            "dtype: float64 Kidhome                    0.472393\n",
            "Teenhome                   0.423313\n",
            "Recency                   45.699387\n",
            "MntWines                 378.656442\n",
            "MntFruits                 28.392638\n",
            "MntMeatProducts          181.668712\n",
            "MntFishProducts           37.595092\n",
            "MntSweetProducts          27.288344\n",
            "MntGoldProds              66.938650\n",
            "NumDealsPurchases          2.165644\n",
            "NumWebPurchases            4.503067\n",
            "NumCatalogPurchases        3.754601\n",
            "NumStorePurchases          5.006135\n",
            "NumWebVisitsMonth          5.846626\n",
            "AcceptedCmp3               1.000000\n",
            "AcceptedCmp4               0.000000\n",
            "AcceptedCmp5               0.147239\n",
            "AcceptedCmp1               0.147239\n",
            "AcceptedCmp2               0.042945\n",
            "Complain                   0.012270\n",
            "TotalMntSpent            720.539877\n",
            "Income_int             50802.582822\n",
            "DaysSinceJoined          348.018405\n",
            "Age                       43.552147\n",
            "dtype: float64 Kidhome                    0.134146\n",
            "Teenhome                   0.579268\n",
            "Recency                   50.810976\n",
            "MntWines                 750.231707\n",
            "MntFruits                 27.256098\n",
            "MntMeatProducts          239.664634\n",
            "MntFishProducts           40.756098\n",
            "MntSweetProducts          31.286585\n",
            "MntGoldProds              48.365854\n",
            "NumDealsPurchases          2.432927\n",
            "NumWebPurchases            5.664634\n",
            "NumCatalogPurchases        4.121951\n",
            "NumStorePurchases          7.847561\n",
            "NumWebVisitsMonth          5.073171\n",
            "AcceptedCmp3               0.000000\n",
            "AcceptedCmp4               1.000000\n",
            "AcceptedCmp5               0.359756\n",
            "AcceptedCmp1               0.274390\n",
            "AcceptedCmp2               0.134146\n",
            "Complain                   0.000000\n",
            "TotalMntSpent           1137.560976\n",
            "Income_int             68663.231707\n",
            "DaysSinceJoined          364.951220\n",
            "Age                       48.981707\n",
            "dtype: float64 Kidhome                    0.049383\n",
            "Teenhome                   0.135802\n",
            "Recency                   48.962963\n",
            "MntWines                 873.765432\n",
            "MntFruits                 56.512346\n",
            "MntMeatProducts          467.901235\n",
            "MntFishProducts           75.895062\n",
            "MntSweetProducts          64.932099\n",
            "MntGoldProds              77.425926\n",
            "NumDealsPurchases          1.061728\n",
            "NumWebPurchases            5.462963\n",
            "NumCatalogPurchases        6.030864\n",
            "NumStorePurchases          8.265432\n",
            "NumWebVisitsMonth          2.919753\n",
            "AcceptedCmp3               0.148148\n",
            "AcceptedCmp4               0.364198\n",
            "AcceptedCmp5               1.000000\n",
            "AcceptedCmp1               0.419753\n",
            "AcceptedCmp2               0.104938\n",
            "Complain                   0.006173\n",
            "TotalMntSpent           1616.432099\n",
            "Income_int             82352.827160\n",
            "DaysSinceJoined          349.975309\n",
            "Age                       45.728395\n",
            "dtype: float64\n"
          ]
        }
      ],
      "source": [
        "# averages for all variables broken down by customers who accepted each separate campaign\n",
        "print((marketing[marketing['AcceptedCmp1']==1]).mean(),(marketing[marketing['AcceptedCmp2']==1]).mean(),\\\n",
        "      (marketing[marketing['AcceptedCmp3']==1]).mean(),(marketing[marketing['AcceptedCmp4']==1]).mean(),\\\n",
        "      (marketing[marketing['AcceptedCmp5']==1]).mean())"
      ]
    },
    {
      "cell_type": "code",
      "execution_count": null,
      "metadata": {
        "colab": {
          "base_uri": "https://localhost:8080/"
        },
        "id": "HMzKjxyU6n_6",
        "outputId": "71087464-bbfd-430f-d785-d76ec9c3b75a"
      },
      "outputs": [
        {
          "data": {
            "text/plain": [
              "46.61971830985915"
            ]
          },
          "execution_count": 35,
          "metadata": {
            "tags": []
          },
          "output_type": "execute_result"
        }
      ],
      "source": [
        "#mean of cmp1\n",
        "((marketing[marketing['AcceptedCmp1']==1]).mean()).Age"
      ]
    },
    {
      "cell_type": "code",
      "execution_count": null,
      "metadata": {
        "id": "QD1kclFz91Jc"
      },
      "outputs": [],
      "source": [
        "#table for mean of each featrure group by cmp\n",
        "sum_accpted_cmp=pd.concat([(marketing[marketing['AcceptedCmp1']==1]).mean(),(marketing[marketing['AcceptedCmp2']==1]).mean()\\\n",
        "                           ,(marketing[marketing['AcceptedCmp3']==1]).mean(),(marketing[marketing['AcceptedCmp2']==1]).mean()\\\n",
        "                           ,(marketing[marketing['AcceptedCmp2']==1]).mean()],axis=1)"
      ]
    },
    {
      "cell_type": "code",
      "execution_count": null,
      "metadata": {
        "id": "vlwKr4nQ99y8"
      },
      "outputs": [],
      "source": [
        "sum_accpted_cmp.columns = ['AcceptedCmp1', 'AcceptedCmp2','AcceptedCmp3','AcceptedCmp4','AcceptedCmp5']\n",
        "\n",
        "sum_accpted_cmp_scale=sum_accpted_cmp\n",
        "\n",
        "from sklearn.preprocessing import StandardScaler\n",
        "\n",
        "sc = StandardScaler()\n",
        "sum_accpted_cmp_scale[['AcceptedCmp1', 'AcceptedCmp2','AcceptedCmp3','AcceptedCmp4','AcceptedCmp5']]= sc.fit_transform(sum_accpted_cmp_scale[['AcceptedCmp1', 'AcceptedCmp2','AcceptedCmp3','AcceptedCmp4','AcceptedCmp5']])\n",
        "\n",
        "\n",
        "#as the Income_int and TotalMntSpent is much larger than other feature so we drop it for heat map\n",
        "sum_accpted_cmp_scale=sum_accpted_cmp\n",
        "sum_accpted_cmp_scale=sum_accpted_cmp_scale.drop(['Income_int','AcceptedCmp1','AcceptedCmp2','AcceptedCmp3','AcceptedCmp4','AcceptedCmp5','TotalMntSpent'])\n",
        "sc = StandardScaler()\n",
        "sum_accpted_cmp_scale[['AcceptedCmp1', 'AcceptedCmp2','AcceptedCmp3','AcceptedCmp4','AcceptedCmp5']]= sc.fit_transform(sum_accpted_cmp_scale[['AcceptedCmp1', 'AcceptedCmp2','AcceptedCmp3','AcceptedCmp4','AcceptedCmp5']])\n",
        "\n"
      ]
    },
    {
      "cell_type": "code",
      "execution_count": null,
      "metadata": {
        "colab": {
          "base_uri": "https://localhost:8080/",
          "height": 348
        },
        "id": "Zle_lUuf7PNA",
        "outputId": "22917b5b-cf5d-4255-e107-5eab4d01ee6a"
      },
      "outputs": [
        {
          "data": {
            "text/plain": [
              "<matplotlib.axes._subplots.AxesSubplot at 0x7f6bcb942390>"
            ]
          },
          "execution_count": 38,
          "metadata": {
            "tags": []
          },
          "output_type": "execute_result"
        },
        {
          "data": {
            "image/png": "[encoded data removed]",
            "text/plain": [
              "<Figure size 432x288 with 2 Axes>"
            ]
          },
          "metadata": {
            "needs_background": "light",
            "tags": []
          },
          "output_type": "display_data"
        }
      ],
      "source": [
        "# heatmap comparing correlation between all variables and each campaign type\n",
        "sns.heatmap(sum_accpted_cmp_scale, annot = True, cbar = True)"
      ]
    },
    {
      "cell_type": "code",
      "execution_count": null,
      "metadata": {
        "colab": {
          "base_uri": "https://localhost:8080/"
        },
        "id": "16E0ke3N-paA",
        "outputId": "5f82655e-dd52-46ed-91f3-a11ebe759949"
      },
      "outputs": [
        {
          "data": {
            "text/plain": [
              "595.3210355987055"
            ]
          },
          "execution_count": 39,
          "metadata": {
            "tags": []
          },
          "output_type": "execute_result"
        }
      ],
      "source": [
        "marketing[marketing[\"NumStorePurchases\"]>marketing[\"NumWebPurchases\"]][\"TotalMntSpent\"].mean()"
      ]
    },
    {
      "cell_type": "code",
      "execution_count": null,
      "metadata": {
        "colab": {
          "base_uri": "https://localhost:8080/"
        },
        "id": "w8CyBeT6-roM",
        "outputId": "013769c1-032a-4e1a-91a7-4237b8d9c18a"
      },
      "outputs": [
        {
          "data": {
            "text/plain": [
              "731.8288043478261"
            ]
          },
          "execution_count": 40,
          "metadata": {
            "tags": []
          },
          "output_type": "execute_result"
        }
      ],
      "source": [
        "marketing[marketing[\"NumStorePurchases\"]<marketing[\"NumWebPurchases\"]][\"TotalMntSpent\"].mean()"
      ]
    },
    {
      "cell_type": "code",
      "execution_count": null,
      "metadata": {
        "colab": {
          "base_uri": "https://localhost:8080/",
          "height": 282
        },
        "id": "EaOoDMux8BnN",
        "outputId": "50b6be71-c281-4a93-befa-f91d912508c8"
      },
      "outputs": [
        {
          "data": {
            "text/plain": [
              "<BarContainer object of 2 artists>"
            ]
          },
          "execution_count": 41,
          "metadata": {
            "tags": []
          },
          "output_type": "execute_result"
        },
        {
          "data": {
            "image/png": "[encoded data removed]",
            "text/plain": [
              "<Figure size 432x288 with 1 Axes>"
            ]
          },
          "metadata": {
            "needs_background": "light",
            "tags": []
          },
          "output_type": "display_data"
        }
      ],
      "source": [
        "# want to see which purchase way spends more\n",
        "# The customers who are more likely use online purchase spend more\n",
        "x=[\"more in-store purchase\",\"more web purchase\"]\n",
        "y=[marketing[marketing[\"NumStorePurchases\"]>marketing[\"NumWebPurchases\"]][\"TotalMntSpent\"].mean(),marketing[marketing[\"NumStorePurchases\"]<marketing[\"NumWebPurchases\"]][\"TotalMntSpent\"].mean()]\n",
        "plt.bar(x, y,width = 0.4) "
      ]
    },
    {
      "cell_type": "markdown",
      "metadata": {
        "id": "69OrJVQ78OS_"
      },
      "source": [
        "#Cluster Analysis"
      ]
    },
    {
      "cell_type": "markdown",
      "metadata": {
        "id": "SSQW_9q1rYEH"
      },
      "source": [
        "### Hierarchical Clustering"
      ]
    },
    {
      "cell_type": "code",
      "execution_count": null,
      "metadata": {
        "id": "q9IwkgkH8SbJ"
      },
      "outputs": [],
      "source": [
        "#drop country tage which does not provide a lot information\n",
        "marketing2 = marketing.drop('Country', axis=1)"
      ]
    },
    {
      "cell_type": "code",
      "execution_count": null,
      "metadata": {
        "colab": {
          "base_uri": "https://localhost:8080/",
          "height": 224
        },
        "id": "fD13jpoB3V-w",
        "outputId": "86f02879-798a-40bd-8cc4-e59db0237c78"
      },
      "outputs": [
        {
          "data": {
            "text/html": [
              "<div>\n",
              "<style scoped>\n",
              "    .dataframe tbody tr th:only-of-type {\n",
              "        vertical-align: middle;\n",
              "    }\n",
              "\n",
              "    .dataframe tbody tr th {\n",
              "        vertical-align: top;\n",
              "    }\n",
              "\n",
              "    .dataframe thead th {\n",
              "        text-align: right;\n",
              "    }\n",
              "</style>\n",
              "<table border=\"1\" class=\"dataframe\">\n",
              "  <thead>\n",
              "    <tr style=\"text-align: right;\">\n",
              "      <th></th>\n",
              "      <th>Education</th>\n",
              "      <th>Marital_Status</th>\n",
              "      <th>Kidhome</th>\n",
              "      <th>Teenhome</th>\n",
              "      <th>Recency</th>\n",
              "      <th>MntWines</th>\n",
              "      <th>MntFruits</th>\n",
              "      <th>MntMeatProducts</th>\n",
              "      <th>MntFishProducts</th>\n",
              "      <th>MntSweetProducts</th>\n",
              "      <th>MntGoldProds</th>\n",
              "      <th>NumDealsPurchases</th>\n",
              "      <th>NumWebPurchases</th>\n",
              "      <th>NumCatalogPurchases</th>\n",
              "      <th>NumStorePurchases</th>\n",
              "      <th>NumWebVisitsMonth</th>\n",
              "      <th>AcceptedCmp3</th>\n",
              "      <th>AcceptedCmp4</th>\n",
              "      <th>AcceptedCmp5</th>\n",
              "      <th>AcceptedCmp1</th>\n",
              "      <th>AcceptedCmp2</th>\n",
              "      <th>Complain</th>\n",
              "      <th>TotalMntSpent</th>\n",
              "      <th>Income_int</th>\n",
              "      <th>DaysSinceJoined</th>\n",
              "      <th>Age</th>\n",
              "    </tr>\n",
              "  </thead>\n",
              "  <tbody>\n",
              "    <tr>\n",
              "      <th>0</th>\n",
              "      <td>Graduation</td>\n",
              "      <td>Divorced</td>\n",
              "      <td>0</td>\n",
              "      <td>0</td>\n",
              "      <td>0</td>\n",
              "      <td>189</td>\n",
              "      <td>104</td>\n",
              "      <td>379</td>\n",
              "      <td>111</td>\n",
              "      <td>189</td>\n",
              "      <td>218</td>\n",
              "      <td>1</td>\n",
              "      <td>4</td>\n",
              "      <td>4</td>\n",
              "      <td>6</td>\n",
              "      <td>1</td>\n",
              "      <td>0</td>\n",
              "      <td>0</td>\n",
              "      <td>0</td>\n",
              "      <td>0</td>\n",
              "      <td>0</td>\n",
              "      <td>0</td>\n",
              "      <td>1190</td>\n",
              "      <td>84835</td>\n",
              "      <td>13</td>\n",
              "      <td>45</td>\n",
              "    </tr>\n",
              "    <tr>\n",
              "      <th>1</th>\n",
              "      <td>Graduation</td>\n",
              "      <td>Single</td>\n",
              "      <td>0</td>\n",
              "      <td>0</td>\n",
              "      <td>0</td>\n",
              "      <td>464</td>\n",
              "      <td>5</td>\n",
              "      <td>64</td>\n",
              "      <td>7</td>\n",
              "      <td>0</td>\n",
              "      <td>37</td>\n",
              "      <td>1</td>\n",
              "      <td>7</td>\n",
              "      <td>3</td>\n",
              "      <td>7</td>\n",
              "      <td>5</td>\n",
              "      <td>0</td>\n",
              "      <td>0</td>\n",
              "      <td>0</td>\n",
              "      <td>0</td>\n",
              "      <td>1</td>\n",
              "      <td>0</td>\n",
              "      <td>577</td>\n",
              "      <td>57091</td>\n",
              "      <td>14</td>\n",
              "      <td>54</td>\n",
              "    </tr>\n",
              "    <tr>\n",
              "      <th>2</th>\n",
              "      <td>Graduation</td>\n",
              "      <td>Married</td>\n",
              "      <td>0</td>\n",
              "      <td>1</td>\n",
              "      <td>0</td>\n",
              "      <td>134</td>\n",
              "      <td>11</td>\n",
              "      <td>59</td>\n",
              "      <td>15</td>\n",
              "      <td>2</td>\n",
              "      <td>30</td>\n",
              "      <td>1</td>\n",
              "      <td>3</td>\n",
              "      <td>2</td>\n",
              "      <td>5</td>\n",
              "      <td>2</td>\n",
              "      <td>0</td>\n",
              "      <td>0</td>\n",
              "      <td>0</td>\n",
              "      <td>0</td>\n",
              "      <td>0</td>\n",
              "      <td>0</td>\n",
              "      <td>251</td>\n",
              "      <td>67267</td>\n",
              "      <td>47</td>\n",
              "      <td>57</td>\n",
              "    </tr>\n",
              "    <tr>\n",
              "      <th>3</th>\n",
              "      <td>Graduation</td>\n",
              "      <td>Together</td>\n",
              "      <td>1</td>\n",
              "      <td>1</td>\n",
              "      <td>0</td>\n",
              "      <td>10</td>\n",
              "      <td>0</td>\n",
              "      <td>1</td>\n",
              "      <td>0</td>\n",
              "      <td>0</td>\n",
              "      <td>0</td>\n",
              "      <td>1</td>\n",
              "      <td>1</td>\n",
              "      <td>0</td>\n",
              "      <td>2</td>\n",
              "      <td>7</td>\n",
              "      <td>0</td>\n",
              "      <td>0</td>\n",
              "      <td>0</td>\n",
              "      <td>0</td>\n",
              "      <td>0</td>\n",
              "      <td>0</td>\n",
              "      <td>11</td>\n",
              "      <td>32474</td>\n",
              "      <td>49</td>\n",
              "      <td>48</td>\n",
              "    </tr>\n",
              "    <tr>\n",
              "      <th>4</th>\n",
              "      <td>Graduation</td>\n",
              "      <td>Single</td>\n",
              "      <td>1</td>\n",
              "      <td>0</td>\n",
              "      <td>0</td>\n",
              "      <td>6</td>\n",
              "      <td>16</td>\n",
              "      <td>24</td>\n",
              "      <td>11</td>\n",
              "      <td>0</td>\n",
              "      <td>34</td>\n",
              "      <td>2</td>\n",
              "      <td>3</td>\n",
              "      <td>1</td>\n",
              "      <td>2</td>\n",
              "      <td>7</td>\n",
              "      <td>1</td>\n",
              "      <td>0</td>\n",
              "      <td>0</td>\n",
              "      <td>0</td>\n",
              "      <td>0</td>\n",
              "      <td>0</td>\n",
              "      <td>91</td>\n",
              "      <td>21474</td>\n",
              "      <td>82</td>\n",
              "      <td>26</td>\n",
              "    </tr>\n",
              "  </tbody>\n",
              "</table>\n",
              "</div>"
            ],
            "text/plain": [
              "    Education Marital_Status  Kidhome  ...  Income_int  DaysSinceJoined  Age\n",
              "0  Graduation       Divorced        0  ...       84835               13   45\n",
              "1  Graduation         Single        0  ...       57091               14   54\n",
              "2  Graduation        Married        0  ...       67267               47   57\n",
              "3  Graduation       Together        1  ...       32474               49   48\n",
              "4  Graduation         Single        1  ...       21474               82   26\n",
              "\n",
              "[5 rows x 26 columns]"
            ]
          },
          "execution_count": 21,
          "metadata": {
            "tags": []
          },
          "output_type": "execute_result"
        }
      ],
      "source": [
        "marketing2.head()"
      ]
    },
    {
      "cell_type": "code",
      "execution_count": null,
      "metadata": {
        "colab": {
          "base_uri": "https://localhost:8080/"
        },
        "id": "vfAmDlcI4ZaY",
        "outputId": "454e59ea-cc6a-4fb0-a124-4cfd72077731"
      },
      "outputs": [
        {
          "data": {
            "text/plain": [
              "Index(['Education', 'Marital_Status', 'Kidhome', 'Teenhome', 'Recency',\n",
              "       'MntWines', 'MntFruits', 'MntMeatProducts', 'MntFishProducts',\n",
              "       'MntSweetProducts', 'MntGoldProds', 'NumDealsPurchases',\n",
              "       'NumWebPurchases', 'NumCatalogPurchases', 'NumStorePurchases',\n",
              "       'NumWebVisitsMonth', 'AcceptedCmp3', 'AcceptedCmp4', 'AcceptedCmp5',\n",
              "       'AcceptedCmp1', 'AcceptedCmp2', 'Complain', 'TotalMntSpent',\n",
              "       'Income_int', 'DaysSinceJoined', 'Age'],\n",
              "      dtype='object')"
            ]
          },
          "execution_count": 22,
          "metadata": {
            "tags": []
          },
          "output_type": "execute_result"
        }
      ],
      "source": [
        "marketing2.columns"
      ]
    },
    {
      "cell_type": "code",
      "execution_count": null,
      "metadata": {
        "id": "5pCkGhUFCWKZ"
      },
      "outputs": [],
      "source": [
        "# splitting data up between numerical and categorical\n",
        "\n",
        "num_COLS = ['Kidhome', 'Teenhome', 'Recency',\n",
        "       'MntWines', 'MntFruits', 'MntMeatProducts', 'MntFishProducts',\n",
        "       'MntSweetProducts', 'MntGoldProds', 'NumDealsPurchases',\n",
        "       'NumWebPurchases', 'NumCatalogPurchases', 'NumStorePurchases',\n",
        "       'NumWebVisitsMonth', 'TotalMntSpent',\n",
        "       'Income_int', 'DaysSinceJoined', 'Age']\n",
        "\n",
        "marketing_n = marketing2.loc[:, num_COLS]\n",
        "marketing_c = marketing2.drop(columns=num_COLS)"
      ]
    },
    {
      "cell_type": "code",
      "execution_count": null,
      "metadata": {
        "id": "x5uF8nj1BB-u"
      },
      "outputs": [],
      "source": [
        "#normalize the dataset\n",
        "sc = StandardScaler()\n",
        "marketing_n_scaled = sc.fit_transform(marketing_n)\n",
        "marketing_n_scaled = pd.DataFrame(marketing_n_scaled, columns=marketing_n.columns, index=marketing_n.index)"
      ]
    },
    {
      "cell_type": "code",
      "execution_count": null,
      "metadata": {
        "colab": {
          "base_uri": "https://localhost:8080/",
          "height": 439
        },
        "id": "FMAhefCQkhxA",
        "outputId": "d8e02fab-ebf8-4758-e991-eee1dc73f481"
      },
      "outputs": [
        {
          "data": {
            "text/html": [
              "<div>\n",
              "<style scoped>\n",
              "    .dataframe tbody tr th:only-of-type {\n",
              "        vertical-align: middle;\n",
              "    }\n",
              "\n",
              "    .dataframe tbody tr th {\n",
              "        vertical-align: top;\n",
              "    }\n",
              "\n",
              "    .dataframe thead th {\n",
              "        text-align: right;\n",
              "    }\n",
              "</style>\n",
              "<table border=\"1\" class=\"dataframe\">\n",
              "  <thead>\n",
              "    <tr style=\"text-align: right;\">\n",
              "      <th></th>\n",
              "      <th>Kidhome</th>\n",
              "      <th>Teenhome</th>\n",
              "      <th>Recency</th>\n",
              "      <th>MntWines</th>\n",
              "      <th>MntFruits</th>\n",
              "      <th>MntMeatProducts</th>\n",
              "      <th>MntFishProducts</th>\n",
              "      <th>MntSweetProducts</th>\n",
              "      <th>MntGoldProds</th>\n",
              "      <th>NumDealsPurchases</th>\n",
              "      <th>NumWebPurchases</th>\n",
              "      <th>NumCatalogPurchases</th>\n",
              "      <th>NumStorePurchases</th>\n",
              "      <th>NumWebVisitsMonth</th>\n",
              "      <th>TotalMntSpent</th>\n",
              "      <th>Income_int</th>\n",
              "      <th>DaysSinceJoined</th>\n",
              "      <th>Age</th>\n",
              "    </tr>\n",
              "  </thead>\n",
              "  <tbody>\n",
              "    <tr>\n",
              "      <th>0</th>\n",
              "      <td>-0.823039</td>\n",
              "      <td>-0.928972</td>\n",
              "      <td>-1.693488</td>\n",
              "      <td>-0.344228</td>\n",
              "      <td>1.951592</td>\n",
              "      <td>0.945465</td>\n",
              "      <td>1.340203</td>\n",
              "      <td>3.944475</td>\n",
              "      <td>3.359503</td>\n",
              "      <td>-0.688176</td>\n",
              "      <td>-0.031124</td>\n",
              "      <td>0.454182</td>\n",
              "      <td>0.061232</td>\n",
              "      <td>-1.781187</td>\n",
              "      <td>0.967085</td>\n",
              "      <td>1.294840</td>\n",
              "      <td>-1.682509</td>\n",
              "      <td>-0.098441</td>\n",
              "    </tr>\n",
              "    <tr>\n",
              "      <th>1</th>\n",
              "      <td>-0.823039</td>\n",
              "      <td>-0.928972</td>\n",
              "      <td>-1.693488</td>\n",
              "      <td>0.471186</td>\n",
              "      <td>-0.536787</td>\n",
              "      <td>-0.459326</td>\n",
              "      <td>-0.559697</td>\n",
              "      <td>-0.658233</td>\n",
              "      <td>-0.134455</td>\n",
              "      <td>-0.688176</td>\n",
              "      <td>1.063634</td>\n",
              "      <td>0.112428</td>\n",
              "      <td>0.368919</td>\n",
              "      <td>-0.131574</td>\n",
              "      <td>-0.049896</td>\n",
              "      <td>0.192461</td>\n",
              "      <td>-1.677568</td>\n",
              "      <td>0.652633</td>\n",
              "    </tr>\n",
              "    <tr>\n",
              "      <th>2</th>\n",
              "      <td>-0.823039</td>\n",
              "      <td>0.909066</td>\n",
              "      <td>-1.693488</td>\n",
              "      <td>-0.507311</td>\n",
              "      <td>-0.385976</td>\n",
              "      <td>-0.481624</td>\n",
              "      <td>-0.413550</td>\n",
              "      <td>-0.609527</td>\n",
              "      <td>-0.269580</td>\n",
              "      <td>-0.688176</td>\n",
              "      <td>-0.396043</td>\n",
              "      <td>-0.229327</td>\n",
              "      <td>-0.246455</td>\n",
              "      <td>-1.368784</td>\n",
              "      <td>-0.590737</td>\n",
              "      <td>0.596794</td>\n",
              "      <td>-1.514515</td>\n",
              "      <td>0.902990</td>\n",
              "    </tr>\n",
              "    <tr>\n",
              "      <th>3</th>\n",
              "      <td>1.039938</td>\n",
              "      <td>0.909066</td>\n",
              "      <td>-1.693488</td>\n",
              "      <td>-0.874989</td>\n",
              "      <td>-0.662463</td>\n",
              "      <td>-0.740284</td>\n",
              "      <td>-0.687574</td>\n",
              "      <td>-0.658233</td>\n",
              "      <td>-0.848689</td>\n",
              "      <td>-0.688176</td>\n",
              "      <td>-1.125881</td>\n",
              "      <td>-0.912837</td>\n",
              "      <td>-1.169518</td>\n",
              "      <td>0.693232</td>\n",
              "      <td>-0.988903</td>\n",
              "      <td>-0.785669</td>\n",
              "      <td>-1.504633</td>\n",
              "      <td>0.151917</td>\n",
              "    </tr>\n",
              "    <tr>\n",
              "      <th>4</th>\n",
              "      <td>1.039938</td>\n",
              "      <td>-0.928972</td>\n",
              "      <td>-1.693488</td>\n",
              "      <td>-0.886850</td>\n",
              "      <td>-0.260301</td>\n",
              "      <td>-0.637712</td>\n",
              "      <td>-0.486623</td>\n",
              "      <td>-0.658233</td>\n",
              "      <td>-0.192366</td>\n",
              "      <td>-0.168231</td>\n",
              "      <td>-0.396043</td>\n",
              "      <td>-0.571082</td>\n",
              "      <td>-1.169518</td>\n",
              "      <td>0.693232</td>\n",
              "      <td>-0.856181</td>\n",
              "      <td>-1.222743</td>\n",
              "      <td>-1.341581</td>\n",
              "      <td>-1.684040</td>\n",
              "    </tr>\n",
              "    <tr>\n",
              "      <th>...</th>\n",
              "      <td>...</td>\n",
              "      <td>...</td>\n",
              "      <td>...</td>\n",
              "      <td>...</td>\n",
              "      <td>...</td>\n",
              "      <td>...</td>\n",
              "      <td>...</td>\n",
              "      <td>...</td>\n",
              "      <td>...</td>\n",
              "      <td>...</td>\n",
              "      <td>...</td>\n",
              "      <td>...</td>\n",
              "      <td>...</td>\n",
              "      <td>...</td>\n",
              "      <td>...</td>\n",
              "      <td>...</td>\n",
              "      <td>...</td>\n",
              "      <td>...</td>\n",
              "    </tr>\n",
              "    <tr>\n",
              "      <th>2235</th>\n",
              "      <td>-0.823039</td>\n",
              "      <td>0.909066</td>\n",
              "      <td>1.727167</td>\n",
              "      <td>0.198393</td>\n",
              "      <td>-0.210030</td>\n",
              "      <td>-0.182828</td>\n",
              "      <td>0.171034</td>\n",
              "      <td>0.510709</td>\n",
              "      <td>0.656994</td>\n",
              "      <td>-0.168231</td>\n",
              "      <td>0.333796</td>\n",
              "      <td>-0.229327</td>\n",
              "      <td>1.599669</td>\n",
              "      <td>-0.543978</td>\n",
              "      <td>0.135915</td>\n",
              "      <td>0.565364</td>\n",
              "      <td>0.619988</td>\n",
              "      <td>-0.599157</td>\n",
              "    </tr>\n",
              "    <tr>\n",
              "      <th>2236</th>\n",
              "      <td>1.039938</td>\n",
              "      <td>-0.928972</td>\n",
              "      <td>1.727167</td>\n",
              "      <td>-0.889815</td>\n",
              "      <td>-0.411112</td>\n",
              "      <td>-0.686769</td>\n",
              "      <td>-0.632770</td>\n",
              "      <td>-0.463409</td>\n",
              "      <td>-0.539831</td>\n",
              "      <td>-0.688176</td>\n",
              "      <td>-1.125881</td>\n",
              "      <td>-0.912837</td>\n",
              "      <td>-0.861830</td>\n",
              "      <td>1.105635</td>\n",
              "      <td>-0.915906</td>\n",
              "      <td>-0.842012</td>\n",
              "      <td>0.837391</td>\n",
              "      <td>-0.682609</td>\n",
              "    </tr>\n",
              "    <tr>\n",
              "      <th>2237</th>\n",
              "      <td>1.039938</td>\n",
              "      <td>-0.928972</td>\n",
              "      <td>1.727167</td>\n",
              "      <td>-0.356089</td>\n",
              "      <td>-0.612193</td>\n",
              "      <td>-0.352295</td>\n",
              "      <td>-0.413550</td>\n",
              "      <td>-0.536468</td>\n",
              "      <td>-0.578438</td>\n",
              "      <td>-0.168231</td>\n",
              "      <td>0.698715</td>\n",
              "      <td>-0.571082</td>\n",
              "      <td>-0.246455</td>\n",
              "      <td>1.105635</td>\n",
              "      <td>-0.494514</td>\n",
              "      <td>-0.235910</td>\n",
              "      <td>1.084440</td>\n",
              "      <td>-0.599157</td>\n",
              "    </tr>\n",
              "    <tr>\n",
              "      <th>2238</th>\n",
              "      <td>-0.823039</td>\n",
              "      <td>-0.928972</td>\n",
              "      <td>1.727167</td>\n",
              "      <td>-0.112947</td>\n",
              "      <td>0.292672</td>\n",
              "      <td>2.381473</td>\n",
              "      <td>2.034398</td>\n",
              "      <td>3.360005</td>\n",
              "      <td>0.367440</td>\n",
              "      <td>-0.688176</td>\n",
              "      <td>0.333796</td>\n",
              "      <td>0.454182</td>\n",
              "      <td>1.291982</td>\n",
              "      <td>-0.956381</td>\n",
              "      <td>1.287277</td>\n",
              "      <td>0.539259</td>\n",
              "      <td>1.104204</td>\n",
              "      <td>-0.766062</td>\n",
              "    </tr>\n",
              "    <tr>\n",
              "      <th>2239</th>\n",
              "      <td>-0.823039</td>\n",
              "      <td>2.747104</td>\n",
              "      <td>1.727167</td>\n",
              "      <td>-0.403531</td>\n",
              "      <td>-0.059220</td>\n",
              "      <td>1.721444</td>\n",
              "      <td>2.746860</td>\n",
              "      <td>-0.658233</td>\n",
              "      <td>1.931034</td>\n",
              "      <td>-0.688176</td>\n",
              "      <td>1.428553</td>\n",
              "      <td>0.795937</td>\n",
              "      <td>-0.554143</td>\n",
              "      <td>0.693232</td>\n",
              "      <td>0.781275</td>\n",
              "      <td>1.693610</td>\n",
              "      <td>1.543952</td>\n",
              "      <td>-0.014988</td>\n",
              "    </tr>\n",
              "  </tbody>\n",
              "</table>\n",
              "<p>2216 rows × 18 columns</p>\n",
              "</div>"
            ],
            "text/plain": [
              "       Kidhome  Teenhome   Recency  ...  Income_int  DaysSinceJoined       Age\n",
              "0    -0.823039 -0.928972 -1.693488  ...    1.294840        -1.682509 -0.098441\n",
              "1    -0.823039 -0.928972 -1.693488  ...    0.192461        -1.677568  0.652633\n",
              "2    -0.823039  0.909066 -1.693488  ...    0.596794        -1.514515  0.902990\n",
              "3     1.039938  0.909066 -1.693488  ...   -0.785669        -1.504633  0.151917\n",
              "4     1.039938 -0.928972 -1.693488  ...   -1.222743        -1.341581 -1.684040\n",
              "...        ...       ...       ...  ...         ...              ...       ...\n",
              "2235 -0.823039  0.909066  1.727167  ...    0.565364         0.619988 -0.599157\n",
              "2236  1.039938 -0.928972  1.727167  ...   -0.842012         0.837391 -0.682609\n",
              "2237  1.039938 -0.928972  1.727167  ...   -0.235910         1.084440 -0.599157\n",
              "2238 -0.823039 -0.928972  1.727167  ...    0.539259         1.104204 -0.766062\n",
              "2239 -0.823039  2.747104  1.727167  ...    1.693610         1.543952 -0.014988\n",
              "\n",
              "[2216 rows x 18 columns]"
            ]
          },
          "execution_count": 25,
          "metadata": {
            "tags": []
          },
          "output_type": "execute_result"
        }
      ],
      "source": [
        "marketing_n_scaled"
      ]
    },
    {
      "cell_type": "code",
      "execution_count": null,
      "metadata": {
        "id": "o1Dpj2DNDF8k"
      },
      "outputs": [],
      "source": [
        "# euclidean distance for numerical data\n",
        "marketing_e = pdist(marketing_n_scaled.values)"
      ]
    },
    {
      "cell_type": "code",
      "execution_count": null,
      "metadata": {
        "id": "lYiBLlSwDGAI"
      },
      "outputs": [],
      "source": [
        "# categorical data\n",
        "# one hot encode the data\n",
        "marketing_cc = marketing_c.astype('category')\n",
        "marketing_cd = pd.get_dummies(marketing_cc, drop_first=True)"
      ]
    },
    {
      "cell_type": "code",
      "execution_count": null,
      "metadata": {
        "colab": {
          "base_uri": "https://localhost:8080/",
          "height": 439
        },
        "id": "zDBCcuOslJRW",
        "outputId": "b0cf68a0-0c76-4f14-d0dd-48b3305c06c9"
      },
      "outputs": [
        {
          "data": {
            "text/html": [
              "<div>\n",
              "<style scoped>\n",
              "    .dataframe tbody tr th:only-of-type {\n",
              "        vertical-align: middle;\n",
              "    }\n",
              "\n",
              "    .dataframe tbody tr th {\n",
              "        vertical-align: top;\n",
              "    }\n",
              "\n",
              "    .dataframe thead th {\n",
              "        text-align: right;\n",
              "    }\n",
              "</style>\n",
              "<table border=\"1\" class=\"dataframe\">\n",
              "  <thead>\n",
              "    <tr style=\"text-align: right;\">\n",
              "      <th></th>\n",
              "      <th>Education_Basic</th>\n",
              "      <th>Education_Graduation</th>\n",
              "      <th>Education_Master</th>\n",
              "      <th>Education_PhD</th>\n",
              "      <th>Marital_Status_Alone</th>\n",
              "      <th>Marital_Status_Divorced</th>\n",
              "      <th>Marital_Status_Married</th>\n",
              "      <th>Marital_Status_Single</th>\n",
              "      <th>Marital_Status_Together</th>\n",
              "      <th>Marital_Status_Widow</th>\n",
              "      <th>Marital_Status_YOLO</th>\n",
              "      <th>AcceptedCmp3_1</th>\n",
              "      <th>AcceptedCmp4_1</th>\n",
              "      <th>AcceptedCmp5_1</th>\n",
              "      <th>AcceptedCmp1_1</th>\n",
              "      <th>AcceptedCmp2_1</th>\n",
              "      <th>Complain_1</th>\n",
              "    </tr>\n",
              "  </thead>\n",
              "  <tbody>\n",
              "    <tr>\n",
              "      <th>0</th>\n",
              "      <td>0</td>\n",
              "      <td>1</td>\n",
              "      <td>0</td>\n",
              "      <td>0</td>\n",
              "      <td>0</td>\n",
              "      <td>1</td>\n",
              "      <td>0</td>\n",
              "      <td>0</td>\n",
              "      <td>0</td>\n",
              "      <td>0</td>\n",
              "      <td>0</td>\n",
              "      <td>0</td>\n",
              "      <td>0</td>\n",
              "      <td>0</td>\n",
              "      <td>0</td>\n",
              "      <td>0</td>\n",
              "      <td>0</td>\n",
              "    </tr>\n",
              "    <tr>\n",
              "      <th>1</th>\n",
              "      <td>0</td>\n",
              "      <td>1</td>\n",
              "      <td>0</td>\n",
              "      <td>0</td>\n",
              "      <td>0</td>\n",
              "      <td>0</td>\n",
              "      <td>0</td>\n",
              "      <td>1</td>\n",
              "      <td>0</td>\n",
              "      <td>0</td>\n",
              "      <td>0</td>\n",
              "      <td>0</td>\n",
              "      <td>0</td>\n",
              "      <td>0</td>\n",
              "      <td>0</td>\n",
              "      <td>1</td>\n",
              "      <td>0</td>\n",
              "    </tr>\n",
              "    <tr>\n",
              "      <th>2</th>\n",
              "      <td>0</td>\n",
              "      <td>1</td>\n",
              "      <td>0</td>\n",
              "      <td>0</td>\n",
              "      <td>0</td>\n",
              "      <td>0</td>\n",
              "      <td>1</td>\n",
              "      <td>0</td>\n",
              "      <td>0</td>\n",
              "      <td>0</td>\n",
              "      <td>0</td>\n",
              "      <td>0</td>\n",
              "      <td>0</td>\n",
              "      <td>0</td>\n",
              "      <td>0</td>\n",
              "      <td>0</td>\n",
              "      <td>0</td>\n",
              "    </tr>\n",
              "    <tr>\n",
              "      <th>3</th>\n",
              "      <td>0</td>\n",
              "      <td>1</td>\n",
              "      <td>0</td>\n",
              "      <td>0</td>\n",
              "      <td>0</td>\n",
              "      <td>0</td>\n",
              "      <td>0</td>\n",
              "      <td>0</td>\n",
              "      <td>1</td>\n",
              "      <td>0</td>\n",
              "      <td>0</td>\n",
              "      <td>0</td>\n",
              "      <td>0</td>\n",
              "      <td>0</td>\n",
              "      <td>0</td>\n",
              "      <td>0</td>\n",
              "      <td>0</td>\n",
              "    </tr>\n",
              "    <tr>\n",
              "      <th>4</th>\n",
              "      <td>0</td>\n",
              "      <td>1</td>\n",
              "      <td>0</td>\n",
              "      <td>0</td>\n",
              "      <td>0</td>\n",
              "      <td>0</td>\n",
              "      <td>0</td>\n",
              "      <td>1</td>\n",
              "      <td>0</td>\n",
              "      <td>0</td>\n",
              "      <td>0</td>\n",
              "      <td>1</td>\n",
              "      <td>0</td>\n",
              "      <td>0</td>\n",
              "      <td>0</td>\n",
              "      <td>0</td>\n",
              "      <td>0</td>\n",
              "    </tr>\n",
              "    <tr>\n",
              "      <th>...</th>\n",
              "      <td>...</td>\n",
              "      <td>...</td>\n",
              "      <td>...</td>\n",
              "      <td>...</td>\n",
              "      <td>...</td>\n",
              "      <td>...</td>\n",
              "      <td>...</td>\n",
              "      <td>...</td>\n",
              "      <td>...</td>\n",
              "      <td>...</td>\n",
              "      <td>...</td>\n",
              "      <td>...</td>\n",
              "      <td>...</td>\n",
              "      <td>...</td>\n",
              "      <td>...</td>\n",
              "      <td>...</td>\n",
              "      <td>...</td>\n",
              "    </tr>\n",
              "    <tr>\n",
              "      <th>2235</th>\n",
              "      <td>0</td>\n",
              "      <td>0</td>\n",
              "      <td>0</td>\n",
              "      <td>1</td>\n",
              "      <td>0</td>\n",
              "      <td>1</td>\n",
              "      <td>0</td>\n",
              "      <td>0</td>\n",
              "      <td>0</td>\n",
              "      <td>0</td>\n",
              "      <td>0</td>\n",
              "      <td>0</td>\n",
              "      <td>0</td>\n",
              "      <td>0</td>\n",
              "      <td>0</td>\n",
              "      <td>0</td>\n",
              "      <td>0</td>\n",
              "    </tr>\n",
              "    <tr>\n",
              "      <th>2236</th>\n",
              "      <td>0</td>\n",
              "      <td>0</td>\n",
              "      <td>0</td>\n",
              "      <td>0</td>\n",
              "      <td>0</td>\n",
              "      <td>0</td>\n",
              "      <td>1</td>\n",
              "      <td>0</td>\n",
              "      <td>0</td>\n",
              "      <td>0</td>\n",
              "      <td>0</td>\n",
              "      <td>0</td>\n",
              "      <td>0</td>\n",
              "      <td>0</td>\n",
              "      <td>0</td>\n",
              "      <td>0</td>\n",
              "      <td>0</td>\n",
              "    </tr>\n",
              "    <tr>\n",
              "      <th>2237</th>\n",
              "      <td>0</td>\n",
              "      <td>1</td>\n",
              "      <td>0</td>\n",
              "      <td>0</td>\n",
              "      <td>0</td>\n",
              "      <td>1</td>\n",
              "      <td>0</td>\n",
              "      <td>0</td>\n",
              "      <td>0</td>\n",
              "      <td>0</td>\n",
              "      <td>0</td>\n",
              "      <td>0</td>\n",
              "      <td>0</td>\n",
              "      <td>0</td>\n",
              "      <td>0</td>\n",
              "      <td>0</td>\n",
              "      <td>0</td>\n",
              "    </tr>\n",
              "    <tr>\n",
              "      <th>2238</th>\n",
              "      <td>0</td>\n",
              "      <td>1</td>\n",
              "      <td>0</td>\n",
              "      <td>0</td>\n",
              "      <td>0</td>\n",
              "      <td>0</td>\n",
              "      <td>1</td>\n",
              "      <td>0</td>\n",
              "      <td>0</td>\n",
              "      <td>0</td>\n",
              "      <td>0</td>\n",
              "      <td>0</td>\n",
              "      <td>0</td>\n",
              "      <td>0</td>\n",
              "      <td>0</td>\n",
              "      <td>0</td>\n",
              "      <td>0</td>\n",
              "    </tr>\n",
              "    <tr>\n",
              "      <th>2239</th>\n",
              "      <td>0</td>\n",
              "      <td>0</td>\n",
              "      <td>0</td>\n",
              "      <td>1</td>\n",
              "      <td>0</td>\n",
              "      <td>0</td>\n",
              "      <td>1</td>\n",
              "      <td>0</td>\n",
              "      <td>0</td>\n",
              "      <td>0</td>\n",
              "      <td>0</td>\n",
              "      <td>0</td>\n",
              "      <td>1</td>\n",
              "      <td>1</td>\n",
              "      <td>0</td>\n",
              "      <td>0</td>\n",
              "      <td>0</td>\n",
              "    </tr>\n",
              "  </tbody>\n",
              "</table>\n",
              "<p>2216 rows × 17 columns</p>\n",
              "</div>"
            ],
            "text/plain": [
              "      Education_Basic  Education_Graduation  ...  AcceptedCmp2_1  Complain_1\n",
              "0                   0                     1  ...               0           0\n",
              "1                   0                     1  ...               1           0\n",
              "2                   0                     1  ...               0           0\n",
              "3                   0                     1  ...               0           0\n",
              "4                   0                     1  ...               0           0\n",
              "...               ...                   ...  ...             ...         ...\n",
              "2235                0                     0  ...               0           0\n",
              "2236                0                     0  ...               0           0\n",
              "2237                0                     1  ...               0           0\n",
              "2238                0                     1  ...               0           0\n",
              "2239                0                     0  ...               0           0\n",
              "\n",
              "[2216 rows x 17 columns]"
            ]
          },
          "execution_count": 28,
          "metadata": {
            "tags": []
          },
          "output_type": "execute_result"
        }
      ],
      "source": [
        "marketing_cd"
      ]
    },
    {
      "cell_type": "code",
      "execution_count": null,
      "metadata": {
        "id": "KLoXk6E6Ekjn"
      },
      "outputs": [],
      "source": [
        "# use jaccard distance for categorical data\n",
        "\n",
        "marketing_j = pdist(marketing_cd.values, metric='jaccard')"
      ]
    },
    {
      "cell_type": "code",
      "execution_count": null,
      "metadata": {
        "colab": {
          "base_uri": "https://localhost:8080/"
        },
        "id": "eAH0TbvigpkF",
        "outputId": "78e541b4-20b5-472d-81ee-73ce281e010e"
      },
      "outputs": [
        {
          "data": {
            "text/plain": [
              "(2454220,)"
            ]
          },
          "execution_count": 30,
          "metadata": {
            "tags": []
          },
          "output_type": "execute_result"
        }
      ],
      "source": [
        "marketing_j.shape"
      ]
    },
    {
      "cell_type": "code",
      "execution_count": null,
      "metadata": {
        "colab": {
          "base_uri": "https://localhost:8080/"
        },
        "id": "YF8jTlGqg0ZZ",
        "outputId": "37e844e4-ab95-4684-eddf-e0e8967a0961"
      },
      "outputs": [
        {
          "data": {
            "text/plain": [
              "(2454220,)"
            ]
          },
          "execution_count": 31,
          "metadata": {
            "tags": []
          },
          "output_type": "execute_result"
        }
      ],
      "source": [
        "marketing_e.shape"
      ]
    },
    {
      "cell_type": "code",
      "execution_count": null,
      "metadata": {
        "id": "MZsZLsbEE1xx"
      },
      "outputs": [],
      "source": [
        "# combining the distance matrices\n",
        "\n",
        "m_dist = marketing_e + marketing_j"
      ]
    },
    {
      "cell_type": "code",
      "execution_count": null,
      "metadata": {
        "colab": {
          "base_uri": "https://localhost:8080/"
        },
        "id": "OxhgX2DvgsUG",
        "outputId": "7a6fa449-e04c-4163-97fc-5611fcaef1c7"
      },
      "outputs": [
        {
          "data": {
            "text/plain": [
              "(2454220,)"
            ]
          },
          "execution_count": 38,
          "metadata": {
            "tags": []
          },
          "output_type": "execute_result"
        }
      ],
      "source": [
        "m_dist.shape"
      ]
    },
    {
      "cell_type": "code",
      "execution_count": null,
      "metadata": {
        "colab": {
          "base_uri": "https://localhost:8080/",
          "height": 338
        },
        "id": "sfUK8nIGINbW",
        "outputId": "38b3c5d6-8c7f-44a1-a190-d3086dfcb7a9"
      },
      "outputs": [
        {
          "data": {
            "image/png": "[encoded data removed]",
            "text/plain": [
              "<Figure size 1440x360 with 3 Axes>"
            ]
          },
          "metadata": {
            "needs_background": "light",
            "tags": []
          },
          "output_type": "display_data"
        }
      ],
      "source": [
        "# FYI this takes like 2 full minutes to run\n",
        "# single linkage method wouldn't work (dataset is too big to make a dendrogram for it or something?)\n",
        "\n",
        "METHODS = ['complete', 'average', 'ward']\n",
        "plt.figure(figsize=(20,5))\n",
        "\n",
        "\n",
        "# loop and build our plot\n",
        "for i, m in enumerate(METHODS):\n",
        "  plt.subplot(1, 3, i+1)\n",
        "  plt.title(m)\n",
        "  dendrogram(linkage(m_dist, method=m), \n",
        "             leaf_rotation=90)\n",
        "  \n",
        "plt.show()"
      ]
    },
    {
      "cell_type": "code",
      "execution_count": null,
      "metadata": {
        "id": "Eudn2ou6IUye"
      },
      "outputs": [],
      "source": [
        "# ward method splits up the data into the most well-defined groups, so it may be best to use that for hierarchical clustering\n",
        "\n",
        "m_hclust = linkage(m_dist, method='ward')"
      ]
    },
    {
      "cell_type": "code",
      "execution_count": null,
      "metadata": {
        "colab": {
          "base_uri": "https://localhost:8080/",
          "height": 706
        },
        "id": "NVX3641CJlgG",
        "outputId": "03f708d9-44bc-46b9-a0eb-455c72b6be3e"
      },
      "outputs": [
        {
          "data": {
            "text/html": [
              "<div>\n",
              "<style scoped>\n",
              "    .dataframe tbody tr th:only-of-type {\n",
              "        vertical-align: middle;\n",
              "    }\n",
              "\n",
              "    .dataframe tbody tr th {\n",
              "        vertical-align: top;\n",
              "    }\n",
              "\n",
              "    .dataframe thead th {\n",
              "        text-align: right;\n",
              "    }\n",
              "</style>\n",
              "<table border=\"1\" class=\"dataframe\">\n",
              "  <thead>\n",
              "    <tr style=\"text-align: right;\">\n",
              "      <th></th>\n",
              "      <th>Education</th>\n",
              "      <th>Marital_Status</th>\n",
              "      <th>Kidhome</th>\n",
              "      <th>Teenhome</th>\n",
              "      <th>Recency</th>\n",
              "      <th>MntWines</th>\n",
              "      <th>MntFruits</th>\n",
              "      <th>MntMeatProducts</th>\n",
              "      <th>MntFishProducts</th>\n",
              "      <th>MntSweetProducts</th>\n",
              "      <th>MntGoldProds</th>\n",
              "      <th>NumDealsPurchases</th>\n",
              "      <th>NumWebPurchases</th>\n",
              "      <th>NumCatalogPurchases</th>\n",
              "      <th>NumStorePurchases</th>\n",
              "      <th>NumWebVisitsMonth</th>\n",
              "      <th>AcceptedCmp3</th>\n",
              "      <th>AcceptedCmp4</th>\n",
              "      <th>AcceptedCmp5</th>\n",
              "      <th>AcceptedCmp1</th>\n",
              "      <th>AcceptedCmp2</th>\n",
              "      <th>Complain</th>\n",
              "      <th>TotalMntSpent</th>\n",
              "      <th>Income_int</th>\n",
              "      <th>DaysSinceJoined</th>\n",
              "      <th>Age</th>\n",
              "      <th>hcluster label</th>\n",
              "    </tr>\n",
              "  </thead>\n",
              "  <tbody>\n",
              "    <tr>\n",
              "      <th>0</th>\n",
              "      <td>Graduation</td>\n",
              "      <td>Divorced</td>\n",
              "      <td>0</td>\n",
              "      <td>0</td>\n",
              "      <td>0</td>\n",
              "      <td>189</td>\n",
              "      <td>104</td>\n",
              "      <td>379</td>\n",
              "      <td>111</td>\n",
              "      <td>189</td>\n",
              "      <td>218</td>\n",
              "      <td>1</td>\n",
              "      <td>4</td>\n",
              "      <td>4</td>\n",
              "      <td>6</td>\n",
              "      <td>1</td>\n",
              "      <td>0</td>\n",
              "      <td>0</td>\n",
              "      <td>0</td>\n",
              "      <td>0</td>\n",
              "      <td>0</td>\n",
              "      <td>0</td>\n",
              "      <td>1190</td>\n",
              "      <td>84835</td>\n",
              "      <td>13</td>\n",
              "      <td>45</td>\n",
              "      <td>2</td>\n",
              "    </tr>\n",
              "    <tr>\n",
              "      <th>1</th>\n",
              "      <td>Graduation</td>\n",
              "      <td>Single</td>\n",
              "      <td>0</td>\n",
              "      <td>0</td>\n",
              "      <td>0</td>\n",
              "      <td>464</td>\n",
              "      <td>5</td>\n",
              "      <td>64</td>\n",
              "      <td>7</td>\n",
              "      <td>0</td>\n",
              "      <td>37</td>\n",
              "      <td>1</td>\n",
              "      <td>7</td>\n",
              "      <td>3</td>\n",
              "      <td>7</td>\n",
              "      <td>5</td>\n",
              "      <td>0</td>\n",
              "      <td>0</td>\n",
              "      <td>0</td>\n",
              "      <td>0</td>\n",
              "      <td>1</td>\n",
              "      <td>0</td>\n",
              "      <td>577</td>\n",
              "      <td>57091</td>\n",
              "      <td>14</td>\n",
              "      <td>54</td>\n",
              "      <td>3</td>\n",
              "    </tr>\n",
              "    <tr>\n",
              "      <th>2</th>\n",
              "      <td>Graduation</td>\n",
              "      <td>Married</td>\n",
              "      <td>0</td>\n",
              "      <td>1</td>\n",
              "      <td>0</td>\n",
              "      <td>134</td>\n",
              "      <td>11</td>\n",
              "      <td>59</td>\n",
              "      <td>15</td>\n",
              "      <td>2</td>\n",
              "      <td>30</td>\n",
              "      <td>1</td>\n",
              "      <td>3</td>\n",
              "      <td>2</td>\n",
              "      <td>5</td>\n",
              "      <td>2</td>\n",
              "      <td>0</td>\n",
              "      <td>0</td>\n",
              "      <td>0</td>\n",
              "      <td>0</td>\n",
              "      <td>0</td>\n",
              "      <td>0</td>\n",
              "      <td>251</td>\n",
              "      <td>67267</td>\n",
              "      <td>47</td>\n",
              "      <td>57</td>\n",
              "      <td>3</td>\n",
              "    </tr>\n",
              "    <tr>\n",
              "      <th>3</th>\n",
              "      <td>Graduation</td>\n",
              "      <td>Together</td>\n",
              "      <td>1</td>\n",
              "      <td>1</td>\n",
              "      <td>0</td>\n",
              "      <td>10</td>\n",
              "      <td>0</td>\n",
              "      <td>1</td>\n",
              "      <td>0</td>\n",
              "      <td>0</td>\n",
              "      <td>0</td>\n",
              "      <td>1</td>\n",
              "      <td>1</td>\n",
              "      <td>0</td>\n",
              "      <td>2</td>\n",
              "      <td>7</td>\n",
              "      <td>0</td>\n",
              "      <td>0</td>\n",
              "      <td>0</td>\n",
              "      <td>0</td>\n",
              "      <td>0</td>\n",
              "      <td>0</td>\n",
              "      <td>11</td>\n",
              "      <td>32474</td>\n",
              "      <td>49</td>\n",
              "      <td>48</td>\n",
              "      <td>1</td>\n",
              "    </tr>\n",
              "    <tr>\n",
              "      <th>4</th>\n",
              "      <td>Graduation</td>\n",
              "      <td>Single</td>\n",
              "      <td>1</td>\n",
              "      <td>0</td>\n",
              "      <td>0</td>\n",
              "      <td>6</td>\n",
              "      <td>16</td>\n",
              "      <td>24</td>\n",
              "      <td>11</td>\n",
              "      <td>0</td>\n",
              "      <td>34</td>\n",
              "      <td>2</td>\n",
              "      <td>3</td>\n",
              "      <td>1</td>\n",
              "      <td>2</td>\n",
              "      <td>7</td>\n",
              "      <td>1</td>\n",
              "      <td>0</td>\n",
              "      <td>0</td>\n",
              "      <td>0</td>\n",
              "      <td>0</td>\n",
              "      <td>0</td>\n",
              "      <td>91</td>\n",
              "      <td>21474</td>\n",
              "      <td>82</td>\n",
              "      <td>26</td>\n",
              "      <td>1</td>\n",
              "    </tr>\n",
              "    <tr>\n",
              "      <th>5</th>\n",
              "      <td>PhD</td>\n",
              "      <td>Single</td>\n",
              "      <td>0</td>\n",
              "      <td>0</td>\n",
              "      <td>0</td>\n",
              "      <td>336</td>\n",
              "      <td>130</td>\n",
              "      <td>411</td>\n",
              "      <td>240</td>\n",
              "      <td>32</td>\n",
              "      <td>43</td>\n",
              "      <td>1</td>\n",
              "      <td>4</td>\n",
              "      <td>7</td>\n",
              "      <td>5</td>\n",
              "      <td>2</td>\n",
              "      <td>0</td>\n",
              "      <td>0</td>\n",
              "      <td>0</td>\n",
              "      <td>0</td>\n",
              "      <td>0</td>\n",
              "      <td>0</td>\n",
              "      <td>1192</td>\n",
              "      <td>71691</td>\n",
              "      <td>104</td>\n",
              "      <td>57</td>\n",
              "      <td>2</td>\n",
              "    </tr>\n",
              "    <tr>\n",
              "      <th>6</th>\n",
              "      <td>2n Cycle</td>\n",
              "      <td>Married</td>\n",
              "      <td>0</td>\n",
              "      <td>0</td>\n",
              "      <td>0</td>\n",
              "      <td>769</td>\n",
              "      <td>80</td>\n",
              "      <td>252</td>\n",
              "      <td>15</td>\n",
              "      <td>34</td>\n",
              "      <td>65</td>\n",
              "      <td>1</td>\n",
              "      <td>10</td>\n",
              "      <td>10</td>\n",
              "      <td>7</td>\n",
              "      <td>6</td>\n",
              "      <td>1</td>\n",
              "      <td>0</td>\n",
              "      <td>0</td>\n",
              "      <td>0</td>\n",
              "      <td>0</td>\n",
              "      <td>0</td>\n",
              "      <td>1215</td>\n",
              "      <td>63564</td>\n",
              "      <td>151</td>\n",
              "      <td>61</td>\n",
              "      <td>3</td>\n",
              "    </tr>\n",
              "    <tr>\n",
              "      <th>7</th>\n",
              "      <td>Graduation</td>\n",
              "      <td>Together</td>\n",
              "      <td>0</td>\n",
              "      <td>1</td>\n",
              "      <td>0</td>\n",
              "      <td>78</td>\n",
              "      <td>0</td>\n",
              "      <td>11</td>\n",
              "      <td>0</td>\n",
              "      <td>0</td>\n",
              "      <td>7</td>\n",
              "      <td>1</td>\n",
              "      <td>2</td>\n",
              "      <td>1</td>\n",
              "      <td>3</td>\n",
              "      <td>5</td>\n",
              "      <td>0</td>\n",
              "      <td>0</td>\n",
              "      <td>0</td>\n",
              "      <td>0</td>\n",
              "      <td>0</td>\n",
              "      <td>0</td>\n",
              "      <td>96</td>\n",
              "      <td>44931</td>\n",
              "      <td>162</td>\n",
              "      <td>48</td>\n",
              "      <td>1</td>\n",
              "    </tr>\n",
              "    <tr>\n",
              "      <th>8</th>\n",
              "      <td>PhD</td>\n",
              "      <td>Married</td>\n",
              "      <td>0</td>\n",
              "      <td>1</td>\n",
              "      <td>0</td>\n",
              "      <td>384</td>\n",
              "      <td>0</td>\n",
              "      <td>102</td>\n",
              "      <td>21</td>\n",
              "      <td>32</td>\n",
              "      <td>5</td>\n",
              "      <td>3</td>\n",
              "      <td>6</td>\n",
              "      <td>2</td>\n",
              "      <td>9</td>\n",
              "      <td>4</td>\n",
              "      <td>0</td>\n",
              "      <td>0</td>\n",
              "      <td>0</td>\n",
              "      <td>0</td>\n",
              "      <td>0</td>\n",
              "      <td>0</td>\n",
              "      <td>544</td>\n",
              "      <td>65324</td>\n",
              "      <td>169</td>\n",
              "      <td>61</td>\n",
              "      <td>3</td>\n",
              "    </tr>\n",
              "    <tr>\n",
              "      <th>9</th>\n",
              "      <td>PhD</td>\n",
              "      <td>Married</td>\n",
              "      <td>0</td>\n",
              "      <td>1</td>\n",
              "      <td>0</td>\n",
              "      <td>384</td>\n",
              "      <td>0</td>\n",
              "      <td>102</td>\n",
              "      <td>21</td>\n",
              "      <td>32</td>\n",
              "      <td>5</td>\n",
              "      <td>3</td>\n",
              "      <td>6</td>\n",
              "      <td>2</td>\n",
              "      <td>9</td>\n",
              "      <td>4</td>\n",
              "      <td>0</td>\n",
              "      <td>0</td>\n",
              "      <td>0</td>\n",
              "      <td>0</td>\n",
              "      <td>0</td>\n",
              "      <td>0</td>\n",
              "      <td>544</td>\n",
              "      <td>65324</td>\n",
              "      <td>169</td>\n",
              "      <td>61</td>\n",
              "      <td>3</td>\n",
              "    </tr>\n",
              "    <tr>\n",
              "      <th>10</th>\n",
              "      <td>2n Cycle</td>\n",
              "      <td>Married</td>\n",
              "      <td>0</td>\n",
              "      <td>0</td>\n",
              "      <td>0</td>\n",
              "      <td>450</td>\n",
              "      <td>26</td>\n",
              "      <td>535</td>\n",
              "      <td>73</td>\n",
              "      <td>98</td>\n",
              "      <td>26</td>\n",
              "      <td>1</td>\n",
              "      <td>5</td>\n",
              "      <td>6</td>\n",
              "      <td>10</td>\n",
              "      <td>1</td>\n",
              "      <td>0</td>\n",
              "      <td>0</td>\n",
              "      <td>0</td>\n",
              "      <td>0</td>\n",
              "      <td>0</td>\n",
              "      <td>0</td>\n",
              "      <td>1208</td>\n",
              "      <td>81044</td>\n",
              "      <td>184</td>\n",
              "      <td>68</td>\n",
              "      <td>2</td>\n",
              "    </tr>\n",
              "    <tr>\n",
              "      <th>11</th>\n",
              "      <td>Master</td>\n",
              "      <td>Together</td>\n",
              "      <td>1</td>\n",
              "      <td>0</td>\n",
              "      <td>0</td>\n",
              "      <td>140</td>\n",
              "      <td>4</td>\n",
              "      <td>61</td>\n",
              "      <td>0</td>\n",
              "      <td>13</td>\n",
              "      <td>4</td>\n",
              "      <td>2</td>\n",
              "      <td>3</td>\n",
              "      <td>1</td>\n",
              "      <td>6</td>\n",
              "      <td>4</td>\n",
              "      <td>0</td>\n",
              "      <td>0</td>\n",
              "      <td>0</td>\n",
              "      <td>0</td>\n",
              "      <td>0</td>\n",
              "      <td>0</td>\n",
              "      <td>222</td>\n",
              "      <td>62499</td>\n",
              "      <td>202</td>\n",
              "      <td>36</td>\n",
              "      <td>1</td>\n",
              "    </tr>\n",
              "    <tr>\n",
              "      <th>12</th>\n",
              "      <td>PhD</td>\n",
              "      <td>Widow</td>\n",
              "      <td>0</td>\n",
              "      <td>0</td>\n",
              "      <td>0</td>\n",
              "      <td>431</td>\n",
              "      <td>82</td>\n",
              "      <td>441</td>\n",
              "      <td>80</td>\n",
              "      <td>20</td>\n",
              "      <td>102</td>\n",
              "      <td>1</td>\n",
              "      <td>3</td>\n",
              "      <td>6</td>\n",
              "      <td>6</td>\n",
              "      <td>1</td>\n",
              "      <td>0</td>\n",
              "      <td>0</td>\n",
              "      <td>0</td>\n",
              "      <td>0</td>\n",
              "      <td>0</td>\n",
              "      <td>0</td>\n",
              "      <td>1156</td>\n",
              "      <td>67786</td>\n",
              "      <td>204</td>\n",
              "      <td>56</td>\n",
              "      <td>2</td>\n",
              "    </tr>\n",
              "    <tr>\n",
              "      <th>13</th>\n",
              "      <td>Graduation</td>\n",
              "      <td>Married</td>\n",
              "      <td>0</td>\n",
              "      <td>0</td>\n",
              "      <td>0</td>\n",
              "      <td>3</td>\n",
              "      <td>10</td>\n",
              "      <td>8</td>\n",
              "      <td>3</td>\n",
              "      <td>16</td>\n",
              "      <td>32</td>\n",
              "      <td>1</td>\n",
              "      <td>1</td>\n",
              "      <td>1</td>\n",
              "      <td>2</td>\n",
              "      <td>6</td>\n",
              "      <td>0</td>\n",
              "      <td>0</td>\n",
              "      <td>0</td>\n",
              "      <td>0</td>\n",
              "      <td>0</td>\n",
              "      <td>0</td>\n",
              "      <td>72</td>\n",
              "      <td>26872</td>\n",
              "      <td>256</td>\n",
              "      <td>34</td>\n",
              "      <td>1</td>\n",
              "    </tr>\n",
              "    <tr>\n",
              "      <th>14</th>\n",
              "      <td>Graduation</td>\n",
              "      <td>Married</td>\n",
              "      <td>0</td>\n",
              "      <td>1</td>\n",
              "      <td>0</td>\n",
              "      <td>16</td>\n",
              "      <td>4</td>\n",
              "      <td>12</td>\n",
              "      <td>2</td>\n",
              "      <td>4</td>\n",
              "      <td>321</td>\n",
              "      <td>0</td>\n",
              "      <td>25</td>\n",
              "      <td>0</td>\n",
              "      <td>0</td>\n",
              "      <td>1</td>\n",
              "      <td>0</td>\n",
              "      <td>0</td>\n",
              "      <td>0</td>\n",
              "      <td>0</td>\n",
              "      <td>0</td>\n",
              "      <td>0</td>\n",
              "      <td>359</td>\n",
              "      <td>4428</td>\n",
              "      <td>267</td>\n",
              "      <td>46</td>\n",
              "      <td>3</td>\n",
              "    </tr>\n",
              "    <tr>\n",
              "      <th>15</th>\n",
              "      <td>Graduation</td>\n",
              "      <td>Married</td>\n",
              "      <td>1</td>\n",
              "      <td>1</td>\n",
              "      <td>0</td>\n",
              "      <td>63</td>\n",
              "      <td>6</td>\n",
              "      <td>57</td>\n",
              "      <td>13</td>\n",
              "      <td>13</td>\n",
              "      <td>22</td>\n",
              "      <td>4</td>\n",
              "      <td>2</td>\n",
              "      <td>1</td>\n",
              "      <td>5</td>\n",
              "      <td>4</td>\n",
              "      <td>0</td>\n",
              "      <td>0</td>\n",
              "      <td>0</td>\n",
              "      <td>0</td>\n",
              "      <td>0</td>\n",
              "      <td>0</td>\n",
              "      <td>174</td>\n",
              "      <td>54809</td>\n",
              "      <td>291</td>\n",
              "      <td>38</td>\n",
              "      <td>3</td>\n",
              "    </tr>\n",
              "    <tr>\n",
              "      <th>16</th>\n",
              "      <td>Graduation</td>\n",
              "      <td>Married</td>\n",
              "      <td>1</td>\n",
              "      <td>1</td>\n",
              "      <td>0</td>\n",
              "      <td>63</td>\n",
              "      <td>6</td>\n",
              "      <td>57</td>\n",
              "      <td>13</td>\n",
              "      <td>13</td>\n",
              "      <td>22</td>\n",
              "      <td>4</td>\n",
              "      <td>2</td>\n",
              "      <td>1</td>\n",
              "      <td>5</td>\n",
              "      <td>4</td>\n",
              "      <td>0</td>\n",
              "      <td>0</td>\n",
              "      <td>0</td>\n",
              "      <td>0</td>\n",
              "      <td>0</td>\n",
              "      <td>0</td>\n",
              "      <td>174</td>\n",
              "      <td>54809</td>\n",
              "      <td>291</td>\n",
              "      <td>38</td>\n",
              "      <td>3</td>\n",
              "    </tr>\n",
              "    <tr>\n",
              "      <th>17</th>\n",
              "      <td>PhD</td>\n",
              "      <td>Divorced</td>\n",
              "      <td>0</td>\n",
              "      <td>1</td>\n",
              "      <td>0</td>\n",
              "      <td>18</td>\n",
              "      <td>0</td>\n",
              "      <td>2</td>\n",
              "      <td>0</td>\n",
              "      <td>0</td>\n",
              "      <td>2</td>\n",
              "      <td>1</td>\n",
              "      <td>1</td>\n",
              "      <td>0</td>\n",
              "      <td>3</td>\n",
              "      <td>4</td>\n",
              "      <td>0</td>\n",
              "      <td>0</td>\n",
              "      <td>0</td>\n",
              "      <td>0</td>\n",
              "      <td>0</td>\n",
              "      <td>0</td>\n",
              "      <td>22</td>\n",
              "      <td>32173</td>\n",
              "      <td>332</td>\n",
              "      <td>57</td>\n",
              "      <td>1</td>\n",
              "    </tr>\n",
              "    <tr>\n",
              "      <th>18</th>\n",
              "      <td>2n Cycle</td>\n",
              "      <td>Single</td>\n",
              "      <td>0</td>\n",
              "      <td>1</td>\n",
              "      <td>0</td>\n",
              "      <td>53</td>\n",
              "      <td>1</td>\n",
              "      <td>5</td>\n",
              "      <td>2</td>\n",
              "      <td>1</td>\n",
              "      <td>10</td>\n",
              "      <td>2</td>\n",
              "      <td>2</td>\n",
              "      <td>0</td>\n",
              "      <td>3</td>\n",
              "      <td>8</td>\n",
              "      <td>0</td>\n",
              "      <td>0</td>\n",
              "      <td>0</td>\n",
              "      <td>0</td>\n",
              "      <td>0</td>\n",
              "      <td>0</td>\n",
              "      <td>72</td>\n",
              "      <td>47823</td>\n",
              "      <td>341</td>\n",
              "      <td>55</td>\n",
              "      <td>3</td>\n",
              "    </tr>\n",
              "    <tr>\n",
              "      <th>19</th>\n",
              "      <td>Master</td>\n",
              "      <td>Single</td>\n",
              "      <td>2</td>\n",
              "      <td>1</td>\n",
              "      <td>0</td>\n",
              "      <td>5</td>\n",
              "      <td>0</td>\n",
              "      <td>3</td>\n",
              "      <td>0</td>\n",
              "      <td>0</td>\n",
              "      <td>5</td>\n",
              "      <td>1</td>\n",
              "      <td>1</td>\n",
              "      <td>0</td>\n",
              "      <td>2</td>\n",
              "      <td>7</td>\n",
              "      <td>0</td>\n",
              "      <td>0</td>\n",
              "      <td>0</td>\n",
              "      <td>0</td>\n",
              "      <td>0</td>\n",
              "      <td>0</td>\n",
              "      <td>13</td>\n",
              "      <td>30523</td>\n",
              "      <td>363</td>\n",
              "      <td>57</td>\n",
              "      <td>1</td>\n",
              "    </tr>\n",
              "  </tbody>\n",
              "</table>\n",
              "</div>"
            ],
            "text/plain": [
              "     Education Marital_Status  Kidhome  ...  DaysSinceJoined  Age  hcluster label\n",
              "0   Graduation       Divorced        0  ...               13   45               2\n",
              "1   Graduation         Single        0  ...               14   54               3\n",
              "2   Graduation        Married        0  ...               47   57               3\n",
              "3   Graduation       Together        1  ...               49   48               1\n",
              "4   Graduation         Single        1  ...               82   26               1\n",
              "5          PhD         Single        0  ...              104   57               2\n",
              "6     2n Cycle        Married        0  ...              151   61               3\n",
              "7   Graduation       Together        0  ...              162   48               1\n",
              "8          PhD        Married        0  ...              169   61               3\n",
              "9          PhD        Married        0  ...              169   61               3\n",
              "10    2n Cycle        Married        0  ...              184   68               2\n",
              "11      Master       Together        1  ...              202   36               1\n",
              "12         PhD          Widow        0  ...              204   56               2\n",
              "13  Graduation        Married        0  ...              256   34               1\n",
              "14  Graduation        Married        0  ...              267   46               3\n",
              "15  Graduation        Married        1  ...              291   38               3\n",
              "16  Graduation        Married        1  ...              291   38               3\n",
              "17         PhD       Divorced        0  ...              332   57               1\n",
              "18    2n Cycle         Single        0  ...              341   55               3\n",
              "19      Master         Single        2  ...              363   57               1\n",
              "\n",
              "[20 rows x 27 columns]"
            ]
          },
          "execution_count": 40,
          "metadata": {
            "tags": []
          },
          "output_type": "execute_result"
        }
      ],
      "source": [
        "# more than 5 clusters is probably too many if you're looking to use this for customer segmentation, so 3 clusters seems most reasonable when looking at the ward method dendrogram\n",
        "labels = fcluster(m_hclust, 3, criterion=\"maxclust\")\n",
        "#labels = fcluster(m_hclust,60, criterion=\"distance\")\n",
        "marketing2['hcluster label'] = labels\n",
        "marketing2.head(20)"
      ]
    },
    {
      "cell_type": "code",
      "execution_count": null,
      "metadata": {
        "colab": {
          "base_uri": "https://localhost:8080/"
        },
        "id": "PwC3gpeWKEKE",
        "outputId": "bb73a062-81d0-41b9-97aa-4aad72884e53"
      },
      "outputs": [
        {
          "data": {
            "text/plain": [
              "2    517\n",
              "1    996\n",
              "3    703\n",
              "Name: hcluster label, dtype: int64"
            ]
          },
          "execution_count": 41,
          "metadata": {
            "tags": []
          },
          "output_type": "execute_result"
        }
      ],
      "source": [
        "# number of customers in each cluster\n",
        "\n",
        "marketing2['hcluster label'].value_counts(dropna=False, sort=False)"
      ]
    },
    {
      "cell_type": "code",
      "execution_count": null,
      "metadata": {
        "colab": {
          "base_uri": "https://localhost:8080/",
          "height": 793
        },
        "id": "lsSDExgjKL8n",
        "outputId": "7b656e1c-defd-42a3-e94d-41ef1b555ed2"
      },
      "outputs": [
        {
          "data": {
            "text/html": [
              "<div>\n",
              "<style scoped>\n",
              "    .dataframe tbody tr th:only-of-type {\n",
              "        vertical-align: middle;\n",
              "    }\n",
              "\n",
              "    .dataframe tbody tr th {\n",
              "        vertical-align: top;\n",
              "    }\n",
              "\n",
              "    .dataframe thead th {\n",
              "        text-align: right;\n",
              "    }\n",
              "</style>\n",
              "<table border=\"1\" class=\"dataframe\">\n",
              "  <thead>\n",
              "    <tr style=\"text-align: right;\">\n",
              "      <th>hcluster label</th>\n",
              "      <th>1</th>\n",
              "      <th>2</th>\n",
              "      <th>3</th>\n",
              "    </tr>\n",
              "  </thead>\n",
              "  <tbody>\n",
              "    <tr>\n",
              "      <th>Kidhome</th>\n",
              "      <td>0.775100</td>\n",
              "      <td>0.023211</td>\n",
              "      <td>0.277383</td>\n",
              "    </tr>\n",
              "    <tr>\n",
              "      <th>Teenhome</th>\n",
              "      <td>0.426707</td>\n",
              "      <td>0.170213</td>\n",
              "      <td>0.863442</td>\n",
              "    </tr>\n",
              "    <tr>\n",
              "      <th>Recency</th>\n",
              "      <td>50.204819</td>\n",
              "      <td>49.793037</td>\n",
              "      <td>46.749644</td>\n",
              "    </tr>\n",
              "    <tr>\n",
              "      <th>MntWines</th>\n",
              "      <td>43.491968</td>\n",
              "      <td>597.038685</td>\n",
              "      <td>461.018492</td>\n",
              "    </tr>\n",
              "    <tr>\n",
              "      <th>MntFruits</th>\n",
              "      <td>5.356426</td>\n",
              "      <td>72.375242</td>\n",
              "      <td>22.264580</td>\n",
              "    </tr>\n",
              "    <tr>\n",
              "      <th>MntMeatProducts</th>\n",
              "      <td>25.294177</td>\n",
              "      <td>475.365571</td>\n",
              "      <td>140.975818</td>\n",
              "    </tr>\n",
              "    <tr>\n",
              "      <th>MntFishProducts</th>\n",
              "      <td>7.176707</td>\n",
              "      <td>101.255319</td>\n",
              "      <td>34.008535</td>\n",
              "    </tr>\n",
              "    <tr>\n",
              "      <th>MntSweetProducts</th>\n",
              "      <td>5.343373</td>\n",
              "      <td>74.452611</td>\n",
              "      <td>22.876245</td>\n",
              "    </tr>\n",
              "    <tr>\n",
              "      <th>MntGoldProds</th>\n",
              "      <td>15.278112</td>\n",
              "      <td>80.323017</td>\n",
              "      <td>57.870555</td>\n",
              "    </tr>\n",
              "    <tr>\n",
              "      <th>NumDealsPurchases</th>\n",
              "      <td>1.928715</td>\n",
              "      <td>1.392650</td>\n",
              "      <td>3.567568</td>\n",
              "    </tr>\n",
              "    <tr>\n",
              "      <th>NumWebPurchases</th>\n",
              "      <td>2.113454</td>\n",
              "      <td>5.069632</td>\n",
              "      <td>6.155050</td>\n",
              "    </tr>\n",
              "    <tr>\n",
              "      <th>NumCatalogPurchases</th>\n",
              "      <td>0.553213</td>\n",
              "      <td>5.986460</td>\n",
              "      <td>3.233286</td>\n",
              "    </tr>\n",
              "    <tr>\n",
              "      <th>NumStorePurchases</th>\n",
              "      <td>3.257028</td>\n",
              "      <td>8.468085</td>\n",
              "      <td>7.443812</td>\n",
              "    </tr>\n",
              "    <tr>\n",
              "      <th>NumWebVisitsMonth</th>\n",
              "      <td>6.368474</td>\n",
              "      <td>2.758221</td>\n",
              "      <td>5.715505</td>\n",
              "    </tr>\n",
              "    <tr>\n",
              "      <th>AcceptedCmp3</th>\n",
              "      <td>0.070281</td>\n",
              "      <td>0.069632</td>\n",
              "      <td>0.081081</td>\n",
              "    </tr>\n",
              "    <tr>\n",
              "      <th>AcceptedCmp4</th>\n",
              "      <td>0.013052</td>\n",
              "      <td>0.108317</td>\n",
              "      <td>0.135135</td>\n",
              "    </tr>\n",
              "    <tr>\n",
              "      <th>AcceptedCmp5</th>\n",
              "      <td>0.001004</td>\n",
              "      <td>0.257253</td>\n",
              "      <td>0.039829</td>\n",
              "    </tr>\n",
              "    <tr>\n",
              "      <th>AcceptedCmp1</th>\n",
              "      <td>0.002008</td>\n",
              "      <td>0.206963</td>\n",
              "      <td>0.046942</td>\n",
              "    </tr>\n",
              "    <tr>\n",
              "      <th>AcceptedCmp2</th>\n",
              "      <td>0.002008</td>\n",
              "      <td>0.025145</td>\n",
              "      <td>0.021337</td>\n",
              "    </tr>\n",
              "    <tr>\n",
              "      <th>Complain</th>\n",
              "      <td>0.012048</td>\n",
              "      <td>0.007737</td>\n",
              "      <td>0.007112</td>\n",
              "    </tr>\n",
              "    <tr>\n",
              "      <th>TotalMntSpent</th>\n",
              "      <td>101.940763</td>\n",
              "      <td>1400.810445</td>\n",
              "      <td>739.014225</td>\n",
              "    </tr>\n",
              "    <tr>\n",
              "      <th>Income_int</th>\n",
              "      <td>34943.750000</td>\n",
              "      <td>77148.814313</td>\n",
              "      <td>58449.497866</td>\n",
              "    </tr>\n",
              "    <tr>\n",
              "      <th>DaysSinceJoined</th>\n",
              "      <td>315.856426</td>\n",
              "      <td>364.655706</td>\n",
              "      <td>398.695590</td>\n",
              "    </tr>\n",
              "    <tr>\n",
              "      <th>Age</th>\n",
              "      <td>43.617470</td>\n",
              "      <td>46.738878</td>\n",
              "      <td>49.398293</td>\n",
              "    </tr>\n",
              "  </tbody>\n",
              "</table>\n",
              "</div>"
            ],
            "text/plain": [
              "hcluster label                  1             2             3\n",
              "Kidhome                  0.775100      0.023211      0.277383\n",
              "Teenhome                 0.426707      0.170213      0.863442\n",
              "Recency                 50.204819     49.793037     46.749644\n",
              "MntWines                43.491968    597.038685    461.018492\n",
              "MntFruits                5.356426     72.375242     22.264580\n",
              "MntMeatProducts         25.294177    475.365571    140.975818\n",
              "MntFishProducts          7.176707    101.255319     34.008535\n",
              "MntSweetProducts         5.343373     74.452611     22.876245\n",
              "MntGoldProds            15.278112     80.323017     57.870555\n",
              "NumDealsPurchases        1.928715      1.392650      3.567568\n",
              "NumWebPurchases          2.113454      5.069632      6.155050\n",
              "NumCatalogPurchases      0.553213      5.986460      3.233286\n",
              "NumStorePurchases        3.257028      8.468085      7.443812\n",
              "NumWebVisitsMonth        6.368474      2.758221      5.715505\n",
              "AcceptedCmp3             0.070281      0.069632      0.081081\n",
              "AcceptedCmp4             0.013052      0.108317      0.135135\n",
              "AcceptedCmp5             0.001004      0.257253      0.039829\n",
              "AcceptedCmp1             0.002008      0.206963      0.046942\n",
              "AcceptedCmp2             0.002008      0.025145      0.021337\n",
              "Complain                 0.012048      0.007737      0.007112\n",
              "TotalMntSpent          101.940763   1400.810445    739.014225\n",
              "Income_int           34943.750000  77148.814313  58449.497866\n",
              "DaysSinceJoined        315.856426    364.655706    398.695590\n",
              "Age                     43.617470     46.738878     49.398293"
            ]
          },
          "execution_count": 42,
          "metadata": {
            "tags": []
          },
          "output_type": "execute_result"
        }
      ],
      "source": [
        "# profiles for each customer segment\n",
        "\n",
        "profile = marketing2.groupby(\"hcluster label\").mean()\n",
        "\n",
        "profile.T"
      ]
    },
    {
      "cell_type": "code",
      "execution_count": null,
      "metadata": {
        "colab": {
          "base_uri": "https://localhost:8080/",
          "height": 312
        },
        "id": "ukODsmMdLQGm",
        "outputId": "bcc10060-0dc3-4846-9e89-1e7735e75271"
      },
      "outputs": [
        {
          "data": {
            "text/plain": [
              "Text(0.5, 1.0, 'Heatmap of Correlations between each Cluster and the Variables')"
            ]
          },
          "execution_count": 43,
          "metadata": {
            "tags": []
          },
          "output_type": "execute_result"
        },
        {
          "data": {
            "image/png": "[encoded data removed]",
            "text/plain": [
              "<Figure size 432x288 with 2 Axes>"
            ]
          },
          "metadata": {
            "needs_background": "light",
            "tags": []
          },
          "output_type": "display_data"
        }
      ],
      "source": [
        "# heatmap showing correlations between each cluster and all the variables\n",
        "\n",
        "scp = StandardScaler()\n",
        "cluster_scaled = scp.fit_transform(profile)\n",
        "\n",
        "cluster_scaled = pd.DataFrame(cluster_scaled, \n",
        "                              index=profile.index, \n",
        "                              columns=profile.columns)\n",
        "cluster_scaled_tran=pd.DataFrame.transpose(cluster_scaled)\n",
        "g = sns.heatmap(cluster_scaled_tran, cmap=\"Blues\", center=0)\n",
        "g.set_title('Heatmap of Correlations between each Cluster and the Variables')"
      ]
    },
    {
      "cell_type": "markdown",
      "metadata": {
        "id": "F75WRCQa1kOi"
      },
      "source": [
        "### PCA"
      ]
    },
    {
      "cell_type": "code",
      "execution_count": null,
      "metadata": {
        "id": "ilzp9x31LmaI"
      },
      "outputs": [],
      "source": [
        "# combine the scaled numerical data and catagorical data\n",
        "marketing3 = pd.concat([marketing_n_scaled,marketing_c], axis=1)"
      ]
    },
    {
      "cell_type": "code",
      "execution_count": null,
      "metadata": {
        "colab": {
          "base_uri": "https://localhost:8080/",
          "height": 224
        },
        "id": "EUnfJl0W2DzV",
        "outputId": "a23fafb8-4c95-457c-80f1-39b3efb62d14"
      },
      "outputs": [
        {
          "data": {
            "text/html": [
              "<div>\n",
              "<style scoped>\n",
              "    .dataframe tbody tr th:only-of-type {\n",
              "        vertical-align: middle;\n",
              "    }\n",
              "\n",
              "    .dataframe tbody tr th {\n",
              "        vertical-align: top;\n",
              "    }\n",
              "\n",
              "    .dataframe thead th {\n",
              "        text-align: right;\n",
              "    }\n",
              "</style>\n",
              "<table border=\"1\" class=\"dataframe\">\n",
              "  <thead>\n",
              "    <tr style=\"text-align: right;\">\n",
              "      <th></th>\n",
              "      <th>Kidhome</th>\n",
              "      <th>Teenhome</th>\n",
              "      <th>Recency</th>\n",
              "      <th>MntWines</th>\n",
              "      <th>MntFruits</th>\n",
              "      <th>MntMeatProducts</th>\n",
              "      <th>MntFishProducts</th>\n",
              "      <th>MntSweetProducts</th>\n",
              "      <th>MntGoldProds</th>\n",
              "      <th>NumDealsPurchases</th>\n",
              "      <th>NumWebPurchases</th>\n",
              "      <th>NumCatalogPurchases</th>\n",
              "      <th>NumStorePurchases</th>\n",
              "      <th>NumWebVisitsMonth</th>\n",
              "      <th>TotalMntSpent</th>\n",
              "      <th>Income_int</th>\n",
              "      <th>DaysSinceJoined</th>\n",
              "      <th>Age</th>\n",
              "      <th>Education</th>\n",
              "      <th>Marital_Status</th>\n",
              "      <th>AcceptedCmp3</th>\n",
              "      <th>AcceptedCmp4</th>\n",
              "      <th>AcceptedCmp5</th>\n",
              "      <th>AcceptedCmp1</th>\n",
              "      <th>AcceptedCmp2</th>\n",
              "      <th>Complain</th>\n",
              "    </tr>\n",
              "  </thead>\n",
              "  <tbody>\n",
              "    <tr>\n",
              "      <th>0</th>\n",
              "      <td>-0.823039</td>\n",
              "      <td>-0.928972</td>\n",
              "      <td>-1.693488</td>\n",
              "      <td>-0.344228</td>\n",
              "      <td>1.951592</td>\n",
              "      <td>0.945465</td>\n",
              "      <td>1.340203</td>\n",
              "      <td>3.944475</td>\n",
              "      <td>3.359503</td>\n",
              "      <td>-0.688176</td>\n",
              "      <td>-0.031124</td>\n",
              "      <td>0.454182</td>\n",
              "      <td>0.061232</td>\n",
              "      <td>-1.781187</td>\n",
              "      <td>0.967085</td>\n",
              "      <td>1.294840</td>\n",
              "      <td>-1.682509</td>\n",
              "      <td>-0.098441</td>\n",
              "      <td>Graduation</td>\n",
              "      <td>Divorced</td>\n",
              "      <td>0</td>\n",
              "      <td>0</td>\n",
              "      <td>0</td>\n",
              "      <td>0</td>\n",
              "      <td>0</td>\n",
              "      <td>0</td>\n",
              "    </tr>\n",
              "    <tr>\n",
              "      <th>1</th>\n",
              "      <td>-0.823039</td>\n",
              "      <td>-0.928972</td>\n",
              "      <td>-1.693488</td>\n",
              "      <td>0.471186</td>\n",
              "      <td>-0.536787</td>\n",
              "      <td>-0.459326</td>\n",
              "      <td>-0.559697</td>\n",
              "      <td>-0.658233</td>\n",
              "      <td>-0.134455</td>\n",
              "      <td>-0.688176</td>\n",
              "      <td>1.063634</td>\n",
              "      <td>0.112428</td>\n",
              "      <td>0.368919</td>\n",
              "      <td>-0.131574</td>\n",
              "      <td>-0.049896</td>\n",
              "      <td>0.192461</td>\n",
              "      <td>-1.677568</td>\n",
              "      <td>0.652633</td>\n",
              "      <td>Graduation</td>\n",
              "      <td>Single</td>\n",
              "      <td>0</td>\n",
              "      <td>0</td>\n",
              "      <td>0</td>\n",
              "      <td>0</td>\n",
              "      <td>1</td>\n",
              "      <td>0</td>\n",
              "    </tr>\n",
              "    <tr>\n",
              "      <th>2</th>\n",
              "      <td>-0.823039</td>\n",
              "      <td>0.909066</td>\n",
              "      <td>-1.693488</td>\n",
              "      <td>-0.507311</td>\n",
              "      <td>-0.385976</td>\n",
              "      <td>-0.481624</td>\n",
              "      <td>-0.413550</td>\n",
              "      <td>-0.609527</td>\n",
              "      <td>-0.269580</td>\n",
              "      <td>-0.688176</td>\n",
              "      <td>-0.396043</td>\n",
              "      <td>-0.229327</td>\n",
              "      <td>-0.246455</td>\n",
              "      <td>-1.368784</td>\n",
              "      <td>-0.590737</td>\n",
              "      <td>0.596794</td>\n",
              "      <td>-1.514515</td>\n",
              "      <td>0.902990</td>\n",
              "      <td>Graduation</td>\n",
              "      <td>Married</td>\n",
              "      <td>0</td>\n",
              "      <td>0</td>\n",
              "      <td>0</td>\n",
              "      <td>0</td>\n",
              "      <td>0</td>\n",
              "      <td>0</td>\n",
              "    </tr>\n",
              "    <tr>\n",
              "      <th>3</th>\n",
              "      <td>1.039938</td>\n",
              "      <td>0.909066</td>\n",
              "      <td>-1.693488</td>\n",
              "      <td>-0.874989</td>\n",
              "      <td>-0.662463</td>\n",
              "      <td>-0.740284</td>\n",
              "      <td>-0.687574</td>\n",
              "      <td>-0.658233</td>\n",
              "      <td>-0.848689</td>\n",
              "      <td>-0.688176</td>\n",
              "      <td>-1.125881</td>\n",
              "      <td>-0.912837</td>\n",
              "      <td>-1.169518</td>\n",
              "      <td>0.693232</td>\n",
              "      <td>-0.988903</td>\n",
              "      <td>-0.785669</td>\n",
              "      <td>-1.504633</td>\n",
              "      <td>0.151917</td>\n",
              "      <td>Graduation</td>\n",
              "      <td>Together</td>\n",
              "      <td>0</td>\n",
              "      <td>0</td>\n",
              "      <td>0</td>\n",
              "      <td>0</td>\n",
              "      <td>0</td>\n",
              "      <td>0</td>\n",
              "    </tr>\n",
              "    <tr>\n",
              "      <th>4</th>\n",
              "      <td>1.039938</td>\n",
              "      <td>-0.928972</td>\n",
              "      <td>-1.693488</td>\n",
              "      <td>-0.886850</td>\n",
              "      <td>-0.260301</td>\n",
              "      <td>-0.637712</td>\n",
              "      <td>-0.486623</td>\n",
              "      <td>-0.658233</td>\n",
              "      <td>-0.192366</td>\n",
              "      <td>-0.168231</td>\n",
              "      <td>-0.396043</td>\n",
              "      <td>-0.571082</td>\n",
              "      <td>-1.169518</td>\n",
              "      <td>0.693232</td>\n",
              "      <td>-0.856181</td>\n",
              "      <td>-1.222743</td>\n",
              "      <td>-1.341581</td>\n",
              "      <td>-1.684040</td>\n",
              "      <td>Graduation</td>\n",
              "      <td>Single</td>\n",
              "      <td>1</td>\n",
              "      <td>0</td>\n",
              "      <td>0</td>\n",
              "      <td>0</td>\n",
              "      <td>0</td>\n",
              "      <td>0</td>\n",
              "    </tr>\n",
              "  </tbody>\n",
              "</table>\n",
              "</div>"
            ],
            "text/plain": [
              "    Kidhome  Teenhome   Recency  ...  AcceptedCmp1  AcceptedCmp2  Complain\n",
              "0 -0.823039 -0.928972 -1.693488  ...             0             0         0\n",
              "1 -0.823039 -0.928972 -1.693488  ...             0             1         0\n",
              "2 -0.823039  0.909066 -1.693488  ...             0             0         0\n",
              "3  1.039938  0.909066 -1.693488  ...             0             0         0\n",
              "4  1.039938 -0.928972 -1.693488  ...             0             0         0\n",
              "\n",
              "[5 rows x 26 columns]"
            ]
          },
          "execution_count": 34,
          "metadata": {
            "tags": []
          },
          "output_type": "execute_result"
        }
      ],
      "source": [
        "marketing3.head()"
      ]
    },
    {
      "cell_type": "code",
      "execution_count": null,
      "metadata": {
        "id": "tftKaxdp2GQY"
      },
      "outputs": [],
      "source": [
        "# one hot encode\n",
        "marketing3 = pd.get_dummies(marketing3,columns=['Education', 'Marital_Status'],drop_first=True)"
      ]
    },
    {
      "cell_type": "code",
      "execution_count": null,
      "metadata": {
        "colab": {
          "base_uri": "https://localhost:8080/",
          "height": 224
        },
        "id": "f8cIrabq2Kn5",
        "outputId": "babc6cd9-7007-4753-c917-0090bb34b666"
      },
      "outputs": [
        {
          "data": {
            "text/html": [
              "<div>\n",
              "<style scoped>\n",
              "    .dataframe tbody tr th:only-of-type {\n",
              "        vertical-align: middle;\n",
              "    }\n",
              "\n",
              "    .dataframe tbody tr th {\n",
              "        vertical-align: top;\n",
              "    }\n",
              "\n",
              "    .dataframe thead th {\n",
              "        text-align: right;\n",
              "    }\n",
              "</style>\n",
              "<table border=\"1\" class=\"dataframe\">\n",
              "  <thead>\n",
              "    <tr style=\"text-align: right;\">\n",
              "      <th></th>\n",
              "      <th>Kidhome</th>\n",
              "      <th>Teenhome</th>\n",
              "      <th>Recency</th>\n",
              "      <th>MntWines</th>\n",
              "      <th>MntFruits</th>\n",
              "      <th>MntMeatProducts</th>\n",
              "      <th>MntFishProducts</th>\n",
              "      <th>MntSweetProducts</th>\n",
              "      <th>MntGoldProds</th>\n",
              "      <th>NumDealsPurchases</th>\n",
              "      <th>NumWebPurchases</th>\n",
              "      <th>NumCatalogPurchases</th>\n",
              "      <th>NumStorePurchases</th>\n",
              "      <th>NumWebVisitsMonth</th>\n",
              "      <th>TotalMntSpent</th>\n",
              "      <th>Income_int</th>\n",
              "      <th>DaysSinceJoined</th>\n",
              "      <th>Age</th>\n",
              "      <th>AcceptedCmp3</th>\n",
              "      <th>AcceptedCmp4</th>\n",
              "      <th>AcceptedCmp5</th>\n",
              "      <th>AcceptedCmp1</th>\n",
              "      <th>AcceptedCmp2</th>\n",
              "      <th>Complain</th>\n",
              "      <th>Education_Basic</th>\n",
              "      <th>Education_Graduation</th>\n",
              "      <th>Education_Master</th>\n",
              "      <th>Education_PhD</th>\n",
              "      <th>Marital_Status_Alone</th>\n",
              "      <th>Marital_Status_Divorced</th>\n",
              "      <th>Marital_Status_Married</th>\n",
              "      <th>Marital_Status_Single</th>\n",
              "      <th>Marital_Status_Together</th>\n",
              "      <th>Marital_Status_Widow</th>\n",
              "      <th>Marital_Status_YOLO</th>\n",
              "    </tr>\n",
              "  </thead>\n",
              "  <tbody>\n",
              "    <tr>\n",
              "      <th>0</th>\n",
              "      <td>-0.823039</td>\n",
              "      <td>-0.928972</td>\n",
              "      <td>-1.693488</td>\n",
              "      <td>-0.344228</td>\n",
              "      <td>1.951592</td>\n",
              "      <td>0.945465</td>\n",
              "      <td>1.340203</td>\n",
              "      <td>3.944475</td>\n",
              "      <td>3.359503</td>\n",
              "      <td>-0.688176</td>\n",
              "      <td>-0.031124</td>\n",
              "      <td>0.454182</td>\n",
              "      <td>0.061232</td>\n",
              "      <td>-1.781187</td>\n",
              "      <td>0.967085</td>\n",
              "      <td>1.294840</td>\n",
              "      <td>-1.682509</td>\n",
              "      <td>-0.098441</td>\n",
              "      <td>0</td>\n",
              "      <td>0</td>\n",
              "      <td>0</td>\n",
              "      <td>0</td>\n",
              "      <td>0</td>\n",
              "      <td>0</td>\n",
              "      <td>0</td>\n",
              "      <td>1</td>\n",
              "      <td>0</td>\n",
              "      <td>0</td>\n",
              "      <td>0</td>\n",
              "      <td>1</td>\n",
              "      <td>0</td>\n",
              "      <td>0</td>\n",
              "      <td>0</td>\n",
              "      <td>0</td>\n",
              "      <td>0</td>\n",
              "    </tr>\n",
              "    <tr>\n",
              "      <th>1</th>\n",
              "      <td>-0.823039</td>\n",
              "      <td>-0.928972</td>\n",
              "      <td>-1.693488</td>\n",
              "      <td>0.471186</td>\n",
              "      <td>-0.536787</td>\n",
              "      <td>-0.459326</td>\n",
              "      <td>-0.559697</td>\n",
              "      <td>-0.658233</td>\n",
              "      <td>-0.134455</td>\n",
              "      <td>-0.688176</td>\n",
              "      <td>1.063634</td>\n",
              "      <td>0.112428</td>\n",
              "      <td>0.368919</td>\n",
              "      <td>-0.131574</td>\n",
              "      <td>-0.049896</td>\n",
              "      <td>0.192461</td>\n",
              "      <td>-1.677568</td>\n",
              "      <td>0.652633</td>\n",
              "      <td>0</td>\n",
              "      <td>0</td>\n",
              "      <td>0</td>\n",
              "      <td>0</td>\n",
              "      <td>1</td>\n",
              "      <td>0</td>\n",
              "      <td>0</td>\n",
              "      <td>1</td>\n",
              "      <td>0</td>\n",
              "      <td>0</td>\n",
              "      <td>0</td>\n",
              "      <td>0</td>\n",
              "      <td>0</td>\n",
              "      <td>1</td>\n",
              "      <td>0</td>\n",
              "      <td>0</td>\n",
              "      <td>0</td>\n",
              "    </tr>\n",
              "    <tr>\n",
              "      <th>2</th>\n",
              "      <td>-0.823039</td>\n",
              "      <td>0.909066</td>\n",
              "      <td>-1.693488</td>\n",
              "      <td>-0.507311</td>\n",
              "      <td>-0.385976</td>\n",
              "      <td>-0.481624</td>\n",
              "      <td>-0.413550</td>\n",
              "      <td>-0.609527</td>\n",
              "      <td>-0.269580</td>\n",
              "      <td>-0.688176</td>\n",
              "      <td>-0.396043</td>\n",
              "      <td>-0.229327</td>\n",
              "      <td>-0.246455</td>\n",
              "      <td>-1.368784</td>\n",
              "      <td>-0.590737</td>\n",
              "      <td>0.596794</td>\n",
              "      <td>-1.514515</td>\n",
              "      <td>0.902990</td>\n",
              "      <td>0</td>\n",
              "      <td>0</td>\n",
              "      <td>0</td>\n",
              "      <td>0</td>\n",
              "      <td>0</td>\n",
              "      <td>0</td>\n",
              "      <td>0</td>\n",
              "      <td>1</td>\n",
              "      <td>0</td>\n",
              "      <td>0</td>\n",
              "      <td>0</td>\n",
              "      <td>0</td>\n",
              "      <td>1</td>\n",
              "      <td>0</td>\n",
              "      <td>0</td>\n",
              "      <td>0</td>\n",
              "      <td>0</td>\n",
              "    </tr>\n",
              "    <tr>\n",
              "      <th>3</th>\n",
              "      <td>1.039938</td>\n",
              "      <td>0.909066</td>\n",
              "      <td>-1.693488</td>\n",
              "      <td>-0.874989</td>\n",
              "      <td>-0.662463</td>\n",
              "      <td>-0.740284</td>\n",
              "      <td>-0.687574</td>\n",
              "      <td>-0.658233</td>\n",
              "      <td>-0.848689</td>\n",
              "      <td>-0.688176</td>\n",
              "      <td>-1.125881</td>\n",
              "      <td>-0.912837</td>\n",
              "      <td>-1.169518</td>\n",
              "      <td>0.693232</td>\n",
              "      <td>-0.988903</td>\n",
              "      <td>-0.785669</td>\n",
              "      <td>-1.504633</td>\n",
              "      <td>0.151917</td>\n",
              "      <td>0</td>\n",
              "      <td>0</td>\n",
              "      <td>0</td>\n",
              "      <td>0</td>\n",
              "      <td>0</td>\n",
              "      <td>0</td>\n",
              "      <td>0</td>\n",
              "      <td>1</td>\n",
              "      <td>0</td>\n",
              "      <td>0</td>\n",
              "      <td>0</td>\n",
              "      <td>0</td>\n",
              "      <td>0</td>\n",
              "      <td>0</td>\n",
              "      <td>1</td>\n",
              "      <td>0</td>\n",
              "      <td>0</td>\n",
              "    </tr>\n",
              "    <tr>\n",
              "      <th>4</th>\n",
              "      <td>1.039938</td>\n",
              "      <td>-0.928972</td>\n",
              "      <td>-1.693488</td>\n",
              "      <td>-0.886850</td>\n",
              "      <td>-0.260301</td>\n",
              "      <td>-0.637712</td>\n",
              "      <td>-0.486623</td>\n",
              "      <td>-0.658233</td>\n",
              "      <td>-0.192366</td>\n",
              "      <td>-0.168231</td>\n",
              "      <td>-0.396043</td>\n",
              "      <td>-0.571082</td>\n",
              "      <td>-1.169518</td>\n",
              "      <td>0.693232</td>\n",
              "      <td>-0.856181</td>\n",
              "      <td>-1.222743</td>\n",
              "      <td>-1.341581</td>\n",
              "      <td>-1.684040</td>\n",
              "      <td>1</td>\n",
              "      <td>0</td>\n",
              "      <td>0</td>\n",
              "      <td>0</td>\n",
              "      <td>0</td>\n",
              "      <td>0</td>\n",
              "      <td>0</td>\n",
              "      <td>1</td>\n",
              "      <td>0</td>\n",
              "      <td>0</td>\n",
              "      <td>0</td>\n",
              "      <td>0</td>\n",
              "      <td>0</td>\n",
              "      <td>1</td>\n",
              "      <td>0</td>\n",
              "      <td>0</td>\n",
              "      <td>0</td>\n",
              "    </tr>\n",
              "  </tbody>\n",
              "</table>\n",
              "</div>"
            ],
            "text/plain": [
              "    Kidhome  Teenhome  ...  Marital_Status_Widow  Marital_Status_YOLO\n",
              "0 -0.823039 -0.928972  ...                     0                    0\n",
              "1 -0.823039 -0.928972  ...                     0                    0\n",
              "2 -0.823039  0.909066  ...                     0                    0\n",
              "3  1.039938  0.909066  ...                     0                    0\n",
              "4  1.039938 -0.928972  ...                     0                    0\n",
              "\n",
              "[5 rows x 35 columns]"
            ]
          },
          "execution_count": 36,
          "metadata": {
            "tags": []
          },
          "output_type": "execute_result"
        }
      ],
      "source": [
        "marketing3.head()"
      ]
    },
    {
      "cell_type": "code",
      "execution_count": null,
      "metadata": {
        "id": "qcClkXlF2MvT"
      },
      "outputs": [],
      "source": [
        "pca = PCA()\n",
        "pcs = pca.fit_transform(marketing3)"
      ]
    },
    {
      "cell_type": "code",
      "execution_count": null,
      "metadata": {
        "colab": {
          "base_uri": "https://localhost:8080/",
          "height": 298
        },
        "id": "5IfIikO02fA1",
        "outputId": "a529acae-4e78-4adc-c470-b2fd50a511a0"
      },
      "outputs": [
        {
          "data": {
            "text/plain": [
              "<matplotlib.lines.Line2D at 0x7fd5c7826310>"
            ]
          },
          "execution_count": 31,
          "metadata": {
            "tags": []
          },
          "output_type": "execute_result"
        },
        {
          "data": {
            "image/png": "[encoded data removed]",
            "text/plain": [
              "<Figure size 432x288 with 1 Axes>"
            ]
          },
          "metadata": {
            "needs_background": "light",
            "tags": []
          },
          "output_type": "display_data"
        }
      ],
      "source": [
        "# it needs 15 features to explian 90% of variance\n",
        "varexp = pca.explained_variance_ratio_\n",
        "plt.title(\"Cumulative Explained Variance\")\n",
        "plt.plot(range(1, len(varexp)+1), np.cumsum(varexp))\n",
        "plt.axhline(.90)"
      ]
    },
    {
      "cell_type": "code",
      "execution_count": null,
      "metadata": {
        "id": "KFkXJYcV2gh0"
      },
      "outputs": [],
      "source": [
        "#select top 15 pc\n",
        "comps = pcs[:,:15]"
      ]
    },
    {
      "cell_type": "code",
      "execution_count": null,
      "metadata": {
        "colab": {
          "base_uri": "https://localhost:8080/"
        },
        "id": "eJwWVLju686h",
        "outputId": "1bf00803-9455-4a9b-fdba-73e506ff7eca"
      },
      "outputs": [
        {
          "data": {
            "text/plain": [
              "array([[ 4.30957046, -2.41927634, -0.01004959, ..., -1.33465282,\n",
              "        -0.96495606, -0.47616545],\n",
              "       [ 0.16611263, -0.3874954 ,  1.372809  , ..., -0.23583481,\n",
              "         0.67019427, -0.50769911],\n",
              "       [-0.51383548, -0.61391101,  2.75316147, ..., -0.13864085,\n",
              "         0.36677722,  0.60779159],\n",
              "       ...,\n",
              "       [-1.54361997,  0.2416542 , -1.59747468, ...,  0.03689698,\n",
              "         0.78729287, -0.10637285],\n",
              "       [ 3.99626623, -1.51457987, -1.63311717, ...,  0.24637741,\n",
              "        -0.46346956,  0.56898837],\n",
              "       [ 2.60806035,  1.82627433, -0.21483129, ...,  2.71632802,\n",
              "         0.998716  ,  1.39681382]])"
            ]
          },
          "execution_count": 40,
          "metadata": {
            "tags": []
          },
          "output_type": "execute_result"
        }
      ],
      "source": [
        "comps"
      ]
    },
    {
      "cell_type": "code",
      "execution_count": null,
      "metadata": {
        "id": "zbq1JJpH3I-P"
      },
      "outputs": [],
      "source": [
        "#create a new dataframe to include the pca features\n",
        "pca_df = pd.DataFrame(comps,columns=[\"pc1\",\"pc2\",\"pc3\",\"pc4\",\"pc5\",\"pc6\",\"pc7\",\"pc8\",\"pc9\",\"pc10\",\"pc11\",\"pc12\",\"pc13\",\"pc14\",\"pc15\"])"
      ]
    },
    {
      "cell_type": "markdown",
      "metadata": {
        "id": "BO4j7jAMrrgX"
      },
      "source": [
        "###K-Means Clustering"
      ]
    },
    {
      "cell_type": "code",
      "execution_count": null,
      "metadata": {
        "colab": {
          "base_uri": "https://localhost:8080/",
          "height": 319
        },
        "id": "PrdVJ_Ge3MSf",
        "outputId": "bddd2a85-5f3a-476c-ae30-67281abfffa0"
      },
      "outputs": [
        {
          "name": "stderr",
          "output_type": "stream",
          "text": [
            "/usr/local/lib/python3.7/dist-packages/seaborn/_decorators.py:43: FutureWarning: Pass the following variables as keyword args: x, y. From version 0.12, the only valid positional argument will be `data`, and passing other arguments without an explicit keyword will result in an error or misinterpretation.\n",
            "  FutureWarning\n"
          ]
        },
        {
          "data": {
            "image/png": "[encoded data removed]",
            "text/plain": [
              "<Figure size 432x288 with 1 Axes>"
            ]
          },
          "metadata": {
            "needs_background": "light",
            "tags": []
          },
          "output_type": "display_data"
        }
      ],
      "source": [
        "# plotting inertia values \n",
        "\n",
        "ss = []\n",
        "K = range(2,15)\n",
        "for k in K:\n",
        "    km = KMeans(n_clusters=k)\n",
        "    km.fit(pca_df)\n",
        "    ss.append(km.inertia_)\n",
        "sns.lineplot(K, ss)\n",
        "plt.plot([5], [0:], linewidth=2)\n",
        "plt.show()"
      ]
    },
    {
      "cell_type": "code",
      "execution_count": null,
      "metadata": {
        "colab": {
          "base_uri": "https://localhost:8080/",
          "height": 336
        },
        "id": "oyGqSiZ0mWcf",
        "outputId": "beaadb75-f497-4185-e246-8761b5aef5ce"
      },
      "outputs": [
        {
          "name": "stderr",
          "output_type": "stream",
          "text": [
            "/usr/local/lib/python3.7/dist-packages/seaborn/_decorators.py:43: FutureWarning: Pass the following variables as keyword args: x, y. From version 0.12, the only valid positional argument will be `data`, and passing other arguments without an explicit keyword will result in an error or misinterpretation.\n",
            "  FutureWarning\n"
          ]
        },
        {
          "data": {
            "text/plain": [
              "<matplotlib.axes._subplots.AxesSubplot at 0x7fd5bc290390>"
            ]
          },
          "execution_count": 36,
          "metadata": {
            "tags": []
          },
          "output_type": "execute_result"
        },
        {
          "data": {
            "image/png": "[encoded data removed]",
            "text/plain": [
              "<Figure size 432x288 with 1 Axes>"
            ]
          },
          "metadata": {
            "needs_background": "light",
            "tags": []
          },
          "output_type": "display_data"
        }
      ],
      "source": [
        "# plotting silhouette score\n",
        "\n",
        "KRANGE = range(2, 30)\n",
        "\n",
        "ss = []\n",
        "\n",
        "\n",
        "for k in KRANGE:\n",
        "  km = KMeans(k)\n",
        "  lab = km.fit_predict(pca_df)\n",
        "  ss.append(metrics.silhouette_score(pca_df, lab))\n",
        "\n",
        "sns.lineplot(KRANGE, ss)"
      ]
    },
    {
      "cell_type": "code",
      "execution_count": null,
      "metadata": {
        "id": "hPyjS63VRm6C"
      },
      "outputs": [],
      "source": [
        "# set seed to hold the result consistently\n",
        "import random\n",
        "random.seed(42)"
      ]
    },
    {
      "cell_type": "code",
      "execution_count": null,
      "metadata": {
        "id": "Cko5Lh3H3XCQ"
      },
      "outputs": [],
      "source": [
        "\n",
        "# fit the model\n",
        "# choosing 4 clusters for kmeans based on inertia and silhouette scores\n",
        "k4 = KMeans(4,n_init=100)\n",
        "k4.fit(pca_df)\n",
        "k4_labs = k4.predict(pca_df)"
      ]
    },
    {
      "cell_type": "code",
      "execution_count": null,
      "metadata": {
        "id": "qk-4RtVL3kxH"
      },
      "outputs": [],
      "source": [
        "# put the cluset back to the original data\n",
        "marketing4 = marketing2.copy()\n",
        "marketing4[\"kmeans cluster\"] = k4_labs\n"
      ]
    },
    {
      "cell_type": "code",
      "execution_count": null,
      "metadata": {
        "colab": {
          "base_uri": "https://localhost:8080/",
          "height": 241
        },
        "id": "t3p6Euf53_Jq",
        "outputId": "34092db6-8d83-4ccc-ad6f-df614a625c16"
      },
      "outputs": [
        {
          "data": {
            "text/html": [
              "<div>\n",
              "<style scoped>\n",
              "    .dataframe tbody tr th:only-of-type {\n",
              "        vertical-align: middle;\n",
              "    }\n",
              "\n",
              "    .dataframe tbody tr th {\n",
              "        vertical-align: top;\n",
              "    }\n",
              "\n",
              "    .dataframe thead th {\n",
              "        text-align: right;\n",
              "    }\n",
              "</style>\n",
              "<table border=\"1\" class=\"dataframe\">\n",
              "  <thead>\n",
              "    <tr style=\"text-align: right;\">\n",
              "      <th></th>\n",
              "      <th>Education</th>\n",
              "      <th>Marital_Status</th>\n",
              "      <th>Kidhome</th>\n",
              "      <th>Teenhome</th>\n",
              "      <th>Recency</th>\n",
              "      <th>MntWines</th>\n",
              "      <th>MntFruits</th>\n",
              "      <th>MntMeatProducts</th>\n",
              "      <th>MntFishProducts</th>\n",
              "      <th>MntSweetProducts</th>\n",
              "      <th>MntGoldProds</th>\n",
              "      <th>NumDealsPurchases</th>\n",
              "      <th>NumWebPurchases</th>\n",
              "      <th>NumCatalogPurchases</th>\n",
              "      <th>NumStorePurchases</th>\n",
              "      <th>NumWebVisitsMonth</th>\n",
              "      <th>AcceptedCmp3</th>\n",
              "      <th>AcceptedCmp4</th>\n",
              "      <th>AcceptedCmp5</th>\n",
              "      <th>AcceptedCmp1</th>\n",
              "      <th>AcceptedCmp2</th>\n",
              "      <th>Complain</th>\n",
              "      <th>TotalMntSpent</th>\n",
              "      <th>Income_int</th>\n",
              "      <th>DaysSinceJoined</th>\n",
              "      <th>Age</th>\n",
              "      <th>kmeans cluster</th>\n",
              "    </tr>\n",
              "  </thead>\n",
              "  <tbody>\n",
              "    <tr>\n",
              "      <th>0</th>\n",
              "      <td>Graduation</td>\n",
              "      <td>Divorced</td>\n",
              "      <td>0</td>\n",
              "      <td>0</td>\n",
              "      <td>0</td>\n",
              "      <td>189</td>\n",
              "      <td>104</td>\n",
              "      <td>379</td>\n",
              "      <td>111</td>\n",
              "      <td>189</td>\n",
              "      <td>218</td>\n",
              "      <td>1</td>\n",
              "      <td>4</td>\n",
              "      <td>4</td>\n",
              "      <td>6</td>\n",
              "      <td>1</td>\n",
              "      <td>0</td>\n",
              "      <td>0</td>\n",
              "      <td>0</td>\n",
              "      <td>0</td>\n",
              "      <td>0</td>\n",
              "      <td>0</td>\n",
              "      <td>1190</td>\n",
              "      <td>84835</td>\n",
              "      <td>13</td>\n",
              "      <td>45</td>\n",
              "      <td>0</td>\n",
              "    </tr>\n",
              "    <tr>\n",
              "      <th>1</th>\n",
              "      <td>Graduation</td>\n",
              "      <td>Single</td>\n",
              "      <td>0</td>\n",
              "      <td>0</td>\n",
              "      <td>0</td>\n",
              "      <td>464</td>\n",
              "      <td>5</td>\n",
              "      <td>64</td>\n",
              "      <td>7</td>\n",
              "      <td>0</td>\n",
              "      <td>37</td>\n",
              "      <td>1</td>\n",
              "      <td>7</td>\n",
              "      <td>3</td>\n",
              "      <td>7</td>\n",
              "      <td>5</td>\n",
              "      <td>0</td>\n",
              "      <td>0</td>\n",
              "      <td>0</td>\n",
              "      <td>0</td>\n",
              "      <td>1</td>\n",
              "      <td>0</td>\n",
              "      <td>577</td>\n",
              "      <td>57091</td>\n",
              "      <td>14</td>\n",
              "      <td>54</td>\n",
              "      <td>2</td>\n",
              "    </tr>\n",
              "    <tr>\n",
              "      <th>2</th>\n",
              "      <td>Graduation</td>\n",
              "      <td>Married</td>\n",
              "      <td>0</td>\n",
              "      <td>1</td>\n",
              "      <td>0</td>\n",
              "      <td>134</td>\n",
              "      <td>11</td>\n",
              "      <td>59</td>\n",
              "      <td>15</td>\n",
              "      <td>2</td>\n",
              "      <td>30</td>\n",
              "      <td>1</td>\n",
              "      <td>3</td>\n",
              "      <td>2</td>\n",
              "      <td>5</td>\n",
              "      <td>2</td>\n",
              "      <td>0</td>\n",
              "      <td>0</td>\n",
              "      <td>0</td>\n",
              "      <td>0</td>\n",
              "      <td>0</td>\n",
              "      <td>0</td>\n",
              "      <td>251</td>\n",
              "      <td>67267</td>\n",
              "      <td>47</td>\n",
              "      <td>57</td>\n",
              "      <td>1</td>\n",
              "    </tr>\n",
              "    <tr>\n",
              "      <th>3</th>\n",
              "      <td>Graduation</td>\n",
              "      <td>Together</td>\n",
              "      <td>1</td>\n",
              "      <td>1</td>\n",
              "      <td>0</td>\n",
              "      <td>10</td>\n",
              "      <td>0</td>\n",
              "      <td>1</td>\n",
              "      <td>0</td>\n",
              "      <td>0</td>\n",
              "      <td>0</td>\n",
              "      <td>1</td>\n",
              "      <td>1</td>\n",
              "      <td>0</td>\n",
              "      <td>2</td>\n",
              "      <td>7</td>\n",
              "      <td>0</td>\n",
              "      <td>0</td>\n",
              "      <td>0</td>\n",
              "      <td>0</td>\n",
              "      <td>0</td>\n",
              "      <td>0</td>\n",
              "      <td>11</td>\n",
              "      <td>32474</td>\n",
              "      <td>49</td>\n",
              "      <td>48</td>\n",
              "      <td>1</td>\n",
              "    </tr>\n",
              "    <tr>\n",
              "      <th>4</th>\n",
              "      <td>Graduation</td>\n",
              "      <td>Single</td>\n",
              "      <td>1</td>\n",
              "      <td>0</td>\n",
              "      <td>0</td>\n",
              "      <td>6</td>\n",
              "      <td>16</td>\n",
              "      <td>24</td>\n",
              "      <td>11</td>\n",
              "      <td>0</td>\n",
              "      <td>34</td>\n",
              "      <td>2</td>\n",
              "      <td>3</td>\n",
              "      <td>1</td>\n",
              "      <td>2</td>\n",
              "      <td>7</td>\n",
              "      <td>1</td>\n",
              "      <td>0</td>\n",
              "      <td>0</td>\n",
              "      <td>0</td>\n",
              "      <td>0</td>\n",
              "      <td>0</td>\n",
              "      <td>91</td>\n",
              "      <td>21474</td>\n",
              "      <td>82</td>\n",
              "      <td>26</td>\n",
              "      <td>3</td>\n",
              "    </tr>\n",
              "  </tbody>\n",
              "</table>\n",
              "</div>"
            ],
            "text/plain": [
              "    Education Marital_Status  Kidhome  ...  DaysSinceJoined  Age  kmeans cluster\n",
              "0  Graduation       Divorced        0  ...               13   45               0\n",
              "1  Graduation         Single        0  ...               14   54               2\n",
              "2  Graduation        Married        0  ...               47   57               1\n",
              "3  Graduation       Together        1  ...               49   48               1\n",
              "4  Graduation         Single        1  ...               82   26               3\n",
              "\n",
              "[5 rows x 27 columns]"
            ]
          },
          "execution_count": 50,
          "metadata": {
            "tags": []
          },
          "output_type": "execute_result"
        }
      ],
      "source": [
        "marketing4.head()"
      ]
    },
    {
      "cell_type": "code",
      "execution_count": null,
      "metadata": {
        "colab": {
          "base_uri": "https://localhost:8080/"
        },
        "id": "joU3D9aDDzNN",
        "outputId": "b5b16446-3a26-40c6-a9be-0a14ef6ed878"
      },
      "outputs": [
        {
          "name": "stdout",
          "output_type": "stream",
          "text": [
            "<class 'pandas.core.frame.DataFrame'>\n",
            "Int64Index: 2216 entries, 0 to 2239\n",
            "Data columns (total 27 columns):\n",
            " #   Column               Non-Null Count  Dtype \n",
            "---  ------               --------------  ----- \n",
            " 0   Education            2216 non-null   object\n",
            " 1   Marital_Status       2216 non-null   object\n",
            " 2   Kidhome              2216 non-null   int64 \n",
            " 3   Teenhome             2216 non-null   int64 \n",
            " 4   Recency              2216 non-null   int64 \n",
            " 5   MntWines             2216 non-null   int64 \n",
            " 6   MntFruits            2216 non-null   int64 \n",
            " 7   MntMeatProducts      2216 non-null   int64 \n",
            " 8   MntFishProducts      2216 non-null   int64 \n",
            " 9   MntSweetProducts     2216 non-null   int64 \n",
            " 10  MntGoldProds         2216 non-null   int64 \n",
            " 11  NumDealsPurchases    2216 non-null   int64 \n",
            " 12  NumWebPurchases      2216 non-null   int64 \n",
            " 13  NumCatalogPurchases  2216 non-null   int64 \n",
            " 14  NumStorePurchases    2216 non-null   int64 \n",
            " 15  NumWebVisitsMonth    2216 non-null   int64 \n",
            " 16  AcceptedCmp3         2216 non-null   int64 \n",
            " 17  AcceptedCmp4         2216 non-null   int64 \n",
            " 18  AcceptedCmp5         2216 non-null   int64 \n",
            " 19  AcceptedCmp1         2216 non-null   int64 \n",
            " 20  AcceptedCmp2         2216 non-null   int64 \n",
            " 21  Complain             2216 non-null   int64 \n",
            " 22  TotalMntSpent        2216 non-null   int64 \n",
            " 23  Income_int           2216 non-null   int64 \n",
            " 24  DaysSinceJoined      2216 non-null   int64 \n",
            " 25  Age                  2216 non-null   int64 \n",
            " 26  kmeans cluster       2216 non-null   int32 \n",
            "dtypes: int32(1), int64(24), object(2)\n",
            "memory usage: 476.1+ KB\n"
          ]
        }
      ],
      "source": [
        "marketing4.info()"
      ]
    },
    {
      "cell_type": "code",
      "execution_count": null,
      "metadata": {
        "colab": {
          "base_uri": "https://localhost:8080/"
        },
        "id": "h4-PoxOP4BqR",
        "outputId": "067b547c-b67d-463a-ab6e-b17190f0281b"
      },
      "outputs": [
        {
          "data": {
            "text/plain": [
              "1    560\n",
              "3    558\n",
              "0    552\n",
              "2    546\n",
              "Name: kmeans cluster, dtype: int64"
            ]
          },
          "execution_count": 52,
          "metadata": {
            "tags": []
          },
          "output_type": "execute_result"
        }
      ],
      "source": [
        "marketing4['kmeans cluster'].value_counts()"
      ]
    },
    {
      "cell_type": "code",
      "execution_count": null,
      "metadata": {
        "colab": {
          "base_uri": "https://localhost:8080/",
          "height": 241
        },
        "id": "wHD0x7yb4FZ_",
        "outputId": "5314e624-bf3d-46d9-870a-eb7a6a9ba23f"
      },
      "outputs": [
        {
          "data": {
            "text/html": [
              "<div>\n",
              "<style scoped>\n",
              "    .dataframe tbody tr th:only-of-type {\n",
              "        vertical-align: middle;\n",
              "    }\n",
              "\n",
              "    .dataframe tbody tr th {\n",
              "        vertical-align: top;\n",
              "    }\n",
              "\n",
              "    .dataframe thead th {\n",
              "        text-align: right;\n",
              "    }\n",
              "</style>\n",
              "<table border=\"1\" class=\"dataframe\">\n",
              "  <thead>\n",
              "    <tr style=\"text-align: right;\">\n",
              "      <th></th>\n",
              "      <th>Kidhome</th>\n",
              "      <th>Teenhome</th>\n",
              "      <th>Recency</th>\n",
              "      <th>MntWines</th>\n",
              "      <th>MntFruits</th>\n",
              "      <th>MntMeatProducts</th>\n",
              "      <th>MntFishProducts</th>\n",
              "      <th>MntSweetProducts</th>\n",
              "      <th>MntGoldProds</th>\n",
              "      <th>NumDealsPurchases</th>\n",
              "      <th>NumWebPurchases</th>\n",
              "      <th>NumCatalogPurchases</th>\n",
              "      <th>NumStorePurchases</th>\n",
              "      <th>NumWebVisitsMonth</th>\n",
              "      <th>AcceptedCmp3</th>\n",
              "      <th>AcceptedCmp4</th>\n",
              "      <th>AcceptedCmp5</th>\n",
              "      <th>AcceptedCmp1</th>\n",
              "      <th>AcceptedCmp2</th>\n",
              "      <th>Complain</th>\n",
              "      <th>TotalMntSpent</th>\n",
              "      <th>Income_int</th>\n",
              "      <th>DaysSinceJoined</th>\n",
              "      <th>Age</th>\n",
              "    </tr>\n",
              "    <tr>\n",
              "      <th>kmeans cluster</th>\n",
              "      <th></th>\n",
              "      <th></th>\n",
              "      <th></th>\n",
              "      <th></th>\n",
              "      <th></th>\n",
              "      <th></th>\n",
              "      <th></th>\n",
              "      <th></th>\n",
              "      <th></th>\n",
              "      <th></th>\n",
              "      <th></th>\n",
              "      <th></th>\n",
              "      <th></th>\n",
              "      <th></th>\n",
              "      <th></th>\n",
              "      <th></th>\n",
              "      <th></th>\n",
              "      <th></th>\n",
              "      <th></th>\n",
              "      <th></th>\n",
              "      <th></th>\n",
              "      <th></th>\n",
              "      <th></th>\n",
              "      <th></th>\n",
              "    </tr>\n",
              "  </thead>\n",
              "  <tbody>\n",
              "    <tr>\n",
              "      <th>0</th>\n",
              "      <td>0.036232</td>\n",
              "      <td>0.148551</td>\n",
              "      <td>49.849638</td>\n",
              "      <td>612.536232</td>\n",
              "      <td>68.952899</td>\n",
              "      <td>464.625000</td>\n",
              "      <td>100.442029</td>\n",
              "      <td>71.387681</td>\n",
              "      <td>77.164855</td>\n",
              "      <td>1.253623</td>\n",
              "      <td>5.050725</td>\n",
              "      <td>6.101449</td>\n",
              "      <td>8.394928</td>\n",
              "      <td>2.722826</td>\n",
              "      <td>0.081522</td>\n",
              "      <td>0.117754</td>\n",
              "      <td>0.260870</td>\n",
              "      <td>0.210145</td>\n",
              "      <td>0.028986</td>\n",
              "      <td>0.005435</td>\n",
              "      <td>1395.108696</td>\n",
              "      <td>77628.579710</td>\n",
              "      <td>352.701087</td>\n",
              "      <td>46.621377</td>\n",
              "    </tr>\n",
              "    <tr>\n",
              "      <th>1</th>\n",
              "      <td>0.660714</td>\n",
              "      <td>0.957143</td>\n",
              "      <td>50.300000</td>\n",
              "      <td>74.255357</td>\n",
              "      <td>5.048214</td>\n",
              "      <td>27.550000</td>\n",
              "      <td>6.705357</td>\n",
              "      <td>4.846429</td>\n",
              "      <td>15.160714</td>\n",
              "      <td>2.425000</td>\n",
              "      <td>2.392857</td>\n",
              "      <td>0.775000</td>\n",
              "      <td>3.700000</td>\n",
              "      <td>5.773214</td>\n",
              "      <td>0.046429</td>\n",
              "      <td>0.032143</td>\n",
              "      <td>0.000000</td>\n",
              "      <td>0.007143</td>\n",
              "      <td>0.003571</td>\n",
              "      <td>0.010714</td>\n",
              "      <td>133.566071</td>\n",
              "      <td>43112.717857</td>\n",
              "      <td>298.458929</td>\n",
              "      <td>51.796429</td>\n",
              "    </tr>\n",
              "    <tr>\n",
              "      <th>2</th>\n",
              "      <td>0.199634</td>\n",
              "      <td>0.904762</td>\n",
              "      <td>47.507326</td>\n",
              "      <td>508.355311</td>\n",
              "      <td>25.765568</td>\n",
              "      <td>152.741758</td>\n",
              "      <td>34.595238</td>\n",
              "      <td>26.053114</td>\n",
              "      <td>67.078755</td>\n",
              "      <td>3.732601</td>\n",
              "      <td>6.723443</td>\n",
              "      <td>3.344322</td>\n",
              "      <td>8.084249</td>\n",
              "      <td>5.767399</td>\n",
              "      <td>0.075092</td>\n",
              "      <td>0.144689</td>\n",
              "      <td>0.032967</td>\n",
              "      <td>0.038462</td>\n",
              "      <td>0.021978</td>\n",
              "      <td>0.009158</td>\n",
              "      <td>814.589744</td>\n",
              "      <td>59259.254579</td>\n",
              "      <td>420.826007</td>\n",
              "      <td>49.857143</td>\n",
              "    </tr>\n",
              "    <tr>\n",
              "      <th>3</th>\n",
              "      <td>0.860215</td>\n",
              "      <td>0.014337</td>\n",
              "      <td>48.365591</td>\n",
              "      <td>33.724014</td>\n",
              "      <td>6.179211</td>\n",
              "      <td>26.460573</td>\n",
              "      <td>9.528674</td>\n",
              "      <td>6.363799</td>\n",
              "      <td>17.413978</td>\n",
              "      <td>1.901434</td>\n",
              "      <td>2.247312</td>\n",
              "      <td>0.521505</td>\n",
              "      <td>3.109319</td>\n",
              "      <td>6.992832</td>\n",
              "      <td>0.091398</td>\n",
              "      <td>0.003584</td>\n",
              "      <td>0.000000</td>\n",
              "      <td>0.001792</td>\n",
              "      <td>0.000000</td>\n",
              "      <td>0.012545</td>\n",
              "      <td>99.670251</td>\n",
              "      <td>29444.906810</td>\n",
              "      <td>343.734767</td>\n",
              "      <td>36.507168</td>\n",
              "    </tr>\n",
              "  </tbody>\n",
              "</table>\n",
              "</div>"
            ],
            "text/plain": [
              "                 Kidhome  Teenhome  ...  DaysSinceJoined        Age\n",
              "kmeans cluster                      ...                            \n",
              "0               0.036232  0.148551  ...       352.701087  46.621377\n",
              "1               0.660714  0.957143  ...       298.458929  51.796429\n",
              "2               0.199634  0.904762  ...       420.826007  49.857143\n",
              "3               0.860215  0.014337  ...       343.734767  36.507168\n",
              "\n",
              "[4 rows x 24 columns]"
            ]
          },
          "execution_count": 53,
          "metadata": {
            "tags": []
          },
          "output_type": "execute_result"
        }
      ],
      "source": [
        "group_stat = marketing4.groupby(\"kmeans cluster\").mean()\n",
        "group_stat.head()"
      ]
    },
    {
      "cell_type": "code",
      "execution_count": null,
      "metadata": {
        "colab": {
          "base_uri": "https://localhost:8080/",
          "height": 793
        },
        "id": "eTVTkfQgxxtc",
        "outputId": "a91b6128-04ef-46cb-de35-fa8a76775a88"
      },
      "outputs": [
        {
          "data": {
            "text/html": [
              "<div>\n",
              "<style scoped>\n",
              "    .dataframe tbody tr th:only-of-type {\n",
              "        vertical-align: middle;\n",
              "    }\n",
              "\n",
              "    .dataframe tbody tr th {\n",
              "        vertical-align: top;\n",
              "    }\n",
              "\n",
              "    .dataframe thead th {\n",
              "        text-align: right;\n",
              "    }\n",
              "</style>\n",
              "<table border=\"1\" class=\"dataframe\">\n",
              "  <thead>\n",
              "    <tr style=\"text-align: right;\">\n",
              "      <th>kmeans cluster</th>\n",
              "      <th>0</th>\n",
              "      <th>1</th>\n",
              "      <th>2</th>\n",
              "      <th>3</th>\n",
              "    </tr>\n",
              "  </thead>\n",
              "  <tbody>\n",
              "    <tr>\n",
              "      <th>Kidhome</th>\n",
              "      <td>0.036232</td>\n",
              "      <td>0.660714</td>\n",
              "      <td>0.199634</td>\n",
              "      <td>0.860215</td>\n",
              "    </tr>\n",
              "    <tr>\n",
              "      <th>Teenhome</th>\n",
              "      <td>0.148551</td>\n",
              "      <td>0.957143</td>\n",
              "      <td>0.904762</td>\n",
              "      <td>0.014337</td>\n",
              "    </tr>\n",
              "    <tr>\n",
              "      <th>Recency</th>\n",
              "      <td>49.849638</td>\n",
              "      <td>50.300000</td>\n",
              "      <td>47.507326</td>\n",
              "      <td>48.365591</td>\n",
              "    </tr>\n",
              "    <tr>\n",
              "      <th>MntWines</th>\n",
              "      <td>612.536232</td>\n",
              "      <td>74.255357</td>\n",
              "      <td>508.355311</td>\n",
              "      <td>33.724014</td>\n",
              "    </tr>\n",
              "    <tr>\n",
              "      <th>MntFruits</th>\n",
              "      <td>68.952899</td>\n",
              "      <td>5.048214</td>\n",
              "      <td>25.765568</td>\n",
              "      <td>6.179211</td>\n",
              "    </tr>\n",
              "    <tr>\n",
              "      <th>MntMeatProducts</th>\n",
              "      <td>464.625000</td>\n",
              "      <td>27.550000</td>\n",
              "      <td>152.741758</td>\n",
              "      <td>26.460573</td>\n",
              "    </tr>\n",
              "    <tr>\n",
              "      <th>MntFishProducts</th>\n",
              "      <td>100.442029</td>\n",
              "      <td>6.705357</td>\n",
              "      <td>34.595238</td>\n",
              "      <td>9.528674</td>\n",
              "    </tr>\n",
              "    <tr>\n",
              "      <th>MntSweetProducts</th>\n",
              "      <td>71.387681</td>\n",
              "      <td>4.846429</td>\n",
              "      <td>26.053114</td>\n",
              "      <td>6.363799</td>\n",
              "    </tr>\n",
              "    <tr>\n",
              "      <th>MntGoldProds</th>\n",
              "      <td>77.164855</td>\n",
              "      <td>15.160714</td>\n",
              "      <td>67.078755</td>\n",
              "      <td>17.413978</td>\n",
              "    </tr>\n",
              "    <tr>\n",
              "      <th>NumDealsPurchases</th>\n",
              "      <td>1.253623</td>\n",
              "      <td>2.425000</td>\n",
              "      <td>3.732601</td>\n",
              "      <td>1.901434</td>\n",
              "    </tr>\n",
              "    <tr>\n",
              "      <th>NumWebPurchases</th>\n",
              "      <td>5.050725</td>\n",
              "      <td>2.392857</td>\n",
              "      <td>6.723443</td>\n",
              "      <td>2.247312</td>\n",
              "    </tr>\n",
              "    <tr>\n",
              "      <th>NumCatalogPurchases</th>\n",
              "      <td>6.101449</td>\n",
              "      <td>0.775000</td>\n",
              "      <td>3.344322</td>\n",
              "      <td>0.521505</td>\n",
              "    </tr>\n",
              "    <tr>\n",
              "      <th>NumStorePurchases</th>\n",
              "      <td>8.394928</td>\n",
              "      <td>3.700000</td>\n",
              "      <td>8.084249</td>\n",
              "      <td>3.109319</td>\n",
              "    </tr>\n",
              "    <tr>\n",
              "      <th>NumWebVisitsMonth</th>\n",
              "      <td>2.722826</td>\n",
              "      <td>5.773214</td>\n",
              "      <td>5.767399</td>\n",
              "      <td>6.992832</td>\n",
              "    </tr>\n",
              "    <tr>\n",
              "      <th>AcceptedCmp3</th>\n",
              "      <td>0.081522</td>\n",
              "      <td>0.046429</td>\n",
              "      <td>0.075092</td>\n",
              "      <td>0.091398</td>\n",
              "    </tr>\n",
              "    <tr>\n",
              "      <th>AcceptedCmp4</th>\n",
              "      <td>0.117754</td>\n",
              "      <td>0.032143</td>\n",
              "      <td>0.144689</td>\n",
              "      <td>0.003584</td>\n",
              "    </tr>\n",
              "    <tr>\n",
              "      <th>AcceptedCmp5</th>\n",
              "      <td>0.260870</td>\n",
              "      <td>0.000000</td>\n",
              "      <td>0.032967</td>\n",
              "      <td>0.000000</td>\n",
              "    </tr>\n",
              "    <tr>\n",
              "      <th>AcceptedCmp1</th>\n",
              "      <td>0.210145</td>\n",
              "      <td>0.007143</td>\n",
              "      <td>0.038462</td>\n",
              "      <td>0.001792</td>\n",
              "    </tr>\n",
              "    <tr>\n",
              "      <th>AcceptedCmp2</th>\n",
              "      <td>0.028986</td>\n",
              "      <td>0.003571</td>\n",
              "      <td>0.021978</td>\n",
              "      <td>0.000000</td>\n",
              "    </tr>\n",
              "    <tr>\n",
              "      <th>Complain</th>\n",
              "      <td>0.005435</td>\n",
              "      <td>0.010714</td>\n",
              "      <td>0.009158</td>\n",
              "      <td>0.012545</td>\n",
              "    </tr>\n",
              "    <tr>\n",
              "      <th>TotalMntSpent</th>\n",
              "      <td>1395.108696</td>\n",
              "      <td>133.566071</td>\n",
              "      <td>814.589744</td>\n",
              "      <td>99.670251</td>\n",
              "    </tr>\n",
              "    <tr>\n",
              "      <th>Income_int</th>\n",
              "      <td>77628.579710</td>\n",
              "      <td>43112.717857</td>\n",
              "      <td>59259.254579</td>\n",
              "      <td>29444.906810</td>\n",
              "    </tr>\n",
              "    <tr>\n",
              "      <th>DaysSinceJoined</th>\n",
              "      <td>352.701087</td>\n",
              "      <td>298.458929</td>\n",
              "      <td>420.826007</td>\n",
              "      <td>343.734767</td>\n",
              "    </tr>\n",
              "    <tr>\n",
              "      <th>Age</th>\n",
              "      <td>46.621377</td>\n",
              "      <td>51.796429</td>\n",
              "      <td>49.857143</td>\n",
              "      <td>36.507168</td>\n",
              "    </tr>\n",
              "  </tbody>\n",
              "</table>\n",
              "</div>"
            ],
            "text/plain": [
              "kmeans cluster                  0             1             2             3\n",
              "Kidhome                  0.036232      0.660714      0.199634      0.860215\n",
              "Teenhome                 0.148551      0.957143      0.904762      0.014337\n",
              "Recency                 49.849638     50.300000     47.507326     48.365591\n",
              "MntWines               612.536232     74.255357    508.355311     33.724014\n",
              "MntFruits               68.952899      5.048214     25.765568      6.179211\n",
              "MntMeatProducts        464.625000     27.550000    152.741758     26.460573\n",
              "MntFishProducts        100.442029      6.705357     34.595238      9.528674\n",
              "MntSweetProducts        71.387681      4.846429     26.053114      6.363799\n",
              "MntGoldProds            77.164855     15.160714     67.078755     17.413978\n",
              "NumDealsPurchases        1.253623      2.425000      3.732601      1.901434\n",
              "NumWebPurchases          5.050725      2.392857      6.723443      2.247312\n",
              "NumCatalogPurchases      6.101449      0.775000      3.344322      0.521505\n",
              "NumStorePurchases        8.394928      3.700000      8.084249      3.109319\n",
              "NumWebVisitsMonth        2.722826      5.773214      5.767399      6.992832\n",
              "AcceptedCmp3             0.081522      0.046429      0.075092      0.091398\n",
              "AcceptedCmp4             0.117754      0.032143      0.144689      0.003584\n",
              "AcceptedCmp5             0.260870      0.000000      0.032967      0.000000\n",
              "AcceptedCmp1             0.210145      0.007143      0.038462      0.001792\n",
              "AcceptedCmp2             0.028986      0.003571      0.021978      0.000000\n",
              "Complain                 0.005435      0.010714      0.009158      0.012545\n",
              "TotalMntSpent         1395.108696    133.566071    814.589744     99.670251\n",
              "Income_int           77628.579710  43112.717857  59259.254579  29444.906810\n",
              "DaysSinceJoined        352.701087    298.458929    420.826007    343.734767\n",
              "Age                     46.621377     51.796429     49.857143     36.507168"
            ]
          },
          "execution_count": 54,
          "metadata": {
            "tags": []
          },
          "output_type": "execute_result"
        }
      ],
      "source": [
        "# profiles for each customer segment\n",
        "\n",
        "profile = marketing4.groupby(\"kmeans cluster\").mean()\n",
        "\n",
        "profile.T"
      ]
    },
    {
      "cell_type": "code",
      "execution_count": null,
      "metadata": {
        "id": "n5bETaTufpsF"
      },
      "outputs": [],
      "source": []
    },
    {
      "cell_type": "code",
      "execution_count": null,
      "metadata": {
        "colab": {
          "base_uri": "https://localhost:8080/",
          "height": 312
        },
        "id": "YCXBGfKNyB0W",
        "outputId": "bc3c2274-629e-4b70-9e3a-f31180d4c668"
      },
      "outputs": [
        {
          "data": {
            "text/plain": [
              "Text(0.5, 1.0, 'Heatmap of Correlations between each Cluster and the Variables')"
            ]
          },
          "execution_count": 55,
          "metadata": {
            "tags": []
          },
          "output_type": "execute_result"
        },
        {
          "data": {
            "image/png": "[encoded data removed]",
            "text/plain": [
              "<Figure size 432x288 with 2 Axes>"
            ]
          },
          "metadata": {
            "needs_background": "light",
            "tags": []
          },
          "output_type": "display_data"
        }
      ],
      "source": [
        "# heatmap showing correlations between each cluster and all the variables\n",
        "\n",
        "scp = StandardScaler()\n",
        "cluster_scaled = scp.fit_transform(profile)\n",
        "#form dataframe\n",
        "cluster_scaled = pd.DataFrame(cluster_scaled, \n",
        "                              index=profile.index, \n",
        "                              columns=profile.columns)\n",
        "cluster_scaled_tran=pd.DataFrame.transpose(cluster_scaled)\n",
        "g = sns.heatmap(cluster_scaled_tran, cmap=\"Blues\", center=0)\n",
        "g.set_title('Heatmap of Correlations between each Cluster and the Variables')"
      ]
    },
    {
      "cell_type": "code",
      "execution_count": null,
      "metadata": {
        "colab": {
          "base_uri": "https://localhost:8080/",
          "height": 241
        },
        "id": "r4pBzXb9Z3dD",
        "outputId": "844a6b52-abb1-4f4d-9291-2c3bfa2c785d"
      },
      "outputs": [
        {
          "data": {
            "text/html": [
              "<div>\n",
              "<style scoped>\n",
              "    .dataframe tbody tr th:only-of-type {\n",
              "        vertical-align: middle;\n",
              "    }\n",
              "\n",
              "    .dataframe tbody tr th {\n",
              "        vertical-align: top;\n",
              "    }\n",
              "\n",
              "    .dataframe thead th {\n",
              "        text-align: right;\n",
              "    }\n",
              "</style>\n",
              "<table border=\"1\" class=\"dataframe\">\n",
              "  <thead>\n",
              "    <tr style=\"text-align: right;\">\n",
              "      <th></th>\n",
              "      <th>Kidhome</th>\n",
              "      <th>Teenhome</th>\n",
              "      <th>Recency</th>\n",
              "      <th>MntWines</th>\n",
              "      <th>MntFruits</th>\n",
              "      <th>MntMeatProducts</th>\n",
              "      <th>MntFishProducts</th>\n",
              "      <th>MntSweetProducts</th>\n",
              "      <th>MntGoldProds</th>\n",
              "      <th>NumDealsPurchases</th>\n",
              "      <th>NumWebPurchases</th>\n",
              "      <th>NumCatalogPurchases</th>\n",
              "      <th>NumStorePurchases</th>\n",
              "      <th>NumWebVisitsMonth</th>\n",
              "      <th>AcceptedCmp3</th>\n",
              "      <th>AcceptedCmp4</th>\n",
              "      <th>AcceptedCmp5</th>\n",
              "      <th>AcceptedCmp1</th>\n",
              "      <th>AcceptedCmp2</th>\n",
              "      <th>Complain</th>\n",
              "      <th>TotalMntSpent</th>\n",
              "      <th>Income_int</th>\n",
              "      <th>DaysSinceJoined</th>\n",
              "      <th>Age</th>\n",
              "    </tr>\n",
              "    <tr>\n",
              "      <th>kmeans cluster</th>\n",
              "      <th></th>\n",
              "      <th></th>\n",
              "      <th></th>\n",
              "      <th></th>\n",
              "      <th></th>\n",
              "      <th></th>\n",
              "      <th></th>\n",
              "      <th></th>\n",
              "      <th></th>\n",
              "      <th></th>\n",
              "      <th></th>\n",
              "      <th></th>\n",
              "      <th></th>\n",
              "      <th></th>\n",
              "      <th></th>\n",
              "      <th></th>\n",
              "      <th></th>\n",
              "      <th></th>\n",
              "      <th></th>\n",
              "      <th></th>\n",
              "      <th></th>\n",
              "      <th></th>\n",
              "      <th></th>\n",
              "      <th></th>\n",
              "    </tr>\n",
              "  </thead>\n",
              "  <tbody>\n",
              "    <tr>\n",
              "      <th>0</th>\n",
              "      <td>-1.206659</td>\n",
              "      <td>-0.836020</td>\n",
              "      <td>0.751722</td>\n",
              "      <td>1.191283</td>\n",
              "      <td>1.641877</td>\n",
              "      <td>1.659192</td>\n",
              "      <td>1.658892</td>\n",
              "      <td>1.645970</td>\n",
              "      <td>1.170659</td>\n",
              "      <td>-1.179719</td>\n",
              "      <td>0.503879</td>\n",
              "      <td>1.511258</td>\n",
              "      <td>1.059223</td>\n",
              "      <td>-1.643031</td>\n",
              "      <td>0.472815</td>\n",
              "      <td>0.740510</td>\n",
              "      <td>1.718805</td>\n",
              "      <td>1.708548</td>\n",
              "      <td>1.261447</td>\n",
              "      <td>-1.539519</td>\n",
              "      <td>1.465625</td>\n",
              "      <td>1.403347</td>\n",
              "      <td>-0.028092</td>\n",
              "      <td>0.072286</td>\n",
              "    </tr>\n",
              "    <tr>\n",
              "      <th>1</th>\n",
              "      <td>0.663314</td>\n",
              "      <td>1.054108</td>\n",
              "      <td>1.152845</td>\n",
              "      <td>-0.908966</td>\n",
              "      <td>-0.828866</td>\n",
              "      <td>-0.784334</td>\n",
              "      <td>-0.824158</td>\n",
              "      <td>-0.830572</td>\n",
              "      <td>-1.031558</td>\n",
              "      <td>0.106314</td>\n",
              "      <td>-0.910107</td>\n",
              "      <td>-0.845276</td>\n",
              "      <td>-0.873678</td>\n",
              "      <td>0.291132</td>\n",
              "      <td>-1.624377</td>\n",
              "      <td>-0.726598</td>\n",
              "      <td>-0.673719</td>\n",
              "      <td>-0.670979</td>\n",
              "      <td>-0.826815</td>\n",
              "      <td>0.478299</td>\n",
              "      <td>-0.891600</td>\n",
              "      <td>-0.513672</td>\n",
              "      <td>-1.267806</td>\n",
              "      <td>0.950729</td>\n",
              "    </tr>\n",
              "    <tr>\n",
              "      <th>2</th>\n",
              "      <td>-0.717362</td>\n",
              "      <td>0.931664</td>\n",
              "      <td>-1.334498</td>\n",
              "      <td>0.784793</td>\n",
              "      <td>-0.027872</td>\n",
              "      <td>-0.084433</td>\n",
              "      <td>-0.085365</td>\n",
              "      <td>-0.041299</td>\n",
              "      <td>0.812428</td>\n",
              "      <td>1.541904</td>\n",
              "      <td>1.393765</td>\n",
              "      <td>0.291446</td>\n",
              "      <td>0.931317</td>\n",
              "      <td>0.287444</td>\n",
              "      <td>0.088544</td>\n",
              "      <td>1.202094</td>\n",
              "      <td>-0.371367</td>\n",
              "      <td>-0.303871</td>\n",
              "      <td>0.685645</td>\n",
              "      <td>-0.116699</td>\n",
              "      <td>0.380910</td>\n",
              "      <td>0.383111</td>\n",
              "      <td>1.528915</td>\n",
              "      <td>0.621544</td>\n",
              "    </tr>\n",
              "    <tr>\n",
              "      <th>3</th>\n",
              "      <td>1.260707</td>\n",
              "      <td>-1.149752</td>\n",
              "      <td>-0.570069</td>\n",
              "      <td>-1.067110</td>\n",
              "      <td>-0.785139</td>\n",
              "      <td>-0.790425</td>\n",
              "      <td>-0.749369</td>\n",
              "      <td>-0.774099</td>\n",
              "      <td>-0.951528</td>\n",
              "      <td>-0.468500</td>\n",
              "      <td>-0.987537</td>\n",
              "      <td>-0.957428</td>\n",
              "      <td>-1.116862</td>\n",
              "      <td>1.064456</td>\n",
              "      <td>1.063018</td>\n",
              "      <td>-1.216006</td>\n",
              "      <td>-0.673719</td>\n",
              "      <td>-0.733698</td>\n",
              "      <td>-1.120277</td>\n",
              "      <td>1.177919</td>\n",
              "      <td>-0.954935</td>\n",
              "      <td>-1.272786</td>\n",
              "      <td>-0.233018</td>\n",
              "      <td>-1.644558</td>\n",
              "    </tr>\n",
              "  </tbody>\n",
              "</table>\n",
              "</div>"
            ],
            "text/plain": [
              "                 Kidhome  Teenhome  ...  DaysSinceJoined       Age\n",
              "kmeans cluster                      ...                           \n",
              "0              -1.206659 -0.836020  ...        -0.028092  0.072286\n",
              "1               0.663314  1.054108  ...        -1.267806  0.950729\n",
              "2              -0.717362  0.931664  ...         1.528915  0.621544\n",
              "3               1.260707 -1.149752  ...        -0.233018 -1.644558\n",
              "\n",
              "[4 rows x 24 columns]"
            ]
          },
          "execution_count": 56,
          "metadata": {
            "tags": []
          },
          "output_type": "execute_result"
        }
      ],
      "source": [
        "cluster_scaled.head()"
      ]
    },
    {
      "cell_type": "code",
      "execution_count": null,
      "metadata": {
        "colab": {
          "base_uri": "https://localhost:8080/",
          "height": 401
        },
        "id": "9XhDsS2CVk1k",
        "outputId": "f702029c-310c-4083-e2d1-1bdfe04a772f"
      },
      "outputs": [
        {
          "data": {
            "text/plain": [
              "Text(0.5, 1.0, 'Heatmap of Correlations between each Cluster and the Variables')"
            ]
          },
          "execution_count": 97,
          "metadata": {
            "tags": []
          },
          "output_type": "execute_result"
        },
        {
          "data": {
            "image/png": "[encoded data removed]",
            "text/plain": [
              "<Figure size 432x288 with 2 Axes>"
            ]
          },
          "metadata": {
            "needs_background": "light",
            "tags": []
          },
          "output_type": "display_data"
        }
      ],
      "source": [
        "# the heatmap above that was turned doesn't show all of the variables... so I put this one back\n",
        "scp = StandardScaler()\n",
        "cluster_scaled = scp.fit_transform(profile)\n",
        "\n",
        "cluster_scaled = pd.DataFrame(cluster_scaled, \n",
        "                              index=profile.index, \n",
        "                              columns=profile.columns)\n",
        "\n",
        "g = sns.heatmap(cluster_scaled, cmap=\"Blues\", center=0)\n",
        "g.set_title('Heatmap of Correlations between each Cluster and the Variables')"
      ]
    },
    {
      "cell_type": "code",
      "execution_count": null,
      "metadata": {
        "colab": {
          "base_uri": "https://localhost:8080/",
          "height": 296
        },
        "id": "nL_C968XBcUC",
        "outputId": "e1222856-b68d-4b60-fbde-f9ea45abc6dc"
      },
      "outputs": [
        {
          "data": {
            "text/plain": [
              "<matplotlib.axes._subplots.AxesSubplot at 0x7f92b252a210>"
            ]
          },
          "execution_count": 65,
          "metadata": {
            "tags": []
          },
          "output_type": "execute_result"
        },
        {
          "data": {
            "image/png": "[encoded data removed]",
            "text/plain": [
              "<Figure size 432x288 with 1 Axes>"
            ]
          },
          "metadata": {
            "needs_background": "light",
            "tags": []
          },
          "output_type": "display_data"
        }
      ],
      "source": [
        "#deal purchase vs cluster\n",
        "sns.barplot(data=marketing4,y='NumDealsPurchases',x='kmeans cluster')"
      ]
    },
    {
      "cell_type": "code",
      "execution_count": null,
      "metadata": {
        "colab": {
          "base_uri": "https://localhost:8080/",
          "height": 296
        },
        "id": "6YiP8-T0B5oL",
        "outputId": "4b50795d-ab77-418f-d3cc-d38d575e38e7"
      },
      "outputs": [
        {
          "data": {
            "text/plain": [
              "<matplotlib.axes._subplots.AxesSubplot at 0x7f92b24addd0>"
            ]
          },
          "execution_count": 66,
          "metadata": {
            "tags": []
          },
          "output_type": "execute_result"
        },
        {
          "data": {
            "image/png": "[encoded data removed]",
            "text/plain": [
              "<Figure size 432x288 with 1 Axes>"
            ]
          },
          "metadata": {
            "needs_background": "light",
            "tags": []
          },
          "output_type": "display_data"
        }
      ],
      "source": [
        "#web visit vs cluster\n",
        "sns.barplot(data=marketing4,y='NumWebVisitsMonth',x='kmeans cluster')"
      ]
    },
    {
      "cell_type": "code",
      "execution_count": null,
      "metadata": {
        "colab": {
          "base_uri": "https://localhost:8080/",
          "height": 296
        },
        "id": "LuB8HTc1BgY8",
        "outputId": "b889c3ad-2195-4891-8028-f882f6c11ea0"
      },
      "outputs": [
        {
          "data": {
            "text/plain": [
              "<matplotlib.axes._subplots.AxesSubplot at 0x7f92b241d1d0>"
            ]
          },
          "execution_count": 67,
          "metadata": {
            "tags": []
          },
          "output_type": "execute_result"
        },
        {
          "data": {
            "image/png": "[encoded data removed]",
            "text/plain": [
              "<Figure size 432x288 with 1 Axes>"
            ]
          },
          "metadata": {
            "needs_background": "light",
            "tags": []
          },
          "output_type": "display_data"
        }
      ],
      "source": [
        "#web purchase vs cluster\n",
        "sns.barplot(data=marketing4,y='NumWebPurchases',x='kmeans cluster')"
      ]
    },
    {
      "cell_type": "code",
      "execution_count": null,
      "metadata": {
        "colab": {
          "base_uri": "https://localhost:8080/",
          "height": 296
        },
        "id": "nCGTXK_pBwKj",
        "outputId": "8709088b-c592-4157-a56d-eefd1e03de9b"
      },
      "outputs": [
        {
          "data": {
            "text/plain": [
              "<matplotlib.axes._subplots.AxesSubplot at 0x7f92b24010d0>"
            ]
          },
          "execution_count": 68,
          "metadata": {
            "tags": []
          },
          "output_type": "execute_result"
        },
        {
          "data": {
            "image/png": "[encoded data removed]",
            "text/plain": [
              "<Figure size 432x288 with 1 Axes>"
            ]
          },
          "metadata": {
            "needs_background": "light",
            "tags": []
          },
          "output_type": "display_data"
        }
      ],
      "source": [
        "#catalog purchase vs cluster\n",
        "sns.barplot(data=marketing4,y='NumCatalogPurchases',x='kmeans cluster')"
      ]
    },
    {
      "cell_type": "code",
      "execution_count": null,
      "metadata": {
        "colab": {
          "base_uri": "https://localhost:8080/",
          "height": 296
        },
        "id": "hmAjIiWy43aH",
        "outputId": "1a28b896-5420-4b59-d246-1d2ae2fb54f2"
      },
      "outputs": [
        {
          "data": {
            "text/plain": [
              "<matplotlib.axes._subplots.AxesSubplot at 0x7f92b2391750>"
            ]
          },
          "execution_count": 69,
          "metadata": {
            "tags": []
          },
          "output_type": "execute_result"
        },
        {
          "data": {
            "image/png": "[encoded data removed]",
            "text/plain": [
              "<Figure size 432x288 with 1 Axes>"
            ]
          },
          "metadata": {
            "needs_background": "light",
            "tags": []
          },
          "output_type": "display_data"
        }
      ],
      "source": [
        "# group0 has the most complain and spent the least, maybe the mall can send them a survey to know what the mall need to improve\n",
        "sns.barplot(data=marketing4,y='Complain',x='kmeans cluster')"
      ]
    },
    {
      "cell_type": "code",
      "execution_count": null,
      "metadata": {
        "colab": {
          "base_uri": "https://localhost:8080/",
          "height": 296
        },
        "id": "vaiMU1aB8qGt",
        "outputId": "0bf5b513-491d-436e-e485-cad1574f8037"
      },
      "outputs": [
        {
          "data": {
            "text/plain": [
              "<matplotlib.axes._subplots.AxesSubplot at 0x7f92b22f0410>"
            ]
          },
          "execution_count": 70,
          "metadata": {
            "tags": []
          },
          "output_type": "execute_result"
        },
        {
          "data": {
            "image/png": "[encoded data removed]",
            "text/plain": [
              "<Figure size 432x288 with 1 Axes>"
            ]
          },
          "metadata": {
            "needs_background": "light",
            "tags": []
          },
          "output_type": "display_data"
        }
      ],
      "source": [
        "#wine vs cluster\n",
        "sns.barplot(data=marketing4,y='MntWines',x='kmeans cluster')"
      ]
    },
    {
      "cell_type": "code",
      "execution_count": null,
      "metadata": {
        "colab": {
          "base_uri": "https://localhost:8080/",
          "height": 296
        },
        "id": "C8WHnF3v4ZKK",
        "outputId": "be625984-00fb-4e29-f598-a61e89effe45"
      },
      "outputs": [
        {
          "data": {
            "text/plain": [
              "<matplotlib.axes._subplots.AxesSubplot at 0x7f92b226f6d0>"
            ]
          },
          "execution_count": 71,
          "metadata": {
            "tags": []
          },
          "output_type": "execute_result"
        },
        {
          "data": {
            "image/png": "[encoded data removed]",
            "text/plain": [
              "<Figure size 432x288 with 1 Axes>"
            ]
          },
          "metadata": {
            "needs_background": "light",
            "tags": []
          },
          "output_type": "display_data"
        }
      ],
      "source": [
        "# group 0 has lagrgest numbers of deal purchases, may give more deals to this group\n",
        "sns.barplot(data=marketing4,y='MntFruits',x='kmeans cluster')"
      ]
    },
    {
      "cell_type": "code",
      "execution_count": null,
      "metadata": {
        "colab": {
          "base_uri": "https://localhost:8080/",
          "height": 296
        },
        "id": "QIAXbFhE9-xh",
        "outputId": "fda928d7-8b52-47aa-9b44-54f6449a4a21"
      },
      "outputs": [
        {
          "data": {
            "text/plain": [
              "<matplotlib.axes._subplots.AxesSubplot at 0x7f92b21e7950>"
            ]
          },
          "execution_count": 72,
          "metadata": {
            "tags": []
          },
          "output_type": "execute_result"
        },
        {
          "data": {
            "image/png": "[encoded data removed]",
            "text/plain": [
              "<Figure size 432x288 with 1 Axes>"
            ]
          },
          "metadata": {
            "needs_background": "light",
            "tags": []
          },
          "output_type": "display_data"
        }
      ],
      "source": [
        "# group 0 puchased the most Meat on average\n",
        "sns.barplot(data=marketing4,y='MntMeatProducts',x='kmeans cluster')"
      ]
    },
    {
      "cell_type": "code",
      "execution_count": null,
      "metadata": {
        "colab": {
          "base_uri": "https://localhost:8080/",
          "height": 296
        },
        "id": "BNOomksN-cxG",
        "outputId": "72e76c39-3bfd-409b-de6a-9045abd77d73"
      },
      "outputs": [
        {
          "data": {
            "text/plain": [
              "<matplotlib.axes._subplots.AxesSubplot at 0x7f92b2156f90>"
            ]
          },
          "execution_count": 73,
          "metadata": {
            "tags": []
          },
          "output_type": "execute_result"
        },
        {
          "data": {
            "image/png": "[encoded data removed]",
            "text/plain": [
              "<Figure size 432x288 with 1 Axes>"
            ]
          },
          "metadata": {
            "needs_background": "light",
            "tags": []
          },
          "output_type": "display_data"
        }
      ],
      "source": [
        "# group2 puchased the most fish on average\n",
        "sns.barplot(data=marketing4,y='MntFishProducts',x='kmeans cluster')"
      ]
    },
    {
      "cell_type": "code",
      "execution_count": null,
      "metadata": {
        "colab": {
          "base_uri": "https://localhost:8080/",
          "height": 296
        },
        "id": "pdqVq67RA0WF",
        "outputId": "7a8e1175-901c-48a7-c09e-c483a943503f"
      },
      "outputs": [
        {
          "data": {
            "text/plain": [
              "<matplotlib.axes._subplots.AxesSubplot at 0x7f92b213bd50>"
            ]
          },
          "execution_count": 74,
          "metadata": {
            "tags": []
          },
          "output_type": "execute_result"
        },
        {
          "data": {
            "image/png": "[encoded data removed]",
            "text/plain": [
              "<Figure size 432x288 with 1 Axes>"
            ]
          },
          "metadata": {
            "needs_background": "light",
            "tags": []
          },
          "output_type": "display_data"
        }
      ],
      "source": [
        "# group2 puchased the most sweet on average\n",
        "sns.barplot(data=marketing4,y='MntSweetProducts',x='kmeans cluster')"
      ]
    },
    {
      "cell_type": "code",
      "execution_count": null,
      "metadata": {
        "colab": {
          "base_uri": "https://localhost:8080/",
          "height": 296
        },
        "id": "LrSHP5uuA82J",
        "outputId": "7bbc8027-61f2-4d22-91e8-d6d28704467f"
      },
      "outputs": [
        {
          "data": {
            "text/plain": [
              "<matplotlib.axes._subplots.AxesSubplot at 0x7f92b542e990>"
            ]
          },
          "execution_count": 75,
          "metadata": {
            "tags": []
          },
          "output_type": "execute_result"
        },
        {
          "data": {
            "image/png": "[encoded data removed]",
            "text/plain": [
              "<Figure size 432x288 with 1 Axes>"
            ]
          },
          "metadata": {
            "needs_background": "light",
            "tags": []
          },
          "output_type": "display_data"
        }
      ],
      "source": [
        "# group2 puchased the most gold on average\n",
        "sns.barplot(data=marketing4,y='MntGoldProds',x='kmeans cluster')"
      ]
    },
    {
      "cell_type": "code",
      "execution_count": null,
      "metadata": {
        "colab": {
          "base_uri": "https://localhost:8080/",
          "height": 296
        },
        "id": "1i_Aei4p5Qk-",
        "outputId": "a928138f-220a-4b22-f024-0aa72b9d9389"
      },
      "outputs": [
        {
          "data": {
            "text/plain": [
              "<matplotlib.axes._subplots.AxesSubplot at 0x7f92b213ba50>"
            ]
          },
          "execution_count": 76,
          "metadata": {
            "tags": []
          },
          "output_type": "execute_result"
        },
        {
          "data": {
            "image/png": "[encoded data removed]",
            "text/plain": [
              "<Figure size 432x288 with 1 Axes>"
            ]
          },
          "metadata": {
            "needs_background": "light",
            "tags": []
          },
          "output_type": "display_data"
        }
      ],
      "source": [
        "# Group 0 spent the most total\n",
        "sns.barplot(data=marketing4,y='TotalMntSpent',x='kmeans cluster')"
      ]
    },
    {
      "cell_type": "code",
      "execution_count": null,
      "metadata": {
        "id": "1cpR9r19xspt"
      },
      "outputs": [],
      "source": []
    }
  ],
  "metadata": {
    "colab": {
      "collapsed_sections": [],
      "name": "Marketing Analytics Supervised ML Project",
      "provenance": []
    },
    "kernelspec": {
      "display_name": "Python 3",
      "name": "python3"
    }
  },
  "nbformat": 4,
  "nbformat_minor": 0
}
